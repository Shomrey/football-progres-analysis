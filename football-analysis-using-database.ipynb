{
 "cells": [
  {
   "cell_type": "code",
   "execution_count": 2,
   "id": "sonic-portfolio",
   "metadata": {},
   "outputs": [],
   "source": [
    "import pandas as pd\n",
    "import sqlite3"
   ]
  },
  {
   "cell_type": "markdown",
   "id": "simplified-agenda",
   "metadata": {},
   "source": [
    "## Connect to sqlite database with players data"
   ]
  },
  {
   "cell_type": "code",
   "execution_count": 3,
   "id": "portable-snapshot",
   "metadata": {},
   "outputs": [
    {
     "name": "stdout",
     "output_type": "stream",
     "text": [
      "        id       player_name  current_value  \\\n",
      "0        1  Thibaut Courtois       35000000   \n",
      "1        2     Asmir Begovic       12000000   \n",
      "2        3    Jamal Blackman         250000   \n",
      "3        4      Marco Amelia         250000   \n",
      "4        5        Kurt Zouma       17000000   \n",
      "...    ...               ...            ...   \n",
      "4378  4379  Robert Snodgrass        2000000   \n",
      "4379  4380      Karlan Grant        9000000   \n",
      "4380  4381   Callum Robinson        6000000   \n",
      "4381  4382      Mbaye Diagne        3000000   \n",
      "4382  4383   Hal Robson-Kanu        1800000   \n",
      "\n",
      "                                          url  current_club_id  season  \\\n",
      "0     /thibaut-courtois/profil/spieler/108390                1    2015   \n",
      "1         /asmir-begovic/profil/spieler/33873                1    2015   \n",
      "2       /jamal-blackman/profil/spieler/128898                1    2015   \n",
      "3          /marco-amelia/profil/spieler/16810                1    2015   \n",
      "4           /kurt-zouma/profil/spieler/157509                1    2015   \n",
      "...                                       ...              ...     ...   \n",
      "4378   /robert-snodgrass/profil/spieler/22614              120    2020   \n",
      "4379      /karlan-grant/profil/spieler/314183              120    2020   \n",
      "4380   /callum-robinson/profil/spieler/183299              120    2020   \n",
      "4381      /mbaye-diagne/profil/spieler/271966              120    2020   \n",
      "4382    /hal-robson-kanu/profil/spieler/65976              120    2020   \n",
      "\n",
      "      global_transfermarkt_id  \n",
      "0                           1  \n",
      "1                           2  \n",
      "2                           3  \n",
      "3                           4  \n",
      "4                           5  \n",
      "...                       ...  \n",
      "4378                      867  \n",
      "4379                     1460  \n",
      "4380                      617  \n",
      "4381                     1847  \n",
      "4382                      999  \n",
      "\n",
      "[4383 rows x 7 columns]\n"
     ]
    }
   ],
   "source": [
    "cnx = sqlite3.connect('Database/fpa-database-fix.db')\n",
    "\n",
    "df_players = pd.read_sql_query(\"SELECT * FROM players_transfermarkt\", cnx)\n",
    "print(df_players)"
   ]
  },
  {
   "cell_type": "code",
   "execution_count": 4,
   "id": "likely-spyware",
   "metadata": {},
   "outputs": [
    {
     "ename": "AttributeError",
     "evalue": "'DataFrame' object has no attribute 'player_position'",
     "output_type": "error",
     "traceback": [
      "\u001B[1;31m---------------------------------------------------------------------------\u001B[0m",
      "\u001B[1;31mAttributeError\u001B[0m                            Traceback (most recent call last)",
      "\u001B[1;32m<ipython-input-4-d6d9a48647c7>\u001B[0m in \u001B[0;36m<module>\u001B[1;34m\u001B[0m\n\u001B[0;32m      1\u001B[0m \u001B[1;31m# Lista pozycji\u001B[0m\u001B[1;33m\u001B[0m\u001B[1;33m\u001B[0m\u001B[1;33m\u001B[0m\u001B[0m\n\u001B[1;32m----> 2\u001B[1;33m \u001B[0mpositions\u001B[0m \u001B[1;33m=\u001B[0m \u001B[0mdf_players\u001B[0m\u001B[1;33m.\u001B[0m\u001B[0mplayer_position\u001B[0m\u001B[1;33m.\u001B[0m\u001B[0munique\u001B[0m\u001B[1;33m(\u001B[0m\u001B[1;33m)\u001B[0m\u001B[1;33m\u001B[0m\u001B[1;33m\u001B[0m\u001B[0m\n\u001B[0m\u001B[0;32m      3\u001B[0m \u001B[0mpositions\u001B[0m\u001B[1;33m\u001B[0m\u001B[1;33m\u001B[0m\u001B[0m\n\u001B[0;32m      4\u001B[0m \u001B[1;33m\u001B[0m\u001B[0m\n",
      "\u001B[1;32mc:\\users\\kbien\\.virtualenvs\\football-progres-analysis-nfnrtldz\\lib\\site-packages\\pandas\\core\\generic.py\u001B[0m in \u001B[0;36m__getattr__\u001B[1;34m(self, name)\u001B[0m\n\u001B[0;32m   5463\u001B[0m             \u001B[1;32mif\u001B[0m \u001B[0mself\u001B[0m\u001B[1;33m.\u001B[0m\u001B[0m_info_axis\u001B[0m\u001B[1;33m.\u001B[0m\u001B[0m_can_hold_identifiers_and_holds_name\u001B[0m\u001B[1;33m(\u001B[0m\u001B[0mname\u001B[0m\u001B[1;33m)\u001B[0m\u001B[1;33m:\u001B[0m\u001B[1;33m\u001B[0m\u001B[1;33m\u001B[0m\u001B[0m\n\u001B[0;32m   5464\u001B[0m                 \u001B[1;32mreturn\u001B[0m \u001B[0mself\u001B[0m\u001B[1;33m[\u001B[0m\u001B[0mname\u001B[0m\u001B[1;33m]\u001B[0m\u001B[1;33m\u001B[0m\u001B[1;33m\u001B[0m\u001B[0m\n\u001B[1;32m-> 5465\u001B[1;33m             \u001B[1;32mreturn\u001B[0m \u001B[0mobject\u001B[0m\u001B[1;33m.\u001B[0m\u001B[0m__getattribute__\u001B[0m\u001B[1;33m(\u001B[0m\u001B[0mself\u001B[0m\u001B[1;33m,\u001B[0m \u001B[0mname\u001B[0m\u001B[1;33m)\u001B[0m\u001B[1;33m\u001B[0m\u001B[1;33m\u001B[0m\u001B[0m\n\u001B[0m\u001B[0;32m   5466\u001B[0m \u001B[1;33m\u001B[0m\u001B[0m\n\u001B[0;32m   5467\u001B[0m     \u001B[1;32mdef\u001B[0m \u001B[0m__setattr__\u001B[0m\u001B[1;33m(\u001B[0m\u001B[0mself\u001B[0m\u001B[1;33m,\u001B[0m \u001B[0mname\u001B[0m\u001B[1;33m:\u001B[0m \u001B[0mstr\u001B[0m\u001B[1;33m,\u001B[0m \u001B[0mvalue\u001B[0m\u001B[1;33m)\u001B[0m \u001B[1;33m->\u001B[0m \u001B[1;32mNone\u001B[0m\u001B[1;33m:\u001B[0m\u001B[1;33m\u001B[0m\u001B[1;33m\u001B[0m\u001B[0m\n",
      "\u001B[1;31mAttributeError\u001B[0m: 'DataFrame' object has no attribute 'player_position'"
     ]
    }
   ],
   "source": [
    "# Lista pozycji\n",
    "positions = df_players.player_position.unique()\n",
    "positions"
   ]
  },
  {
   "cell_type": "code",
   "execution_count": null,
   "id": "educated-venice",
   "metadata": {},
   "outputs": [],
   "source": [
    "df_players_best_players_for_position = pd.read_sql_query(\"SELECT max(current_value), current_club_id, player_position FROM players_transfermarkt group by current_club_id, player_position\", cnx)\n",
    "# if (cnx): cnx.close()\n",
    "\n",
    "print(df_players_best_players_for_position)"
   ]
  },
  {
   "cell_type": "markdown",
   "id": "false-buying",
   "metadata": {},
   "source": [
    "### Joining data from Fantasy Premier League"
   ]
  },
  {
   "cell_type": "code",
   "execution_count": 5,
   "id": "worthy-liberia",
   "metadata": {},
   "outputs": [],
   "source": [
    "players_with_values = pd.read_sql_query(\"SELECT * from players as p \" + \\\n",
    "                                        \"JOIN players_transfermarkt_fpl as ptf on ptf.player_id_fpl = p.guid \" + \\\n",
    "                                        \"JOIN players_transfermarkt_singles as pts on pts.id = ptf.player_id_transfermarkt \" +\n",
    "                                        \"JOIN player_statistics as ps on ps.guid = p.guid \" +\n",
    "                                        \"JOIN player_values as pv on pv.transfermarkt_player_id = pts.id \" +\n",
    "                                        \"WHERE strftime('%Y',pv.date_stamp) = ps.year\", cnx)"
   ]
  },
  {
   "cell_type": "code",
   "execution_count": 6,
   "id": "handmade-minutes",
   "metadata": {},
   "outputs": [
    {
     "data": {
      "text/plain": "     first_name second_name  guid   id  player_id_transfermarkt  \\\n0          Carl     Stewart   621  576                      909   \n1         Harry     Maguire   152  603                      939   \n2         David      Meyler   160  620                      958   \n3        Divock       Origi   216  135                      206   \n4        Nathan         Ake    35    6                        8   \n...         ...         ...   ...  ...                      ...   \n3650      Alfie      Mawson   557  593                      928   \n3651      Alfie      Mawson   557  593                      928   \n3652      Alfie      Mawson   557  593                      928   \n3653      Alfie      Mawson   557  593                      928   \n3654      Alfie      Mawson   557  593                      928   \n\n      player_id_fpl player_name_transfermarkt first_name second_name   id  \\\n0               621              Carl Stewart       Carl     Stewart  909   \n1               152             Harry Maguire      Harry     Maguire  939   \n2               160              David Meyler      David      Meyler  958   \n3               216              Divock Origi     Divock       Origi  206   \n4                35                Nathan Aké     Nathan         Ake    8   \n...             ...                       ...        ...         ...  ...   \n3650            557              Alfie Mawson      Alfie      Mawson  928   \n3651            557              Alfie Mawson      Alfie      Mawson  928   \n3652            557              Alfie Mawson      Alfie      Mawson  928   \n3653            557              Alfie Mawson      Alfie      Mawson  928   \n3654            557              Alfie Mawson      Alfie      Mawson  928   \n\n      ... selected_by_percent  year now_cost element_type     id  \\\n0     ...                 0.0  2016      NaN         None      5   \n1     ...                 0.8  2016      NaN         None     42   \n2     ...                 0.2  2016      NaN         None     90   \n3     ...                 0.3  2018     50.0         None    135   \n4     ...                 2.4  2020     54.0          DEF    174   \n...   ...                 ...   ...      ...          ...    ...   \n3650  ...                 0.1  2018     47.0         None  29059   \n3651  ...                 0.1  2018     47.0         None  29060   \n3652  ...                 0.0  2020     43.0          DEF  29063   \n3653  ...                 0.0  2020     43.0          DEF  29064   \n3654  ...                 0.0  2020     43.0          DEF  29065   \n\n     transfermarkt_player_id           date_stamp  player_value  \\\n0                        909  2016-04-01 00:00:00      65000000   \n1                        939  2016-04-20 00:00:00        250000   \n2                        958  2016-04-20 00:00:00        750000   \n3                        206  2018-04-04 00:00:00      10000000   \n4                          8  2020-04-08 00:00:00      28000000   \n...                      ...                  ...           ...   \n3650                     928  2018-05-02 00:00:00       4000000   \n3651                     928  2018-12-15 00:00:00       3500000   \n3652                     928  2020-04-08 00:00:00       2800000   \n3653                     928  2020-08-25 00:00:00       3500000   \n3654                     928  2020-12-29 00:00:00       5000000   \n\n             player_club                                     player_url  \n0            Juventus FC              /paul-pogba/profil/spieler/122153  \n1       Bolton Wanderers             /rob-holding/profil/spieler/253341  \n2           Ipswich Town  /ainsley-maitland-niles/profil/spieler/285845  \n3          VfL Wolfsburg            /divock-origi/profil/spieler/148368  \n4        AFC Bournemouth              /nathan-ake/profil/spieler/177476  \n...                  ...                                            ...  \n3650  Los Angeles Galaxy        /zlatan-ibrahimovic/profil/spieler/3455  \n3651  Los Angeles Galaxy        /zlatan-ibrahimovic/profil/spieler/3455  \n3652            AC Milan        /zlatan-ibrahimovic/profil/spieler/3455  \n3653            AC Milan        /zlatan-ibrahimovic/profil/spieler/3455  \n3654            AC Milan        /zlatan-ibrahimovic/profil/spieler/3455  \n\n[3655 rows x 41 columns]",
      "text/html": "<div>\n<style scoped>\n    .dataframe tbody tr th:only-of-type {\n        vertical-align: middle;\n    }\n\n    .dataframe tbody tr th {\n        vertical-align: top;\n    }\n\n    .dataframe thead th {\n        text-align: right;\n    }\n</style>\n<table border=\"1\" class=\"dataframe\">\n  <thead>\n    <tr style=\"text-align: right;\">\n      <th></th>\n      <th>first_name</th>\n      <th>second_name</th>\n      <th>guid</th>\n      <th>id</th>\n      <th>player_id_transfermarkt</th>\n      <th>player_id_fpl</th>\n      <th>player_name_transfermarkt</th>\n      <th>first_name</th>\n      <th>second_name</th>\n      <th>id</th>\n      <th>...</th>\n      <th>selected_by_percent</th>\n      <th>year</th>\n      <th>now_cost</th>\n      <th>element_type</th>\n      <th>id</th>\n      <th>transfermarkt_player_id</th>\n      <th>date_stamp</th>\n      <th>player_value</th>\n      <th>player_club</th>\n      <th>player_url</th>\n    </tr>\n  </thead>\n  <tbody>\n    <tr>\n      <th>0</th>\n      <td>Carl</td>\n      <td>Stewart</td>\n      <td>621</td>\n      <td>576</td>\n      <td>909</td>\n      <td>621</td>\n      <td>Carl Stewart</td>\n      <td>Carl</td>\n      <td>Stewart</td>\n      <td>909</td>\n      <td>...</td>\n      <td>0.0</td>\n      <td>2016</td>\n      <td>NaN</td>\n      <td>None</td>\n      <td>5</td>\n      <td>909</td>\n      <td>2016-04-01 00:00:00</td>\n      <td>65000000</td>\n      <td>Juventus FC</td>\n      <td>/paul-pogba/profil/spieler/122153</td>\n    </tr>\n    <tr>\n      <th>1</th>\n      <td>Harry</td>\n      <td>Maguire</td>\n      <td>152</td>\n      <td>603</td>\n      <td>939</td>\n      <td>152</td>\n      <td>Harry Maguire</td>\n      <td>Harry</td>\n      <td>Maguire</td>\n      <td>939</td>\n      <td>...</td>\n      <td>0.8</td>\n      <td>2016</td>\n      <td>NaN</td>\n      <td>None</td>\n      <td>42</td>\n      <td>939</td>\n      <td>2016-04-20 00:00:00</td>\n      <td>250000</td>\n      <td>Bolton Wanderers</td>\n      <td>/rob-holding/profil/spieler/253341</td>\n    </tr>\n    <tr>\n      <th>2</th>\n      <td>David</td>\n      <td>Meyler</td>\n      <td>160</td>\n      <td>620</td>\n      <td>958</td>\n      <td>160</td>\n      <td>David Meyler</td>\n      <td>David</td>\n      <td>Meyler</td>\n      <td>958</td>\n      <td>...</td>\n      <td>0.2</td>\n      <td>2016</td>\n      <td>NaN</td>\n      <td>None</td>\n      <td>90</td>\n      <td>958</td>\n      <td>2016-04-20 00:00:00</td>\n      <td>750000</td>\n      <td>Ipswich Town</td>\n      <td>/ainsley-maitland-niles/profil/spieler/285845</td>\n    </tr>\n    <tr>\n      <th>3</th>\n      <td>Divock</td>\n      <td>Origi</td>\n      <td>216</td>\n      <td>135</td>\n      <td>206</td>\n      <td>216</td>\n      <td>Divock Origi</td>\n      <td>Divock</td>\n      <td>Origi</td>\n      <td>206</td>\n      <td>...</td>\n      <td>0.3</td>\n      <td>2018</td>\n      <td>50.0</td>\n      <td>None</td>\n      <td>135</td>\n      <td>206</td>\n      <td>2018-04-04 00:00:00</td>\n      <td>10000000</td>\n      <td>VfL Wolfsburg</td>\n      <td>/divock-origi/profil/spieler/148368</td>\n    </tr>\n    <tr>\n      <th>4</th>\n      <td>Nathan</td>\n      <td>Ake</td>\n      <td>35</td>\n      <td>6</td>\n      <td>8</td>\n      <td>35</td>\n      <td>Nathan Aké</td>\n      <td>Nathan</td>\n      <td>Ake</td>\n      <td>8</td>\n      <td>...</td>\n      <td>2.4</td>\n      <td>2020</td>\n      <td>54.0</td>\n      <td>DEF</td>\n      <td>174</td>\n      <td>8</td>\n      <td>2020-04-08 00:00:00</td>\n      <td>28000000</td>\n      <td>AFC Bournemouth</td>\n      <td>/nathan-ake/profil/spieler/177476</td>\n    </tr>\n    <tr>\n      <th>...</th>\n      <td>...</td>\n      <td>...</td>\n      <td>...</td>\n      <td>...</td>\n      <td>...</td>\n      <td>...</td>\n      <td>...</td>\n      <td>...</td>\n      <td>...</td>\n      <td>...</td>\n      <td>...</td>\n      <td>...</td>\n      <td>...</td>\n      <td>...</td>\n      <td>...</td>\n      <td>...</td>\n      <td>...</td>\n      <td>...</td>\n      <td>...</td>\n      <td>...</td>\n      <td>...</td>\n    </tr>\n    <tr>\n      <th>3650</th>\n      <td>Alfie</td>\n      <td>Mawson</td>\n      <td>557</td>\n      <td>593</td>\n      <td>928</td>\n      <td>557</td>\n      <td>Alfie Mawson</td>\n      <td>Alfie</td>\n      <td>Mawson</td>\n      <td>928</td>\n      <td>...</td>\n      <td>0.1</td>\n      <td>2018</td>\n      <td>47.0</td>\n      <td>None</td>\n      <td>29059</td>\n      <td>928</td>\n      <td>2018-05-02 00:00:00</td>\n      <td>4000000</td>\n      <td>Los Angeles Galaxy</td>\n      <td>/zlatan-ibrahimovic/profil/spieler/3455</td>\n    </tr>\n    <tr>\n      <th>3651</th>\n      <td>Alfie</td>\n      <td>Mawson</td>\n      <td>557</td>\n      <td>593</td>\n      <td>928</td>\n      <td>557</td>\n      <td>Alfie Mawson</td>\n      <td>Alfie</td>\n      <td>Mawson</td>\n      <td>928</td>\n      <td>...</td>\n      <td>0.1</td>\n      <td>2018</td>\n      <td>47.0</td>\n      <td>None</td>\n      <td>29060</td>\n      <td>928</td>\n      <td>2018-12-15 00:00:00</td>\n      <td>3500000</td>\n      <td>Los Angeles Galaxy</td>\n      <td>/zlatan-ibrahimovic/profil/spieler/3455</td>\n    </tr>\n    <tr>\n      <th>3652</th>\n      <td>Alfie</td>\n      <td>Mawson</td>\n      <td>557</td>\n      <td>593</td>\n      <td>928</td>\n      <td>557</td>\n      <td>Alfie Mawson</td>\n      <td>Alfie</td>\n      <td>Mawson</td>\n      <td>928</td>\n      <td>...</td>\n      <td>0.0</td>\n      <td>2020</td>\n      <td>43.0</td>\n      <td>DEF</td>\n      <td>29063</td>\n      <td>928</td>\n      <td>2020-04-08 00:00:00</td>\n      <td>2800000</td>\n      <td>AC Milan</td>\n      <td>/zlatan-ibrahimovic/profil/spieler/3455</td>\n    </tr>\n    <tr>\n      <th>3653</th>\n      <td>Alfie</td>\n      <td>Mawson</td>\n      <td>557</td>\n      <td>593</td>\n      <td>928</td>\n      <td>557</td>\n      <td>Alfie Mawson</td>\n      <td>Alfie</td>\n      <td>Mawson</td>\n      <td>928</td>\n      <td>...</td>\n      <td>0.0</td>\n      <td>2020</td>\n      <td>43.0</td>\n      <td>DEF</td>\n      <td>29064</td>\n      <td>928</td>\n      <td>2020-08-25 00:00:00</td>\n      <td>3500000</td>\n      <td>AC Milan</td>\n      <td>/zlatan-ibrahimovic/profil/spieler/3455</td>\n    </tr>\n    <tr>\n      <th>3654</th>\n      <td>Alfie</td>\n      <td>Mawson</td>\n      <td>557</td>\n      <td>593</td>\n      <td>928</td>\n      <td>557</td>\n      <td>Alfie Mawson</td>\n      <td>Alfie</td>\n      <td>Mawson</td>\n      <td>928</td>\n      <td>...</td>\n      <td>0.0</td>\n      <td>2020</td>\n      <td>43.0</td>\n      <td>DEF</td>\n      <td>29065</td>\n      <td>928</td>\n      <td>2020-12-29 00:00:00</td>\n      <td>5000000</td>\n      <td>AC Milan</td>\n      <td>/zlatan-ibrahimovic/profil/spieler/3455</td>\n    </tr>\n  </tbody>\n</table>\n<p>3655 rows × 41 columns</p>\n</div>"
     },
     "execution_count": 6,
     "metadata": {},
     "output_type": "execute_result"
    }
   ],
   "source": [
    "players_with_values"
   ]
  },
  {
   "cell_type": "code",
   "execution_count": null,
   "id": "ignored-recycling",
   "metadata": {},
   "outputs": [],
   "source": [
    "players_with_values.columns"
   ]
  },
  {
   "cell_type": "markdown",
   "id": "municipal-prairie",
   "metadata": {},
   "source": [
    "### Cleaning data "
   ]
  },
  {
   "cell_type": "markdown",
   "id": "nutritional-friend",
   "metadata": {},
   "source": [
    "#### Remove unnecessary data"
   ]
  },
  {
   "cell_type": "code",
   "execution_count": 7,
   "id": "attractive-triumph",
   "metadata": {},
   "outputs": [],
   "source": [
    "players_with_values = players_with_values.dropna(axis=1)"
   ]
  },
  {
   "cell_type": "code",
   "execution_count": 8,
   "id": "stunning-grain",
   "metadata": {},
   "outputs": [
    {
     "data": {
      "text/plain": "     first_name second_name  guid   id  player_id_transfermarkt  \\\n0          Carl     Stewart   621  576                      909   \n1         Harry     Maguire   152  603                      939   \n2         David      Meyler   160  620                      958   \n3        Divock       Origi   216  135                      206   \n4        Nathan         Ake    35    6                        8   \n...         ...         ...   ...  ...                      ...   \n3650      Alfie      Mawson   557  593                      928   \n3651      Alfie      Mawson   557  593                      928   \n3652      Alfie      Mawson   557  593                      928   \n3653      Alfie      Mawson   557  593                      928   \n3654      Alfie      Mawson   557  593                      928   \n\n      player_id_fpl player_name_transfermarkt first_name second_name   id  \\\n0               621              Carl Stewart       Carl     Stewart  909   \n1               152             Harry Maguire      Harry     Maguire  939   \n2               160              David Meyler      David      Meyler  958   \n3               216              Divock Origi     Divock       Origi  206   \n4                35                Nathan Aké     Nathan         Ake    8   \n...             ...                       ...        ...         ...  ...   \n3650            557              Alfie Mawson      Alfie      Mawson  928   \n3651            557              Alfie Mawson      Alfie      Mawson  928   \n3652            557              Alfie Mawson      Alfie      Mawson  928   \n3653            557              Alfie Mawson      Alfie      Mawson  928   \n3654            557              Alfie Mawson      Alfie      Mawson  928   \n\n      ... red_cards yellow_cards selected_by_percent  year     id  \\\n0     ...         0            0                 0.0  2016      5   \n1     ...         0            5                 0.8  2016     42   \n2     ...         0            2                 0.2  2016     90   \n3     ...         0            0                 0.3  2018    135   \n4     ...         0            4                 2.4  2020    174   \n...   ...       ...          ...                 ...   ...    ...   \n3650  ...         0            2                 0.1  2018  29059   \n3651  ...         0            2                 0.1  2018  29060   \n3652  ...         0            0                 0.0  2020  29063   \n3653  ...         0            0                 0.0  2020  29064   \n3654  ...         0            0                 0.0  2020  29065   \n\n     transfermarkt_player_id           date_stamp  player_value  \\\n0                        909  2016-04-01 00:00:00      65000000   \n1                        939  2016-04-20 00:00:00        250000   \n2                        958  2016-04-20 00:00:00        750000   \n3                        206  2018-04-04 00:00:00      10000000   \n4                          8  2020-04-08 00:00:00      28000000   \n...                      ...                  ...           ...   \n3650                     928  2018-05-02 00:00:00       4000000   \n3651                     928  2018-12-15 00:00:00       3500000   \n3652                     928  2020-04-08 00:00:00       2800000   \n3653                     928  2020-08-25 00:00:00       3500000   \n3654                     928  2020-12-29 00:00:00       5000000   \n\n             player_club                                     player_url  \n0            Juventus FC              /paul-pogba/profil/spieler/122153  \n1       Bolton Wanderers             /rob-holding/profil/spieler/253341  \n2           Ipswich Town  /ainsley-maitland-niles/profil/spieler/285845  \n3          VfL Wolfsburg            /divock-origi/profil/spieler/148368  \n4        AFC Bournemouth              /nathan-ake/profil/spieler/177476  \n...                  ...                                            ...  \n3650  Los Angeles Galaxy        /zlatan-ibrahimovic/profil/spieler/3455  \n3651  Los Angeles Galaxy        /zlatan-ibrahimovic/profil/spieler/3455  \n3652            AC Milan        /zlatan-ibrahimovic/profil/spieler/3455  \n3653            AC Milan        /zlatan-ibrahimovic/profil/spieler/3455  \n3654            AC Milan        /zlatan-ibrahimovic/profil/spieler/3455  \n\n[3655 rows x 39 columns]",
      "text/html": "<div>\n<style scoped>\n    .dataframe tbody tr th:only-of-type {\n        vertical-align: middle;\n    }\n\n    .dataframe tbody tr th {\n        vertical-align: top;\n    }\n\n    .dataframe thead th {\n        text-align: right;\n    }\n</style>\n<table border=\"1\" class=\"dataframe\">\n  <thead>\n    <tr style=\"text-align: right;\">\n      <th></th>\n      <th>first_name</th>\n      <th>second_name</th>\n      <th>guid</th>\n      <th>id</th>\n      <th>player_id_transfermarkt</th>\n      <th>player_id_fpl</th>\n      <th>player_name_transfermarkt</th>\n      <th>first_name</th>\n      <th>second_name</th>\n      <th>id</th>\n      <th>...</th>\n      <th>red_cards</th>\n      <th>yellow_cards</th>\n      <th>selected_by_percent</th>\n      <th>year</th>\n      <th>id</th>\n      <th>transfermarkt_player_id</th>\n      <th>date_stamp</th>\n      <th>player_value</th>\n      <th>player_club</th>\n      <th>player_url</th>\n    </tr>\n  </thead>\n  <tbody>\n    <tr>\n      <th>0</th>\n      <td>Carl</td>\n      <td>Stewart</td>\n      <td>621</td>\n      <td>576</td>\n      <td>909</td>\n      <td>621</td>\n      <td>Carl Stewart</td>\n      <td>Carl</td>\n      <td>Stewart</td>\n      <td>909</td>\n      <td>...</td>\n      <td>0</td>\n      <td>0</td>\n      <td>0.0</td>\n      <td>2016</td>\n      <td>5</td>\n      <td>909</td>\n      <td>2016-04-01 00:00:00</td>\n      <td>65000000</td>\n      <td>Juventus FC</td>\n      <td>/paul-pogba/profil/spieler/122153</td>\n    </tr>\n    <tr>\n      <th>1</th>\n      <td>Harry</td>\n      <td>Maguire</td>\n      <td>152</td>\n      <td>603</td>\n      <td>939</td>\n      <td>152</td>\n      <td>Harry Maguire</td>\n      <td>Harry</td>\n      <td>Maguire</td>\n      <td>939</td>\n      <td>...</td>\n      <td>0</td>\n      <td>5</td>\n      <td>0.8</td>\n      <td>2016</td>\n      <td>42</td>\n      <td>939</td>\n      <td>2016-04-20 00:00:00</td>\n      <td>250000</td>\n      <td>Bolton Wanderers</td>\n      <td>/rob-holding/profil/spieler/253341</td>\n    </tr>\n    <tr>\n      <th>2</th>\n      <td>David</td>\n      <td>Meyler</td>\n      <td>160</td>\n      <td>620</td>\n      <td>958</td>\n      <td>160</td>\n      <td>David Meyler</td>\n      <td>David</td>\n      <td>Meyler</td>\n      <td>958</td>\n      <td>...</td>\n      <td>0</td>\n      <td>2</td>\n      <td>0.2</td>\n      <td>2016</td>\n      <td>90</td>\n      <td>958</td>\n      <td>2016-04-20 00:00:00</td>\n      <td>750000</td>\n      <td>Ipswich Town</td>\n      <td>/ainsley-maitland-niles/profil/spieler/285845</td>\n    </tr>\n    <tr>\n      <th>3</th>\n      <td>Divock</td>\n      <td>Origi</td>\n      <td>216</td>\n      <td>135</td>\n      <td>206</td>\n      <td>216</td>\n      <td>Divock Origi</td>\n      <td>Divock</td>\n      <td>Origi</td>\n      <td>206</td>\n      <td>...</td>\n      <td>0</td>\n      <td>0</td>\n      <td>0.3</td>\n      <td>2018</td>\n      <td>135</td>\n      <td>206</td>\n      <td>2018-04-04 00:00:00</td>\n      <td>10000000</td>\n      <td>VfL Wolfsburg</td>\n      <td>/divock-origi/profil/spieler/148368</td>\n    </tr>\n    <tr>\n      <th>4</th>\n      <td>Nathan</td>\n      <td>Ake</td>\n      <td>35</td>\n      <td>6</td>\n      <td>8</td>\n      <td>35</td>\n      <td>Nathan Aké</td>\n      <td>Nathan</td>\n      <td>Ake</td>\n      <td>8</td>\n      <td>...</td>\n      <td>0</td>\n      <td>4</td>\n      <td>2.4</td>\n      <td>2020</td>\n      <td>174</td>\n      <td>8</td>\n      <td>2020-04-08 00:00:00</td>\n      <td>28000000</td>\n      <td>AFC Bournemouth</td>\n      <td>/nathan-ake/profil/spieler/177476</td>\n    </tr>\n    <tr>\n      <th>...</th>\n      <td>...</td>\n      <td>...</td>\n      <td>...</td>\n      <td>...</td>\n      <td>...</td>\n      <td>...</td>\n      <td>...</td>\n      <td>...</td>\n      <td>...</td>\n      <td>...</td>\n      <td>...</td>\n      <td>...</td>\n      <td>...</td>\n      <td>...</td>\n      <td>...</td>\n      <td>...</td>\n      <td>...</td>\n      <td>...</td>\n      <td>...</td>\n      <td>...</td>\n      <td>...</td>\n    </tr>\n    <tr>\n      <th>3650</th>\n      <td>Alfie</td>\n      <td>Mawson</td>\n      <td>557</td>\n      <td>593</td>\n      <td>928</td>\n      <td>557</td>\n      <td>Alfie Mawson</td>\n      <td>Alfie</td>\n      <td>Mawson</td>\n      <td>928</td>\n      <td>...</td>\n      <td>0</td>\n      <td>2</td>\n      <td>0.1</td>\n      <td>2018</td>\n      <td>29059</td>\n      <td>928</td>\n      <td>2018-05-02 00:00:00</td>\n      <td>4000000</td>\n      <td>Los Angeles Galaxy</td>\n      <td>/zlatan-ibrahimovic/profil/spieler/3455</td>\n    </tr>\n    <tr>\n      <th>3651</th>\n      <td>Alfie</td>\n      <td>Mawson</td>\n      <td>557</td>\n      <td>593</td>\n      <td>928</td>\n      <td>557</td>\n      <td>Alfie Mawson</td>\n      <td>Alfie</td>\n      <td>Mawson</td>\n      <td>928</td>\n      <td>...</td>\n      <td>0</td>\n      <td>2</td>\n      <td>0.1</td>\n      <td>2018</td>\n      <td>29060</td>\n      <td>928</td>\n      <td>2018-12-15 00:00:00</td>\n      <td>3500000</td>\n      <td>Los Angeles Galaxy</td>\n      <td>/zlatan-ibrahimovic/profil/spieler/3455</td>\n    </tr>\n    <tr>\n      <th>3652</th>\n      <td>Alfie</td>\n      <td>Mawson</td>\n      <td>557</td>\n      <td>593</td>\n      <td>928</td>\n      <td>557</td>\n      <td>Alfie Mawson</td>\n      <td>Alfie</td>\n      <td>Mawson</td>\n      <td>928</td>\n      <td>...</td>\n      <td>0</td>\n      <td>0</td>\n      <td>0.0</td>\n      <td>2020</td>\n      <td>29063</td>\n      <td>928</td>\n      <td>2020-04-08 00:00:00</td>\n      <td>2800000</td>\n      <td>AC Milan</td>\n      <td>/zlatan-ibrahimovic/profil/spieler/3455</td>\n    </tr>\n    <tr>\n      <th>3653</th>\n      <td>Alfie</td>\n      <td>Mawson</td>\n      <td>557</td>\n      <td>593</td>\n      <td>928</td>\n      <td>557</td>\n      <td>Alfie Mawson</td>\n      <td>Alfie</td>\n      <td>Mawson</td>\n      <td>928</td>\n      <td>...</td>\n      <td>0</td>\n      <td>0</td>\n      <td>0.0</td>\n      <td>2020</td>\n      <td>29064</td>\n      <td>928</td>\n      <td>2020-08-25 00:00:00</td>\n      <td>3500000</td>\n      <td>AC Milan</td>\n      <td>/zlatan-ibrahimovic/profil/spieler/3455</td>\n    </tr>\n    <tr>\n      <th>3654</th>\n      <td>Alfie</td>\n      <td>Mawson</td>\n      <td>557</td>\n      <td>593</td>\n      <td>928</td>\n      <td>557</td>\n      <td>Alfie Mawson</td>\n      <td>Alfie</td>\n      <td>Mawson</td>\n      <td>928</td>\n      <td>...</td>\n      <td>0</td>\n      <td>0</td>\n      <td>0.0</td>\n      <td>2020</td>\n      <td>29065</td>\n      <td>928</td>\n      <td>2020-12-29 00:00:00</td>\n      <td>5000000</td>\n      <td>AC Milan</td>\n      <td>/zlatan-ibrahimovic/profil/spieler/3455</td>\n    </tr>\n  </tbody>\n</table>\n<p>3655 rows × 39 columns</p>\n</div>"
     },
     "execution_count": 8,
     "metadata": {},
     "output_type": "execute_result"
    }
   ],
   "source": [
    "players_with_values.columns\n",
    "#players_with_values.drop(['transfermarkt_player_id', 'id', 'first_name', 'last_name'], 1, inplace=True)\n",
    "players_with_values"
   ]
  },
  {
   "cell_type": "markdown",
   "id": "communist-recorder",
   "metadata": {},
   "source": [
    "#### Compute age of players"
   ]
  },
  {
   "cell_type": "code",
   "execution_count": 9,
   "id": "fossil-multiple",
   "metadata": {},
   "outputs": [
    {
     "name": "stderr",
     "output_type": "stream",
     "text": [
      "<ipython-input-9-8a09347c086f>:2: SettingWithCopyWarning: \n",
      "A value is trying to be set on a copy of a slice from a DataFrame.\n",
      "Try using .loc[row_indexer,col_indexer] = value instead\n",
      "\n",
      "See the caveats in the documentation: https://pandas.pydata.org/pandas-docs/stable/user_guide/indexing.html#returning-a-view-versus-a-copy\n",
      "  players_with_values[\"age\"] = players_with_values.apply(get_age, axis=1)\n"
     ]
    },
    {
     "data": {
      "text/plain": "     first_name second_name  guid   id  player_id_transfermarkt  \\\n0          Carl     Stewart   621  576                      909   \n1         Harry     Maguire   152  603                      939   \n2         David      Meyler   160  620                      958   \n3        Divock       Origi   216  135                      206   \n4        Nathan         Ake    35    6                        8   \n...         ...         ...   ...  ...                      ...   \n3650      Alfie      Mawson   557  593                      928   \n3651      Alfie      Mawson   557  593                      928   \n3652      Alfie      Mawson   557  593                      928   \n3653      Alfie      Mawson   557  593                      928   \n3654      Alfie      Mawson   557  593                      928   \n\n      player_id_fpl player_name_transfermarkt first_name second_name   id  \\\n0               621              Carl Stewart       Carl     Stewart  909   \n1               152             Harry Maguire      Harry     Maguire  939   \n2               160              David Meyler      David      Meyler  958   \n3               216              Divock Origi     Divock       Origi  206   \n4                35                Nathan Aké     Nathan         Ake    8   \n...             ...                       ...        ...         ...  ...   \n3650            557              Alfie Mawson      Alfie      Mawson  928   \n3651            557              Alfie Mawson      Alfie      Mawson  928   \n3652            557              Alfie Mawson      Alfie      Mawson  928   \n3653            557              Alfie Mawson      Alfie      Mawson  928   \n3654            557              Alfie Mawson      Alfie      Mawson  928   \n\n      ... yellow_cards selected_by_percent  year     id  \\\n0     ...            0                 0.0  2016      5   \n1     ...            5                 0.8  2016     42   \n2     ...            2                 0.2  2016     90   \n3     ...            0                 0.3  2018    135   \n4     ...            4                 2.4  2020    174   \n...   ...          ...                 ...   ...    ...   \n3650  ...            2                 0.1  2018  29059   \n3651  ...            2                 0.1  2018  29060   \n3652  ...            0                 0.0  2020  29063   \n3653  ...            0                 0.0  2020  29064   \n3654  ...            0                 0.0  2020  29065   \n\n      transfermarkt_player_id           date_stamp player_value  \\\n0                         909  2016-04-01 00:00:00     65000000   \n1                         939  2016-04-20 00:00:00       250000   \n2                         958  2016-04-20 00:00:00       750000   \n3                         206  2018-04-04 00:00:00     10000000   \n4                           8  2020-04-08 00:00:00     28000000   \n...                       ...                  ...          ...   \n3650                      928  2018-05-02 00:00:00      4000000   \n3651                      928  2018-12-15 00:00:00      3500000   \n3652                      928  2020-04-08 00:00:00      2800000   \n3653                      928  2020-08-25 00:00:00      3500000   \n3654                      928  2020-12-29 00:00:00      5000000   \n\n             player_club                                     player_url  age  \n0            Juventus FC              /paul-pogba/profil/spieler/122153   19  \n1       Bolton Wanderers             /rob-holding/profil/spieler/253341   23  \n2           Ipswich Town  /ainsley-maitland-niles/profil/spieler/285845   27  \n3          VfL Wolfsburg            /divock-origi/profil/spieler/148368   23  \n4        AFC Bournemouth              /nathan-ake/profil/spieler/177476   25  \n...                  ...                                            ...  ...  \n3650  Los Angeles Galaxy        /zlatan-ibrahimovic/profil/spieler/3455   24  \n3651  Los Angeles Galaxy        /zlatan-ibrahimovic/profil/spieler/3455   24  \n3652            AC Milan        /zlatan-ibrahimovic/profil/spieler/3455   26  \n3653            AC Milan        /zlatan-ibrahimovic/profil/spieler/3455   26  \n3654            AC Milan        /zlatan-ibrahimovic/profil/spieler/3455   26  \n\n[3655 rows x 40 columns]",
      "text/html": "<div>\n<style scoped>\n    .dataframe tbody tr th:only-of-type {\n        vertical-align: middle;\n    }\n\n    .dataframe tbody tr th {\n        vertical-align: top;\n    }\n\n    .dataframe thead th {\n        text-align: right;\n    }\n</style>\n<table border=\"1\" class=\"dataframe\">\n  <thead>\n    <tr style=\"text-align: right;\">\n      <th></th>\n      <th>first_name</th>\n      <th>second_name</th>\n      <th>guid</th>\n      <th>id</th>\n      <th>player_id_transfermarkt</th>\n      <th>player_id_fpl</th>\n      <th>player_name_transfermarkt</th>\n      <th>first_name</th>\n      <th>second_name</th>\n      <th>id</th>\n      <th>...</th>\n      <th>yellow_cards</th>\n      <th>selected_by_percent</th>\n      <th>year</th>\n      <th>id</th>\n      <th>transfermarkt_player_id</th>\n      <th>date_stamp</th>\n      <th>player_value</th>\n      <th>player_club</th>\n      <th>player_url</th>\n      <th>age</th>\n    </tr>\n  </thead>\n  <tbody>\n    <tr>\n      <th>0</th>\n      <td>Carl</td>\n      <td>Stewart</td>\n      <td>621</td>\n      <td>576</td>\n      <td>909</td>\n      <td>621</td>\n      <td>Carl Stewart</td>\n      <td>Carl</td>\n      <td>Stewart</td>\n      <td>909</td>\n      <td>...</td>\n      <td>0</td>\n      <td>0.0</td>\n      <td>2016</td>\n      <td>5</td>\n      <td>909</td>\n      <td>2016-04-01 00:00:00</td>\n      <td>65000000</td>\n      <td>Juventus FC</td>\n      <td>/paul-pogba/profil/spieler/122153</td>\n      <td>19</td>\n    </tr>\n    <tr>\n      <th>1</th>\n      <td>Harry</td>\n      <td>Maguire</td>\n      <td>152</td>\n      <td>603</td>\n      <td>939</td>\n      <td>152</td>\n      <td>Harry Maguire</td>\n      <td>Harry</td>\n      <td>Maguire</td>\n      <td>939</td>\n      <td>...</td>\n      <td>5</td>\n      <td>0.8</td>\n      <td>2016</td>\n      <td>42</td>\n      <td>939</td>\n      <td>2016-04-20 00:00:00</td>\n      <td>250000</td>\n      <td>Bolton Wanderers</td>\n      <td>/rob-holding/profil/spieler/253341</td>\n      <td>23</td>\n    </tr>\n    <tr>\n      <th>2</th>\n      <td>David</td>\n      <td>Meyler</td>\n      <td>160</td>\n      <td>620</td>\n      <td>958</td>\n      <td>160</td>\n      <td>David Meyler</td>\n      <td>David</td>\n      <td>Meyler</td>\n      <td>958</td>\n      <td>...</td>\n      <td>2</td>\n      <td>0.2</td>\n      <td>2016</td>\n      <td>90</td>\n      <td>958</td>\n      <td>2016-04-20 00:00:00</td>\n      <td>750000</td>\n      <td>Ipswich Town</td>\n      <td>/ainsley-maitland-niles/profil/spieler/285845</td>\n      <td>27</td>\n    </tr>\n    <tr>\n      <th>3</th>\n      <td>Divock</td>\n      <td>Origi</td>\n      <td>216</td>\n      <td>135</td>\n      <td>206</td>\n      <td>216</td>\n      <td>Divock Origi</td>\n      <td>Divock</td>\n      <td>Origi</td>\n      <td>206</td>\n      <td>...</td>\n      <td>0</td>\n      <td>0.3</td>\n      <td>2018</td>\n      <td>135</td>\n      <td>206</td>\n      <td>2018-04-04 00:00:00</td>\n      <td>10000000</td>\n      <td>VfL Wolfsburg</td>\n      <td>/divock-origi/profil/spieler/148368</td>\n      <td>23</td>\n    </tr>\n    <tr>\n      <th>4</th>\n      <td>Nathan</td>\n      <td>Ake</td>\n      <td>35</td>\n      <td>6</td>\n      <td>8</td>\n      <td>35</td>\n      <td>Nathan Aké</td>\n      <td>Nathan</td>\n      <td>Ake</td>\n      <td>8</td>\n      <td>...</td>\n      <td>4</td>\n      <td>2.4</td>\n      <td>2020</td>\n      <td>174</td>\n      <td>8</td>\n      <td>2020-04-08 00:00:00</td>\n      <td>28000000</td>\n      <td>AFC Bournemouth</td>\n      <td>/nathan-ake/profil/spieler/177476</td>\n      <td>25</td>\n    </tr>\n    <tr>\n      <th>...</th>\n      <td>...</td>\n      <td>...</td>\n      <td>...</td>\n      <td>...</td>\n      <td>...</td>\n      <td>...</td>\n      <td>...</td>\n      <td>...</td>\n      <td>...</td>\n      <td>...</td>\n      <td>...</td>\n      <td>...</td>\n      <td>...</td>\n      <td>...</td>\n      <td>...</td>\n      <td>...</td>\n      <td>...</td>\n      <td>...</td>\n      <td>...</td>\n      <td>...</td>\n      <td>...</td>\n    </tr>\n    <tr>\n      <th>3650</th>\n      <td>Alfie</td>\n      <td>Mawson</td>\n      <td>557</td>\n      <td>593</td>\n      <td>928</td>\n      <td>557</td>\n      <td>Alfie Mawson</td>\n      <td>Alfie</td>\n      <td>Mawson</td>\n      <td>928</td>\n      <td>...</td>\n      <td>2</td>\n      <td>0.1</td>\n      <td>2018</td>\n      <td>29059</td>\n      <td>928</td>\n      <td>2018-05-02 00:00:00</td>\n      <td>4000000</td>\n      <td>Los Angeles Galaxy</td>\n      <td>/zlatan-ibrahimovic/profil/spieler/3455</td>\n      <td>24</td>\n    </tr>\n    <tr>\n      <th>3651</th>\n      <td>Alfie</td>\n      <td>Mawson</td>\n      <td>557</td>\n      <td>593</td>\n      <td>928</td>\n      <td>557</td>\n      <td>Alfie Mawson</td>\n      <td>Alfie</td>\n      <td>Mawson</td>\n      <td>928</td>\n      <td>...</td>\n      <td>2</td>\n      <td>0.1</td>\n      <td>2018</td>\n      <td>29060</td>\n      <td>928</td>\n      <td>2018-12-15 00:00:00</td>\n      <td>3500000</td>\n      <td>Los Angeles Galaxy</td>\n      <td>/zlatan-ibrahimovic/profil/spieler/3455</td>\n      <td>24</td>\n    </tr>\n    <tr>\n      <th>3652</th>\n      <td>Alfie</td>\n      <td>Mawson</td>\n      <td>557</td>\n      <td>593</td>\n      <td>928</td>\n      <td>557</td>\n      <td>Alfie Mawson</td>\n      <td>Alfie</td>\n      <td>Mawson</td>\n      <td>928</td>\n      <td>...</td>\n      <td>0</td>\n      <td>0.0</td>\n      <td>2020</td>\n      <td>29063</td>\n      <td>928</td>\n      <td>2020-04-08 00:00:00</td>\n      <td>2800000</td>\n      <td>AC Milan</td>\n      <td>/zlatan-ibrahimovic/profil/spieler/3455</td>\n      <td>26</td>\n    </tr>\n    <tr>\n      <th>3653</th>\n      <td>Alfie</td>\n      <td>Mawson</td>\n      <td>557</td>\n      <td>593</td>\n      <td>928</td>\n      <td>557</td>\n      <td>Alfie Mawson</td>\n      <td>Alfie</td>\n      <td>Mawson</td>\n      <td>928</td>\n      <td>...</td>\n      <td>0</td>\n      <td>0.0</td>\n      <td>2020</td>\n      <td>29064</td>\n      <td>928</td>\n      <td>2020-08-25 00:00:00</td>\n      <td>3500000</td>\n      <td>AC Milan</td>\n      <td>/zlatan-ibrahimovic/profil/spieler/3455</td>\n      <td>26</td>\n    </tr>\n    <tr>\n      <th>3654</th>\n      <td>Alfie</td>\n      <td>Mawson</td>\n      <td>557</td>\n      <td>593</td>\n      <td>928</td>\n      <td>557</td>\n      <td>Alfie Mawson</td>\n      <td>Alfie</td>\n      <td>Mawson</td>\n      <td>928</td>\n      <td>...</td>\n      <td>0</td>\n      <td>0.0</td>\n      <td>2020</td>\n      <td>29065</td>\n      <td>928</td>\n      <td>2020-12-29 00:00:00</td>\n      <td>5000000</td>\n      <td>AC Milan</td>\n      <td>/zlatan-ibrahimovic/profil/spieler/3455</td>\n      <td>26</td>\n    </tr>\n  </tbody>\n</table>\n<p>3655 rows × 40 columns</p>\n</div>"
     },
     "execution_count": 9,
     "metadata": {},
     "output_type": "execute_result"
    }
   ],
   "source": [
    "get_age = lambda x: (x['year'])  - int((x[\"date_of_birth\"].split(\" \")[0].split('-')[0]))\n",
    "players_with_values[\"age\"] = players_with_values.apply(get_age, axis=1)\n",
    "players_with_values"
   ]
  },
  {
   "cell_type": "markdown",
   "id": "united-ceramic",
   "metadata": {},
   "source": [
    "#### Remove players whose value is too small"
   ]
  },
  {
   "cell_type": "code",
   "execution_count": 10,
   "id": "incomplete-angola",
   "metadata": {},
   "outputs": [
    {
     "name": "stderr",
     "output_type": "stream",
     "text": [
      "c:\\users\\kbien\\.virtualenvs\\football-progres-analysis-nfnrtldz\\lib\\site-packages\\pandas\\core\\frame.py:4308: SettingWithCopyWarning: \n",
      "A value is trying to be set on a copy of a slice from a DataFrame\n",
      "\n",
      "See the caveats in the documentation: https://pandas.pydata.org/pandas-docs/stable/user_guide/indexing.html#returning-a-view-versus-a-copy\n",
      "  return super().drop(\n"
     ]
    }
   ],
   "source": [
    "indexes = players_with_values[players_with_values['player_value'] < 10000].index \n",
    "players_with_values.drop(index=indexes, inplace=True)"
   ]
  },
  {
   "cell_type": "markdown",
   "id": "forty-sixth",
   "metadata": {},
   "source": [
    "#### Remove duplicated columns"
   ]
  },
  {
   "cell_type": "code",
   "execution_count": 11,
   "id": "dominican-carry",
   "metadata": {},
   "outputs": [
    {
     "data": {
      "text/plain": "     first_name second_name  guid   id  player_id_transfermarkt  \\\n0          Carl     Stewart   621  576                      909   \n1         Harry     Maguire   152  603                      939   \n2         David      Meyler   160  620                      958   \n3        Divock       Origi   216  135                      206   \n4        Nathan         Ake    35    6                        8   \n...         ...         ...   ...  ...                      ...   \n3650      Alfie      Mawson   557  593                      928   \n3651      Alfie      Mawson   557  593                      928   \n3652      Alfie      Mawson   557  593                      928   \n3653      Alfie      Mawson   557  593                      928   \n3654      Alfie      Mawson   557  593                      928   \n\n      player_id_fpl player_name_transfermarkt    player_name  \\\n0               621              Carl Stewart   Carl Stewart   \n1               152             Harry Maguire  Harry Maguire   \n2               160              David Meyler   David Meyler   \n3               216              Divock Origi   Divock Origi   \n4                35                Nathan Aké     Nathan Aké   \n...             ...                       ...            ...   \n3650            557              Alfie Mawson   Alfie Mawson   \n3651            557              Alfie Mawson   Alfie Mawson   \n3652            557              Alfie Mawson   Alfie Mawson   \n3653            557              Alfie Mawson   Alfie Mawson   \n3654            557              Alfie Mawson   Alfie Mawson   \n\n            date_of_birth   player_position  ... red_cards  yellow_cards  \\\n0     1997-05-02 00:00:00  Central Midfield  ...         0             0   \n1     1993-03-05 00:00:00       Centre-Back  ...         0             5   \n2     1989-05-29 00:00:00  Central Midfield  ...         0             2   \n3     1995-04-18 00:00:00    Centre-Forward  ...         0             0   \n4     1995-02-18 00:00:00       Centre-Back  ...         0             4   \n...                   ...               ...  ...       ...           ...   \n3650  1994-01-19 00:00:00       Centre-Back  ...         0             2   \n3651  1994-01-19 00:00:00       Centre-Back  ...         0             2   \n3652  1994-01-19 00:00:00       Centre-Back  ...         0             0   \n3653  1994-01-19 00:00:00       Centre-Back  ...         0             0   \n3654  1994-01-19 00:00:00       Centre-Back  ...         0             0   \n\n      selected_by_percent  year  transfermarkt_player_id           date_stamp  \\\n0                     0.0  2016                      909  2016-04-01 00:00:00   \n1                     0.8  2016                      939  2016-04-20 00:00:00   \n2                     0.2  2016                      958  2016-04-20 00:00:00   \n3                     0.3  2018                      206  2018-04-04 00:00:00   \n4                     2.4  2020                        8  2020-04-08 00:00:00   \n...                   ...   ...                      ...                  ...   \n3650                  0.1  2018                      928  2018-05-02 00:00:00   \n3651                  0.1  2018                      928  2018-12-15 00:00:00   \n3652                  0.0  2020                      928  2020-04-08 00:00:00   \n3653                  0.0  2020                      928  2020-08-25 00:00:00   \n3654                  0.0  2020                      928  2020-12-29 00:00:00   \n\n      player_value         player_club  \\\n0         65000000         Juventus FC   \n1           250000    Bolton Wanderers   \n2           750000        Ipswich Town   \n3         10000000       VfL Wolfsburg   \n4         28000000     AFC Bournemouth   \n...            ...                 ...   \n3650       4000000  Los Angeles Galaxy   \n3651       3500000  Los Angeles Galaxy   \n3652       2800000            AC Milan   \n3653       3500000            AC Milan   \n3654       5000000            AC Milan   \n\n                                         player_url  age  \n0                 /paul-pogba/profil/spieler/122153   19  \n1                /rob-holding/profil/spieler/253341   23  \n2     /ainsley-maitland-niles/profil/spieler/285845   27  \n3               /divock-origi/profil/spieler/148368   23  \n4                 /nathan-ake/profil/spieler/177476   25  \n...                                             ...  ...  \n3650        /zlatan-ibrahimovic/profil/spieler/3455   24  \n3651        /zlatan-ibrahimovic/profil/spieler/3455   24  \n3652        /zlatan-ibrahimovic/profil/spieler/3455   26  \n3653        /zlatan-ibrahimovic/profil/spieler/3455   26  \n3654        /zlatan-ibrahimovic/profil/spieler/3455   26  \n\n[3636 rows x 33 columns]",
      "text/html": "<div>\n<style scoped>\n    .dataframe tbody tr th:only-of-type {\n        vertical-align: middle;\n    }\n\n    .dataframe tbody tr th {\n        vertical-align: top;\n    }\n\n    .dataframe thead th {\n        text-align: right;\n    }\n</style>\n<table border=\"1\" class=\"dataframe\">\n  <thead>\n    <tr style=\"text-align: right;\">\n      <th></th>\n      <th>first_name</th>\n      <th>second_name</th>\n      <th>guid</th>\n      <th>id</th>\n      <th>player_id_transfermarkt</th>\n      <th>player_id_fpl</th>\n      <th>player_name_transfermarkt</th>\n      <th>player_name</th>\n      <th>date_of_birth</th>\n      <th>player_position</th>\n      <th>...</th>\n      <th>red_cards</th>\n      <th>yellow_cards</th>\n      <th>selected_by_percent</th>\n      <th>year</th>\n      <th>transfermarkt_player_id</th>\n      <th>date_stamp</th>\n      <th>player_value</th>\n      <th>player_club</th>\n      <th>player_url</th>\n      <th>age</th>\n    </tr>\n  </thead>\n  <tbody>\n    <tr>\n      <th>0</th>\n      <td>Carl</td>\n      <td>Stewart</td>\n      <td>621</td>\n      <td>576</td>\n      <td>909</td>\n      <td>621</td>\n      <td>Carl Stewart</td>\n      <td>Carl Stewart</td>\n      <td>1997-05-02 00:00:00</td>\n      <td>Central Midfield</td>\n      <td>...</td>\n      <td>0</td>\n      <td>0</td>\n      <td>0.0</td>\n      <td>2016</td>\n      <td>909</td>\n      <td>2016-04-01 00:00:00</td>\n      <td>65000000</td>\n      <td>Juventus FC</td>\n      <td>/paul-pogba/profil/spieler/122153</td>\n      <td>19</td>\n    </tr>\n    <tr>\n      <th>1</th>\n      <td>Harry</td>\n      <td>Maguire</td>\n      <td>152</td>\n      <td>603</td>\n      <td>939</td>\n      <td>152</td>\n      <td>Harry Maguire</td>\n      <td>Harry Maguire</td>\n      <td>1993-03-05 00:00:00</td>\n      <td>Centre-Back</td>\n      <td>...</td>\n      <td>0</td>\n      <td>5</td>\n      <td>0.8</td>\n      <td>2016</td>\n      <td>939</td>\n      <td>2016-04-20 00:00:00</td>\n      <td>250000</td>\n      <td>Bolton Wanderers</td>\n      <td>/rob-holding/profil/spieler/253341</td>\n      <td>23</td>\n    </tr>\n    <tr>\n      <th>2</th>\n      <td>David</td>\n      <td>Meyler</td>\n      <td>160</td>\n      <td>620</td>\n      <td>958</td>\n      <td>160</td>\n      <td>David Meyler</td>\n      <td>David Meyler</td>\n      <td>1989-05-29 00:00:00</td>\n      <td>Central Midfield</td>\n      <td>...</td>\n      <td>0</td>\n      <td>2</td>\n      <td>0.2</td>\n      <td>2016</td>\n      <td>958</td>\n      <td>2016-04-20 00:00:00</td>\n      <td>750000</td>\n      <td>Ipswich Town</td>\n      <td>/ainsley-maitland-niles/profil/spieler/285845</td>\n      <td>27</td>\n    </tr>\n    <tr>\n      <th>3</th>\n      <td>Divock</td>\n      <td>Origi</td>\n      <td>216</td>\n      <td>135</td>\n      <td>206</td>\n      <td>216</td>\n      <td>Divock Origi</td>\n      <td>Divock Origi</td>\n      <td>1995-04-18 00:00:00</td>\n      <td>Centre-Forward</td>\n      <td>...</td>\n      <td>0</td>\n      <td>0</td>\n      <td>0.3</td>\n      <td>2018</td>\n      <td>206</td>\n      <td>2018-04-04 00:00:00</td>\n      <td>10000000</td>\n      <td>VfL Wolfsburg</td>\n      <td>/divock-origi/profil/spieler/148368</td>\n      <td>23</td>\n    </tr>\n    <tr>\n      <th>4</th>\n      <td>Nathan</td>\n      <td>Ake</td>\n      <td>35</td>\n      <td>6</td>\n      <td>8</td>\n      <td>35</td>\n      <td>Nathan Aké</td>\n      <td>Nathan Aké</td>\n      <td>1995-02-18 00:00:00</td>\n      <td>Centre-Back</td>\n      <td>...</td>\n      <td>0</td>\n      <td>4</td>\n      <td>2.4</td>\n      <td>2020</td>\n      <td>8</td>\n      <td>2020-04-08 00:00:00</td>\n      <td>28000000</td>\n      <td>AFC Bournemouth</td>\n      <td>/nathan-ake/profil/spieler/177476</td>\n      <td>25</td>\n    </tr>\n    <tr>\n      <th>...</th>\n      <td>...</td>\n      <td>...</td>\n      <td>...</td>\n      <td>...</td>\n      <td>...</td>\n      <td>...</td>\n      <td>...</td>\n      <td>...</td>\n      <td>...</td>\n      <td>...</td>\n      <td>...</td>\n      <td>...</td>\n      <td>...</td>\n      <td>...</td>\n      <td>...</td>\n      <td>...</td>\n      <td>...</td>\n      <td>...</td>\n      <td>...</td>\n      <td>...</td>\n      <td>...</td>\n    </tr>\n    <tr>\n      <th>3650</th>\n      <td>Alfie</td>\n      <td>Mawson</td>\n      <td>557</td>\n      <td>593</td>\n      <td>928</td>\n      <td>557</td>\n      <td>Alfie Mawson</td>\n      <td>Alfie Mawson</td>\n      <td>1994-01-19 00:00:00</td>\n      <td>Centre-Back</td>\n      <td>...</td>\n      <td>0</td>\n      <td>2</td>\n      <td>0.1</td>\n      <td>2018</td>\n      <td>928</td>\n      <td>2018-05-02 00:00:00</td>\n      <td>4000000</td>\n      <td>Los Angeles Galaxy</td>\n      <td>/zlatan-ibrahimovic/profil/spieler/3455</td>\n      <td>24</td>\n    </tr>\n    <tr>\n      <th>3651</th>\n      <td>Alfie</td>\n      <td>Mawson</td>\n      <td>557</td>\n      <td>593</td>\n      <td>928</td>\n      <td>557</td>\n      <td>Alfie Mawson</td>\n      <td>Alfie Mawson</td>\n      <td>1994-01-19 00:00:00</td>\n      <td>Centre-Back</td>\n      <td>...</td>\n      <td>0</td>\n      <td>2</td>\n      <td>0.1</td>\n      <td>2018</td>\n      <td>928</td>\n      <td>2018-12-15 00:00:00</td>\n      <td>3500000</td>\n      <td>Los Angeles Galaxy</td>\n      <td>/zlatan-ibrahimovic/profil/spieler/3455</td>\n      <td>24</td>\n    </tr>\n    <tr>\n      <th>3652</th>\n      <td>Alfie</td>\n      <td>Mawson</td>\n      <td>557</td>\n      <td>593</td>\n      <td>928</td>\n      <td>557</td>\n      <td>Alfie Mawson</td>\n      <td>Alfie Mawson</td>\n      <td>1994-01-19 00:00:00</td>\n      <td>Centre-Back</td>\n      <td>...</td>\n      <td>0</td>\n      <td>0</td>\n      <td>0.0</td>\n      <td>2020</td>\n      <td>928</td>\n      <td>2020-04-08 00:00:00</td>\n      <td>2800000</td>\n      <td>AC Milan</td>\n      <td>/zlatan-ibrahimovic/profil/spieler/3455</td>\n      <td>26</td>\n    </tr>\n    <tr>\n      <th>3653</th>\n      <td>Alfie</td>\n      <td>Mawson</td>\n      <td>557</td>\n      <td>593</td>\n      <td>928</td>\n      <td>557</td>\n      <td>Alfie Mawson</td>\n      <td>Alfie Mawson</td>\n      <td>1994-01-19 00:00:00</td>\n      <td>Centre-Back</td>\n      <td>...</td>\n      <td>0</td>\n      <td>0</td>\n      <td>0.0</td>\n      <td>2020</td>\n      <td>928</td>\n      <td>2020-08-25 00:00:00</td>\n      <td>3500000</td>\n      <td>AC Milan</td>\n      <td>/zlatan-ibrahimovic/profil/spieler/3455</td>\n      <td>26</td>\n    </tr>\n    <tr>\n      <th>3654</th>\n      <td>Alfie</td>\n      <td>Mawson</td>\n      <td>557</td>\n      <td>593</td>\n      <td>928</td>\n      <td>557</td>\n      <td>Alfie Mawson</td>\n      <td>Alfie Mawson</td>\n      <td>1994-01-19 00:00:00</td>\n      <td>Centre-Back</td>\n      <td>...</td>\n      <td>0</td>\n      <td>0</td>\n      <td>0.0</td>\n      <td>2020</td>\n      <td>928</td>\n      <td>2020-12-29 00:00:00</td>\n      <td>5000000</td>\n      <td>AC Milan</td>\n      <td>/zlatan-ibrahimovic/profil/spieler/3455</td>\n      <td>26</td>\n    </tr>\n  </tbody>\n</table>\n<p>3636 rows × 33 columns</p>\n</div>"
     },
     "execution_count": 11,
     "metadata": {},
     "output_type": "execute_result"
    }
   ],
   "source": [
    "players_with_values = players_with_values.loc[:,~players_with_values.columns.duplicated()]\n",
    "players_with_values"
   ]
  },
  {
   "cell_type": "markdown",
   "id": "bibliographic-halloween",
   "metadata": {},
   "source": [
    "### Get players by positions"
   ]
  },
  {
   "cell_type": "code",
   "execution_count": null,
   "id": "becoming-birmingham",
   "metadata": {},
   "outputs": [],
   "source": [
    "positions"
   ]
  },
  {
   "cell_type": "code",
   "execution_count": 12,
   "id": "amazing-champion",
   "metadata": {},
   "outputs": [],
   "source": [
    "forwards = players_with_values[(players_with_values['player_position'] ==  'Centre-Forward') |\n",
    "                                (players_with_values['player_position'] ==  'Second Striker')]\n",
    "\n",
    "wingers = players_with_values[(players_with_values['player_position'] ==  'Left Winger') |\n",
    "                              (players_with_values['player_position'] ==  'Right Winger')]\n",
    "\n",
    "midfielders = players_with_values[(players_with_values['player_position'] ==  'Attacking Midfield') |\n",
    "                                  (players_with_values['player_position'] ==  'Defensive Midfield') |\n",
    "                                  (players_with_values['player_position'] ==  'Central Midfield') |\n",
    "                                  (players_with_values['player_position'] ==  'Left Midfield') |\n",
    "                                  (players_with_values['player_position'] ==  'Right Midfield')\n",
    "                                 ]\n",
    "\n",
    "center_defenders = players_with_values[(players_with_values['player_position'] ==  'Centre-Back') \n",
    "                                      ]\n",
    "\n",
    "back_defenders = players_with_values[(players_with_values['player_position'] ==  'Left-Back') |\n",
    "                                     (players_with_values['player_position'] ==  'Right-Back')\n",
    "                                      ]\n",
    "\n",
    "goalkeepers = players_with_values[(players_with_values['player_position'] ==  'Goalkeeper')]"
   ]
  },
  {
   "cell_type": "code",
   "execution_count": 13,
   "id": "controversial-beijing",
   "metadata": {},
   "outputs": [
    {
     "name": "stdout",
     "output_type": "stream",
     "text": [
      "3636\n",
      "3636\n"
     ]
    }
   ],
   "source": [
    "try:\n",
    "    print(len(back_defenders) + len(center_defenders) + len(midfielders) + len(wingers) + len(forwards) + len(goalkeepers))\n",
    "    print(len(players_with_values))\n",
    "    assert len(players_with_values) == len(back_defenders) + len(center_defenders) + len(midfielders) + len(wingers) + len(forwards) + len(goalkeepers)\n",
    "except AssertionError:\n",
    "    print('Thera are players not choosen to any postion category')                                                                                                                   "
   ]
  },
  {
   "cell_type": "code",
   "execution_count": null,
   "id": "developmental-carrier",
   "metadata": {},
   "outputs": [],
   "source": [
    "# get_minutes_for_goal = lambda x: 999 if x['goals_scored'] == 0 else int((x['minutes'])/(x['goals_scored']))\n",
    "# attackers['minutes_for_goal'] = attackers.apply(get_minutes_for_goal, axis=1)"
   ]
  },
  {
   "cell_type": "code",
   "execution_count": 14,
   "id": "brilliant-stylus",
   "metadata": {},
   "outputs": [
    {
     "data": {
      "text/plain": "     first_name  second_name  guid   id  player_id_transfermarkt  \\\n3        Divock        Origi   216  135                      206   \n10       Sergio       Aguero   238   45                       75   \n16          Hal  Robson-Kanu   570  653                      999   \n17      Roberto      Firmino   208  131                      202   \n18       Divock        Origi   216  135                      206   \n...         ...          ...   ...  ...                      ...   \n3617      Glenn       Murray   713  359                      539   \n3618      Glenn       Murray   713  359                      539   \n3619      Glenn       Murray   713  359                      539   \n3620       Yaya       Sanogo    26   76                      118   \n3621       Yaya       Sanogo    26   76                      118   \n\n      player_id_fpl player_name_transfermarkt      player_name  \\\n3               216              Divock Origi     Divock Origi   \n10              238             Sergio Agüero    Sergio Agüero   \n16              570           Hal Robson-Kanu  Hal Robson-Kanu   \n17              208           Roberto Firmino  Roberto Firmino   \n18              216              Divock Origi     Divock Origi   \n...             ...                       ...              ...   \n3617            713              Glenn Murray     Glenn Murray   \n3618            713              Glenn Murray     Glenn Murray   \n3619            713              Glenn Murray     Glenn Murray   \n3620             26               Yaya Sanogo      Yaya Sanogo   \n3621             26               Yaya Sanogo      Yaya Sanogo   \n\n            date_of_birth player_position  ... red_cards  yellow_cards  \\\n3     1995-04-18 00:00:00  Centre-Forward  ...         0             0   \n10    1988-06-02 00:00:00  Centre-Forward  ...         0             0   \n16    1989-05-21 00:00:00  Centre-Forward  ...         0             1   \n17    1991-10-02 00:00:00  Centre-Forward  ...         0             1   \n18    1995-04-18 00:00:00  Centre-Forward  ...         0             0   \n...                   ...             ...  ...       ...           ...   \n3617  1983-09-25 00:00:00  Centre-Forward  ...         0             0   \n3618  1983-09-25 00:00:00  Centre-Forward  ...         0             0   \n3619  1983-09-25 00:00:00  Centre-Forward  ...         0             0   \n3620  1993-01-27 00:00:00  Centre-Forward  ...         0             0   \n3621  1993-01-27 00:00:00  Centre-Forward  ...         0             0   \n\n      selected_by_percent  year  transfermarkt_player_id           date_stamp  \\\n3                     0.3  2018                      206  2018-04-04 00:00:00   \n10                    1.4  2020                       75  2020-04-08 00:00:00   \n16                    0.1  2020                      999  2020-04-08 00:00:00   \n17                    3.0  2020                      202  2020-04-08 00:00:00   \n18                    0.6  2020                      206  2020-04-08 00:00:00   \n...                   ...   ...                      ...                  ...   \n3617                  0.1  2020                      539  2020-04-08 00:00:00   \n3618                  0.1  2020                      539  2020-08-17 00:00:00   \n3619                  0.1  2020                      539  2020-10-13 00:00:00   \n3620                  0.1  2016                      118  2016-04-20 00:00:00   \n3621                  0.1  2016                      118  2016-08-01 00:00:00   \n\n      player_value        player_club                              player_url  \\\n3         10000000      VfL Wolfsburg     /divock-origi/profil/spieler/148368   \n10        52000000    Manchester City     /sergio-aguero/profil/spieler/26399   \n16         4500000      Oxford United     /ben-woodburn/profil/spieler/344015   \n17        72000000       Liverpool FC  /roberto-firmino/profil/spieler/131789   \n18        16000000       Liverpool FC     /divock-origi/profil/spieler/148368   \n...            ...                ...                                     ...   \n3617       4800000        Sporting CP   /yannick-bolasie/profil/spieler/75471   \n3618       4000000         Everton FC   /yannick-bolasie/profil/spieler/75471   \n3619       3500000         Everton FC   /yannick-bolasie/profil/spieler/75471   \n3620       1500000  Charlton Athletic      /yaya-sanogo/profil/spieler/127194   \n3621       1000000         Arsenal FC      /yaya-sanogo/profil/spieler/127194   \n\n      age  \n3      23  \n10     32  \n16     31  \n17     29  \n18     25  \n...   ...  \n3617   37  \n3618   37  \n3619   37  \n3620   23  \n3621   23  \n\n[537 rows x 33 columns]",
      "text/html": "<div>\n<style scoped>\n    .dataframe tbody tr th:only-of-type {\n        vertical-align: middle;\n    }\n\n    .dataframe tbody tr th {\n        vertical-align: top;\n    }\n\n    .dataframe thead th {\n        text-align: right;\n    }\n</style>\n<table border=\"1\" class=\"dataframe\">\n  <thead>\n    <tr style=\"text-align: right;\">\n      <th></th>\n      <th>first_name</th>\n      <th>second_name</th>\n      <th>guid</th>\n      <th>id</th>\n      <th>player_id_transfermarkt</th>\n      <th>player_id_fpl</th>\n      <th>player_name_transfermarkt</th>\n      <th>player_name</th>\n      <th>date_of_birth</th>\n      <th>player_position</th>\n      <th>...</th>\n      <th>red_cards</th>\n      <th>yellow_cards</th>\n      <th>selected_by_percent</th>\n      <th>year</th>\n      <th>transfermarkt_player_id</th>\n      <th>date_stamp</th>\n      <th>player_value</th>\n      <th>player_club</th>\n      <th>player_url</th>\n      <th>age</th>\n    </tr>\n  </thead>\n  <tbody>\n    <tr>\n      <th>3</th>\n      <td>Divock</td>\n      <td>Origi</td>\n      <td>216</td>\n      <td>135</td>\n      <td>206</td>\n      <td>216</td>\n      <td>Divock Origi</td>\n      <td>Divock Origi</td>\n      <td>1995-04-18 00:00:00</td>\n      <td>Centre-Forward</td>\n      <td>...</td>\n      <td>0</td>\n      <td>0</td>\n      <td>0.3</td>\n      <td>2018</td>\n      <td>206</td>\n      <td>2018-04-04 00:00:00</td>\n      <td>10000000</td>\n      <td>VfL Wolfsburg</td>\n      <td>/divock-origi/profil/spieler/148368</td>\n      <td>23</td>\n    </tr>\n    <tr>\n      <th>10</th>\n      <td>Sergio</td>\n      <td>Aguero</td>\n      <td>238</td>\n      <td>45</td>\n      <td>75</td>\n      <td>238</td>\n      <td>Sergio Agüero</td>\n      <td>Sergio Agüero</td>\n      <td>1988-06-02 00:00:00</td>\n      <td>Centre-Forward</td>\n      <td>...</td>\n      <td>0</td>\n      <td>0</td>\n      <td>1.4</td>\n      <td>2020</td>\n      <td>75</td>\n      <td>2020-04-08 00:00:00</td>\n      <td>52000000</td>\n      <td>Manchester City</td>\n      <td>/sergio-aguero/profil/spieler/26399</td>\n      <td>32</td>\n    </tr>\n    <tr>\n      <th>16</th>\n      <td>Hal</td>\n      <td>Robson-Kanu</td>\n      <td>570</td>\n      <td>653</td>\n      <td>999</td>\n      <td>570</td>\n      <td>Hal Robson-Kanu</td>\n      <td>Hal Robson-Kanu</td>\n      <td>1989-05-21 00:00:00</td>\n      <td>Centre-Forward</td>\n      <td>...</td>\n      <td>0</td>\n      <td>1</td>\n      <td>0.1</td>\n      <td>2020</td>\n      <td>999</td>\n      <td>2020-04-08 00:00:00</td>\n      <td>4500000</td>\n      <td>Oxford United</td>\n      <td>/ben-woodburn/profil/spieler/344015</td>\n      <td>31</td>\n    </tr>\n    <tr>\n      <th>17</th>\n      <td>Roberto</td>\n      <td>Firmino</td>\n      <td>208</td>\n      <td>131</td>\n      <td>202</td>\n      <td>208</td>\n      <td>Roberto Firmino</td>\n      <td>Roberto Firmino</td>\n      <td>1991-10-02 00:00:00</td>\n      <td>Centre-Forward</td>\n      <td>...</td>\n      <td>0</td>\n      <td>1</td>\n      <td>3.0</td>\n      <td>2020</td>\n      <td>202</td>\n      <td>2020-04-08 00:00:00</td>\n      <td>72000000</td>\n      <td>Liverpool FC</td>\n      <td>/roberto-firmino/profil/spieler/131789</td>\n      <td>29</td>\n    </tr>\n    <tr>\n      <th>18</th>\n      <td>Divock</td>\n      <td>Origi</td>\n      <td>216</td>\n      <td>135</td>\n      <td>206</td>\n      <td>216</td>\n      <td>Divock Origi</td>\n      <td>Divock Origi</td>\n      <td>1995-04-18 00:00:00</td>\n      <td>Centre-Forward</td>\n      <td>...</td>\n      <td>0</td>\n      <td>0</td>\n      <td>0.6</td>\n      <td>2020</td>\n      <td>206</td>\n      <td>2020-04-08 00:00:00</td>\n      <td>16000000</td>\n      <td>Liverpool FC</td>\n      <td>/divock-origi/profil/spieler/148368</td>\n      <td>25</td>\n    </tr>\n    <tr>\n      <th>...</th>\n      <td>...</td>\n      <td>...</td>\n      <td>...</td>\n      <td>...</td>\n      <td>...</td>\n      <td>...</td>\n      <td>...</td>\n      <td>...</td>\n      <td>...</td>\n      <td>...</td>\n      <td>...</td>\n      <td>...</td>\n      <td>...</td>\n      <td>...</td>\n      <td>...</td>\n      <td>...</td>\n      <td>...</td>\n      <td>...</td>\n      <td>...</td>\n      <td>...</td>\n      <td>...</td>\n    </tr>\n    <tr>\n      <th>3617</th>\n      <td>Glenn</td>\n      <td>Murray</td>\n      <td>713</td>\n      <td>359</td>\n      <td>539</td>\n      <td>713</td>\n      <td>Glenn Murray</td>\n      <td>Glenn Murray</td>\n      <td>1983-09-25 00:00:00</td>\n      <td>Centre-Forward</td>\n      <td>...</td>\n      <td>0</td>\n      <td>0</td>\n      <td>0.1</td>\n      <td>2020</td>\n      <td>539</td>\n      <td>2020-04-08 00:00:00</td>\n      <td>4800000</td>\n      <td>Sporting CP</td>\n      <td>/yannick-bolasie/profil/spieler/75471</td>\n      <td>37</td>\n    </tr>\n    <tr>\n      <th>3618</th>\n      <td>Glenn</td>\n      <td>Murray</td>\n      <td>713</td>\n      <td>359</td>\n      <td>539</td>\n      <td>713</td>\n      <td>Glenn Murray</td>\n      <td>Glenn Murray</td>\n      <td>1983-09-25 00:00:00</td>\n      <td>Centre-Forward</td>\n      <td>...</td>\n      <td>0</td>\n      <td>0</td>\n      <td>0.1</td>\n      <td>2020</td>\n      <td>539</td>\n      <td>2020-08-17 00:00:00</td>\n      <td>4000000</td>\n      <td>Everton FC</td>\n      <td>/yannick-bolasie/profil/spieler/75471</td>\n      <td>37</td>\n    </tr>\n    <tr>\n      <th>3619</th>\n      <td>Glenn</td>\n      <td>Murray</td>\n      <td>713</td>\n      <td>359</td>\n      <td>539</td>\n      <td>713</td>\n      <td>Glenn Murray</td>\n      <td>Glenn Murray</td>\n      <td>1983-09-25 00:00:00</td>\n      <td>Centre-Forward</td>\n      <td>...</td>\n      <td>0</td>\n      <td>0</td>\n      <td>0.1</td>\n      <td>2020</td>\n      <td>539</td>\n      <td>2020-10-13 00:00:00</td>\n      <td>3500000</td>\n      <td>Everton FC</td>\n      <td>/yannick-bolasie/profil/spieler/75471</td>\n      <td>37</td>\n    </tr>\n    <tr>\n      <th>3620</th>\n      <td>Yaya</td>\n      <td>Sanogo</td>\n      <td>26</td>\n      <td>76</td>\n      <td>118</td>\n      <td>26</td>\n      <td>Yaya Sanogo</td>\n      <td>Yaya Sanogo</td>\n      <td>1993-01-27 00:00:00</td>\n      <td>Centre-Forward</td>\n      <td>...</td>\n      <td>0</td>\n      <td>0</td>\n      <td>0.1</td>\n      <td>2016</td>\n      <td>118</td>\n      <td>2016-04-20 00:00:00</td>\n      <td>1500000</td>\n      <td>Charlton Athletic</td>\n      <td>/yaya-sanogo/profil/spieler/127194</td>\n      <td>23</td>\n    </tr>\n    <tr>\n      <th>3621</th>\n      <td>Yaya</td>\n      <td>Sanogo</td>\n      <td>26</td>\n      <td>76</td>\n      <td>118</td>\n      <td>26</td>\n      <td>Yaya Sanogo</td>\n      <td>Yaya Sanogo</td>\n      <td>1993-01-27 00:00:00</td>\n      <td>Centre-Forward</td>\n      <td>...</td>\n      <td>0</td>\n      <td>0</td>\n      <td>0.1</td>\n      <td>2016</td>\n      <td>118</td>\n      <td>2016-08-01 00:00:00</td>\n      <td>1000000</td>\n      <td>Arsenal FC</td>\n      <td>/yaya-sanogo/profil/spieler/127194</td>\n      <td>23</td>\n    </tr>\n  </tbody>\n</table>\n<p>537 rows × 33 columns</p>\n</div>"
     },
     "execution_count": 14,
     "metadata": {},
     "output_type": "execute_result"
    }
   ],
   "source": [
    "forwards"
   ]
  },
  {
   "cell_type": "code",
   "execution_count": null,
   "id": "together-service",
   "metadata": {},
   "outputs": [],
   "source": [
    "midfielders"
   ]
  },
  {
   "cell_type": "code",
   "execution_count": null,
   "id": "looking-necessity",
   "metadata": {},
   "outputs": [],
   "source": [
    "center_defenders"
   ]
  },
  {
   "cell_type": "markdown",
   "id": "vulnerable-possibility",
   "metadata": {},
   "source": [
    "### Predicting football player values using regression"
   ]
  },
  {
   "cell_type": "markdown",
   "id": "comfortable-netscape",
   "metadata": {},
   "source": [
    "#### Forwards"
   ]
  },
  {
   "cell_type": "code",
   "execution_count": 19,
   "id": "worldwide-programmer",
   "metadata": {},
   "outputs": [
    {
     "name": "stdout",
     "output_type": "stream",
     "text": [
      "player_value               1.000000\n",
      "bps                        0.535909\n",
      "influence                  0.526255\n",
      "ict_index                  0.510400\n",
      "assists                    0.505730\n",
      "goals_scored               0.499233\n",
      "total_points               0.494848\n",
      "bonus                      0.491916\n",
      "clean_sheets               0.482881\n",
      "threat                     0.481834\n",
      "creativity                 0.470135\n",
      "selected_by_percent        0.419350\n",
      "minutes                    0.387190\n",
      "yellow_cards               0.221897\n",
      "goals_conceded             0.185305\n",
      "year                       0.120254\n",
      "red_cards                 -0.018581\n",
      "age                       -0.053852\n",
      "player_id_fpl             -0.071328\n",
      "guid                      -0.071328\n",
      "player_id_transfermarkt   -0.222536\n",
      "id                        -0.235776\n",
      "Name: player_value, dtype: float64\n"
     ]
    },
    {
     "data": {
      "text/plain": "Index(['player_value', 'bps', 'influence', 'ict_index', 'assists',\n       'goals_scored', 'total_points', 'bonus', 'clean_sheets', 'threat',\n       'creativity', 'selected_by_percent', 'minutes', 'yellow_cards',\n       'goals_conceded', 'year', 'red_cards', 'age', 'player_id_fpl', 'guid',\n       'player_id_transfermarkt', 'id'],\n      dtype='object')"
     },
     "execution_count": 19,
     "metadata": {},
     "output_type": "execute_result"
    }
   ],
   "source": [
    "import numpy as np\n",
    "import seaborn as sn\n",
    "import matplotlib.pyplot as plt\n",
    "corr = forwards.corr()\n",
    "forwards_corr = corr['player_value']\n",
    "forwards_corr = forwards_corr.sort_values(ascending=False)\n",
    "print(forwards_corr)\n",
    "forwards_corr.keys()\n"
   ]
  },
  {
   "cell_type": "code",
   "execution_count": 20,
   "id": "plain-faith",
   "metadata": {},
   "outputs": [],
   "source": [
    "from sklearn.linear_model import LinearRegression"
   ]
  },
  {
   "cell_type": "code",
   "execution_count": 21,
   "id": "creative-savannah",
   "metadata": {},
   "outputs": [],
   "source": [
    "def fit_linear_regression(data, training_parameters, target):\n",
    "    mlr = LinearRegression()\n",
    "    data_fitted = mlr.fit(data[training_parameters], data[target])\n",
    "    return data_fitted\n",
    "    "
   ]
  },
  {
   "cell_type": "code",
   "execution_count": 22,
   "id": "utility-retirement",
   "metadata": {},
   "outputs": [
    {
     "data": {
      "text/plain": "array([14665720.54737131,  9961746.15623184,  4001878.34371869,\n       43700860.290392  ,  7098034.6215979 ,  7425255.69223463,\n       27976021.28370121, 16909992.62135524, 11982802.97458123,\n       18746986.71501051, 55432195.5921303 , 14870616.17517464,\n       22966046.30051636, 19882345.1429767 ,  6894550.84375147,\n       29551534.30588847, 16025310.81284533, 32211100.2649834 ,\n       15752716.46133044,  7399851.11122433, 39772779.44667886,\n       48800608.83482485, 51368502.75699365, 17112347.58608207,\n       31994481.45775695, 21357598.87895424, 75742989.3171145 ,\n       17597164.87409062,  7718551.83352232, 12700004.26431503,\n        7930694.78275046,  9412856.54605197, 23776347.30867244,\n       19365223.89667359,  7472015.79485718, 39776823.59264077,\n       50797786.82321712, 15806915.92839896,  9474531.15104417,\n       23581112.0111877 , 24288046.86592996, 22422535.09511417,\n       20564752.71962359, 45541125.95618437, 17939148.19238997,\n        5363768.44807195,  7472015.79485718,  8641912.44874144,\n       54196059.44169688,  7581153.65204728, 18211414.89279997,\n        9961746.15623184,  7425255.69223463, 27976021.28370121,\n       18746986.71501051, 19882345.1429767 , 32211100.2649834 ,\n       51836712.6132597 , 54541410.48688008, 14665720.54737131,\n       13673653.10776618, 14157974.69011553,  7718551.83352232,\n       19365223.89667359, 25071854.51773747, 41941544.71902882,\n       21376270.55593796,  8338539.45496866, 26641944.10868186,\n       10269965.81950824,  6379435.98586617,  7637687.38409307,\n       39772779.44667886,  8858877.56575143, 68089380.02558641,\n        9269827.2445605 , 67015805.18053038,  7637687.38409307,\n       16907771.45253906, 21834288.59894759,  8477166.22995066,\n       26083813.37224884, 60440881.41568449, 14809480.2776919 ,\n        8964825.73072575, 21475140.62566595,  8080210.08616913,\n       11154423.7542718 , 10040894.3480017 , 24288046.86592996,\n       32211100.2649834 ,  7399851.11122433, 48800608.83482485,\n       51368502.75699365, 17112347.58608207, 31994481.45775695,\n       21357598.87895424, 75742989.3171145 , 17597164.87409062,\n        7718551.83352232, 12700004.26431503,  7930694.78275046,\n        9412856.54605197, 23776347.30867244, 51836712.6132597 ,\n       54541410.48688008, 13673653.10776618,  7718551.83352232,\n       14157974.69011553,  7718551.83352232, 19365223.89667359,\n       25071854.51773747, 41941544.71902882, 21376270.55593796,\n        8338539.45496866, 26641944.10868186, 10269965.81950824,\n        6379435.98586617,  9001933.92302641,  7869357.37347373,\n        7869357.37347373, 19365223.89667359, 27976021.28370121,\n       18746986.71501051,  4702322.13154966, 22966046.30051636,\n       19882345.1429767 , 29551534.30588847, 17112347.58608207,\n       31994481.45775695, 21357598.87895424, 75742989.3171145 ,\n       23776347.30867244, 39776823.59264077, 50797786.82321712,\n       15806915.92839896,  9474531.15104417, 23581112.0111877 ,\n       24288046.86592996, 22422535.09511417, 20564752.71962359,\n       45541125.95618437, 17939148.19238997,  8641912.44874144,\n       54196059.44169688,  7581153.65204728, 18211414.89279997,\n        8858877.56575143, 68089380.02558641,  9269827.2445605 ,\n       67015805.18053038,  7637687.38409307, 16907771.45253906,\n       11154423.7542718 , 21834288.59894759,  8477166.22995066,\n       26083813.37224884, 60440881.41568449, 10040894.3480017 ,\n       14809480.2776919 ,  8964825.73072575, 21475140.62566595,\n        8080210.08616913,  5363768.44807195, 14665720.54737131,\n       13673653.10776618, 22966046.30051636, 19882345.1429767 ,\n       29551534.30588847, 16025310.81284533, 51836712.6132597 ,\n       54541410.48688008, 13673653.10776618,  7718551.83352232,\n       14157974.69011553,  7718551.83352232, 19365223.89667359,\n       25071854.51773747, 41941544.71902882, 21376270.55593796,\n        8338539.45496866, 26641944.10868186, 10269965.81950824,\n        6379435.98586617,  9001933.92302641,  9961746.15623184,\n        4001878.34371869, 43700860.290392  ,  7098034.6215979 ,\n        7425255.69223463, 27976021.28370121, 16909992.62135524,\n       11982802.97458123, 18746986.71501051,  4702322.13154966,\n       55432195.5921303 , 14870616.17517464, 22966046.30051636,\n       19882345.1429767 ,  6894550.84375147, 29551534.30588847,\n       32211100.2649834 , 15752716.46133044,  7399851.11122433,\n       13673653.10776618, 25071854.51773747, 26641944.10868186,\n        9269827.2445605 , 11154423.7542718 , 26083813.37224884,\n       60440881.41568449,  7869357.37347373, 17597164.87409062,\n        9474531.15104417, 23581112.0111877 , 24288046.86592996,\n       22422535.09511417,  7472015.79485718,  7718551.83352232,\n        7718551.83352232, 10095997.39205601, 10095997.39205601,\n       10095997.39205601,  7484492.24971856,  7484492.24971856,\n       31292139.19273309, 31292139.19273309, 33613398.99805428,\n       33613398.99805428, 30894243.50643937, 30894243.50643937,\n       30894243.50643937, 22012928.74574164, 22012928.74574164,\n        6429018.54652534,  6429018.54652534, 32821132.14887257,\n       32821132.14887257, 21410906.2473541 , 21410906.2473541 ,\n       36131756.69296823, 33355703.1005366 , 53923746.15620068,\n       53923746.15620068, 45732571.81663774, 45732571.81663774,\n       18797682.51155182, 18797682.51155182, 18797682.51155182,\n       18797682.51155182,  7718551.83352232,  7718551.83352232,\n       13142915.05001594, 13142915.05001594, 11969528.74737762,\n       11969528.74737762,  7114651.94923559,  7114651.94923559,\n        7114651.94923559,  7718551.83352232,  7718551.83352232,\n        7718551.83352232,  7718551.83352232,  7718551.83352232,\n        7718551.83352232, 16735090.11655683, 16735090.11655683,\n        7718551.83352232,  7718551.83352232, 14714570.90160688,\n       14714570.90160688,  8227758.84944653,  8227758.84944653,\n        6178391.17013323,  6178391.17013323,  7245109.99167553,\n        7365681.14170196,  3953455.08092901,  3953455.08092901,\n       12272741.46114118, 12272741.46114118, 17327800.73329547,\n       17327800.73329547, 12481058.05491875, 12481058.05491875,\n       12481058.05491875,  9745504.89791449,  9745504.89791449,\n        5166144.43374889,  5166144.43374889,  5166144.43374889,\n       24634357.18407777, 11123341.25299498, 11123341.25299498,\n       11123341.25299498,  7718551.83352232,  7718551.83352232,\n        7637687.38409307,  7718551.83352232,  7718551.83352232,\n       16312936.41022808, 16312936.41022808, 16312936.41022808,\n       17248318.4782216 , 17248318.4782216 , 13118858.81977881,\n       13118858.81977881, 13118858.81977881,  5542389.81077963,\n        5542389.81077963, 16618180.63066265, 16618180.63066265,\n       23656281.02423397, 23656281.02423397,  5911958.59574561,\n        5911958.59574561,  5911958.59574561, 28785732.89295111,\n       28785732.89295111, 17213495.54470565, 17213495.54470565,\n       14524889.79077973, 14524889.79077973, 17623852.38364517,\n       17623852.38364517, 17516762.52936381, 17516762.52936381,\n       17516762.52936381, 17516762.52936381, 17516762.52936381,\n        7718551.83352232,  7718551.83352232,  7503620.22561096,\n        6411624.7295257 , 12364207.34857626, 12364207.34857626,\n       10651089.30881621,  7002333.85380234, 24391045.14370139,\n       24391045.14370139, 24391045.14370139,  9350811.77573333,\n        9350811.77573333,  8796473.9605175 ,  8796473.9605175 ,\n        8796473.9605175 ,  6552460.03603386,  6552460.03603386,\n        7718551.83352232,  7718551.83352232,  7497248.38413116,\n        7497248.38413116,  7497248.38413116,  7718551.83352232,\n        7718551.83352232,  4922551.45254271,  4922551.45254271,\n        4922551.45254271,  6165351.56589263,  6165351.56589263,\n        7718551.83352232,  7718551.83352232, 13613243.76176985,\n       13613243.76176985, 19476355.8619469 , 19476355.8619469 ,\n        3589396.36954365,  3589396.36954365,  3589396.36954365,\n        9748428.64838427,  9748428.64838427, 26360101.35795737,\n       26360101.35795737, 14634297.37132562, 14634297.37132562,\n       14634297.37132562,  7624834.36783777,  7624834.36783777,\n        7909101.8370013 ,  9387584.52472491,  9387584.52472491,\n        8641950.76851995,  9250475.89060922,  9250475.89060922,\n        9250475.89060922,  7718551.83352232,  7718551.83352232,\n       20697686.15809131, 20697686.15809131, 20697686.15809131,\n       15985461.49298714, 15985461.49298714,  7907081.61942169,\n        7907081.61942169,  7907081.61942169, 10561677.41612677,\n       10561677.41612677, 10561677.41612677,  7718551.83352232,\n        7718551.83352232,  7846072.45120298,  9481704.67609134,\n        7718551.83352232,  7718551.83352232, 12342382.2102143 ,\n       33826357.12003818, 33826357.12003818,  8950624.48759622,\n       17743501.11287463,  7943294.97465962,  7943294.97465962,\n        7943294.97465962, 19439040.6623571 , 19439040.6623571 ,\n       15094721.19274761, 15094721.19274761,  9226888.05496243,\n        9226888.05496243,  9226888.05496243,  7718551.83352232,\n        7718551.83352232,  7596545.08559878,  7596545.08559878,\n        7730788.03348978,  7730788.03348978,  7730788.03348978,\n        6498931.07140001,  6498931.07140001, 22189241.19982247,\n       22189241.19982247,  8308102.33186773,  8308102.33186773,\n       11585427.56127432, 11585427.56127432, 11585427.56127432,\n       14527256.26138734, 14527256.26138734,  7718551.83352232,\n       18943535.96812506,  8844237.46863464,  8844237.46863464,\n        7718551.83352232,  7718551.83352232,  6701633.74871559,\n        7428631.72981027,  7428631.72981027,  7131455.63035621,\n        7131455.63035621,  8157178.4537931 , 18949154.16098377,\n       30057837.29734006, 24738046.1710123 , 24738046.1710123 ,\n       11400033.43266167, 11400033.43266167,  5835298.77497478,\n        5835298.77497478,  7718551.83352232,  7718551.83352232,\n       12726196.25122138, 12726196.25122138, 12726196.25122138,\n       16696923.51982606, 16696923.51982606,  1515154.8768513 ,\n        1515154.8768513 ,  1515154.8768513 ,  6659320.19068654,\n        6659320.19068654, 32265928.36396025, 32265928.36396025,\n        7081869.27352053,  7081869.27352053, 10117488.85360237,\n       10117488.85360237, 18104170.40366283, 18104170.40366283,\n       18104170.40366283, 12908242.40854058, 12908242.40854058,\n       12908242.40854058,  7718551.83352232,  7718551.83352232,\n       27387669.06676885,  9129786.03953003,  9129786.03953003,\n        9129786.03953003,  9129786.03953003,  6143648.30954577,\n        6143648.30954577,  7718551.83352232,  7718551.83352232,\n        7718551.83352232,  9021957.01697611,  9021957.01697611,\n        9021957.01697611,  7718551.83352232,  7718551.83352232,\n        7718551.83352232,  7718551.83352232,  7718551.83352232,\n        8018949.69717128,  8018949.69717128,  8250914.75006629,\n        6567446.40010978,  6567446.40010978,  7718551.83352232,\n        7718551.83352232, 34780596.98121142, 34780596.98121142,\n       34780596.98121142, 34780596.98121142, 43630206.78512219,\n       43630206.78512219,  7718551.83352232,  7718551.83352232,\n       11324071.12808075, 11324071.12808075, 11324071.12808075,\n       11040067.33863682, 11040067.33863682, 11040067.33863682,\n        5440009.49476728,  5440009.49476728, 17226798.73350829,\n        9517896.00562231,  9517896.00562231,  9517896.00562231,\n        4100294.44742576,  4100294.44742576,  4100294.44742576,\n        4100294.44742576,  7718551.83352232,  7718551.83352232,\n        7718551.83352232,  7718551.83352232,  7718551.83352232])"
     },
     "execution_count": 22,
     "metadata": {},
     "output_type": "execute_result"
    }
   ],
   "source": [
    "forwards_training_parametes = ['bps', 'influence', 'goals_scored', 'ict_index', 'total_points']\n",
    "target = 'player_value'\n",
    "forwards_fit = fit_linear_regression(forwards, forwards_training_parametes , target)\n",
    "\n",
    "predicted_value = forwards_fit.predict(forwards[forwards_training_parametes])\n",
    "predicted_value"
   ]
  },
  {
   "cell_type": "code",
   "execution_count": 23,
   "id": "acknowledged-morning",
   "metadata": {},
   "outputs": [
    {
     "name": "stderr",
     "output_type": "stream",
     "text": [
      "<ipython-input-23-50d99a7b5910>:1: SettingWithCopyWarning: \n",
      "A value is trying to be set on a copy of a slice from a DataFrame.\n",
      "Try using .loc[row_indexer,col_indexer] = value instead\n",
      "\n",
      "See the caveats in the documentation: https://pandas.pydata.org/pandas-docs/stable/user_guide/indexing.html#returning-a-view-versus-a-copy\n",
      "  forwards['predicted_value'] = predicted_value\n"
     ]
    },
    {
     "data": {
      "text/plain": "     first_name  second_name  guid   id  player_id_transfermarkt  \\\n3        Divock        Origi   216  135                      206   \n10       Sergio       Aguero   238   45                       75   \n16          Hal  Robson-Kanu   570  653                      999   \n17      Roberto      Firmino   208  131                      202   \n18       Divock        Origi   216  135                      206   \n...         ...          ...   ...  ...                      ...   \n3617      Glenn       Murray   713  359                      539   \n3618      Glenn       Murray   713  359                      539   \n3619      Glenn       Murray   713  359                      539   \n3620       Yaya       Sanogo    26   76                      118   \n3621       Yaya       Sanogo    26   76                      118   \n\n      player_id_fpl player_name_transfermarkt      player_name  \\\n3               216              Divock Origi     Divock Origi   \n10              238             Sergio Agüero    Sergio Agüero   \n16              570           Hal Robson-Kanu  Hal Robson-Kanu   \n17              208           Roberto Firmino  Roberto Firmino   \n18              216              Divock Origi     Divock Origi   \n...             ...                       ...              ...   \n3617            713              Glenn Murray     Glenn Murray   \n3618            713              Glenn Murray     Glenn Murray   \n3619            713              Glenn Murray     Glenn Murray   \n3620             26               Yaya Sanogo      Yaya Sanogo   \n3621             26               Yaya Sanogo      Yaya Sanogo   \n\n            date_of_birth player_position  ... yellow_cards  \\\n3     1995-04-18 00:00:00  Centre-Forward  ...            0   \n10    1988-06-02 00:00:00  Centre-Forward  ...            0   \n16    1989-05-21 00:00:00  Centre-Forward  ...            1   \n17    1991-10-02 00:00:00  Centre-Forward  ...            1   \n18    1995-04-18 00:00:00  Centre-Forward  ...            0   \n...                   ...             ...  ...          ...   \n3617  1983-09-25 00:00:00  Centre-Forward  ...            0   \n3618  1983-09-25 00:00:00  Centre-Forward  ...            0   \n3619  1983-09-25 00:00:00  Centre-Forward  ...            0   \n3620  1993-01-27 00:00:00  Centre-Forward  ...            0   \n3621  1993-01-27 00:00:00  Centre-Forward  ...            0   \n\n      selected_by_percent  year  transfermarkt_player_id           date_stamp  \\\n3                     0.3  2018                      206  2018-04-04 00:00:00   \n10                    1.4  2020                       75  2020-04-08 00:00:00   \n16                    0.1  2020                      999  2020-04-08 00:00:00   \n17                    3.0  2020                      202  2020-04-08 00:00:00   \n18                    0.6  2020                      206  2020-04-08 00:00:00   \n...                   ...   ...                      ...                  ...   \n3617                  0.1  2020                      539  2020-04-08 00:00:00   \n3618                  0.1  2020                      539  2020-08-17 00:00:00   \n3619                  0.1  2020                      539  2020-10-13 00:00:00   \n3620                  0.1  2016                      118  2016-04-20 00:00:00   \n3621                  0.1  2016                      118  2016-08-01 00:00:00   \n\n      player_value        player_club                              player_url  \\\n3         10000000      VfL Wolfsburg     /divock-origi/profil/spieler/148368   \n10        52000000    Manchester City     /sergio-aguero/profil/spieler/26399   \n16         4500000      Oxford United     /ben-woodburn/profil/spieler/344015   \n17        72000000       Liverpool FC  /roberto-firmino/profil/spieler/131789   \n18        16000000       Liverpool FC     /divock-origi/profil/spieler/148368   \n...            ...                ...                                     ...   \n3617       4800000        Sporting CP   /yannick-bolasie/profil/spieler/75471   \n3618       4000000         Everton FC   /yannick-bolasie/profil/spieler/75471   \n3619       3500000         Everton FC   /yannick-bolasie/profil/spieler/75471   \n3620       1500000  Charlton Athletic      /yaya-sanogo/profil/spieler/127194   \n3621       1000000         Arsenal FC      /yaya-sanogo/profil/spieler/127194   \n\n      age  predicted_value  \n3      23     1.466572e+07  \n10     32     9.961746e+06  \n16     31     4.001878e+06  \n17     29     4.370086e+07  \n18     25     7.098035e+06  \n...   ...              ...  \n3617   37     7.718552e+06  \n3618   37     7.718552e+06  \n3619   37     7.718552e+06  \n3620   23     7.718552e+06  \n3621   23     7.718552e+06  \n\n[537 rows x 34 columns]",
      "text/html": "<div>\n<style scoped>\n    .dataframe tbody tr th:only-of-type {\n        vertical-align: middle;\n    }\n\n    .dataframe tbody tr th {\n        vertical-align: top;\n    }\n\n    .dataframe thead th {\n        text-align: right;\n    }\n</style>\n<table border=\"1\" class=\"dataframe\">\n  <thead>\n    <tr style=\"text-align: right;\">\n      <th></th>\n      <th>first_name</th>\n      <th>second_name</th>\n      <th>guid</th>\n      <th>id</th>\n      <th>player_id_transfermarkt</th>\n      <th>player_id_fpl</th>\n      <th>player_name_transfermarkt</th>\n      <th>player_name</th>\n      <th>date_of_birth</th>\n      <th>player_position</th>\n      <th>...</th>\n      <th>yellow_cards</th>\n      <th>selected_by_percent</th>\n      <th>year</th>\n      <th>transfermarkt_player_id</th>\n      <th>date_stamp</th>\n      <th>player_value</th>\n      <th>player_club</th>\n      <th>player_url</th>\n      <th>age</th>\n      <th>predicted_value</th>\n    </tr>\n  </thead>\n  <tbody>\n    <tr>\n      <th>3</th>\n      <td>Divock</td>\n      <td>Origi</td>\n      <td>216</td>\n      <td>135</td>\n      <td>206</td>\n      <td>216</td>\n      <td>Divock Origi</td>\n      <td>Divock Origi</td>\n      <td>1995-04-18 00:00:00</td>\n      <td>Centre-Forward</td>\n      <td>...</td>\n      <td>0</td>\n      <td>0.3</td>\n      <td>2018</td>\n      <td>206</td>\n      <td>2018-04-04 00:00:00</td>\n      <td>10000000</td>\n      <td>VfL Wolfsburg</td>\n      <td>/divock-origi/profil/spieler/148368</td>\n      <td>23</td>\n      <td>1.466572e+07</td>\n    </tr>\n    <tr>\n      <th>10</th>\n      <td>Sergio</td>\n      <td>Aguero</td>\n      <td>238</td>\n      <td>45</td>\n      <td>75</td>\n      <td>238</td>\n      <td>Sergio Agüero</td>\n      <td>Sergio Agüero</td>\n      <td>1988-06-02 00:00:00</td>\n      <td>Centre-Forward</td>\n      <td>...</td>\n      <td>0</td>\n      <td>1.4</td>\n      <td>2020</td>\n      <td>75</td>\n      <td>2020-04-08 00:00:00</td>\n      <td>52000000</td>\n      <td>Manchester City</td>\n      <td>/sergio-aguero/profil/spieler/26399</td>\n      <td>32</td>\n      <td>9.961746e+06</td>\n    </tr>\n    <tr>\n      <th>16</th>\n      <td>Hal</td>\n      <td>Robson-Kanu</td>\n      <td>570</td>\n      <td>653</td>\n      <td>999</td>\n      <td>570</td>\n      <td>Hal Robson-Kanu</td>\n      <td>Hal Robson-Kanu</td>\n      <td>1989-05-21 00:00:00</td>\n      <td>Centre-Forward</td>\n      <td>...</td>\n      <td>1</td>\n      <td>0.1</td>\n      <td>2020</td>\n      <td>999</td>\n      <td>2020-04-08 00:00:00</td>\n      <td>4500000</td>\n      <td>Oxford United</td>\n      <td>/ben-woodburn/profil/spieler/344015</td>\n      <td>31</td>\n      <td>4.001878e+06</td>\n    </tr>\n    <tr>\n      <th>17</th>\n      <td>Roberto</td>\n      <td>Firmino</td>\n      <td>208</td>\n      <td>131</td>\n      <td>202</td>\n      <td>208</td>\n      <td>Roberto Firmino</td>\n      <td>Roberto Firmino</td>\n      <td>1991-10-02 00:00:00</td>\n      <td>Centre-Forward</td>\n      <td>...</td>\n      <td>1</td>\n      <td>3.0</td>\n      <td>2020</td>\n      <td>202</td>\n      <td>2020-04-08 00:00:00</td>\n      <td>72000000</td>\n      <td>Liverpool FC</td>\n      <td>/roberto-firmino/profil/spieler/131789</td>\n      <td>29</td>\n      <td>4.370086e+07</td>\n    </tr>\n    <tr>\n      <th>18</th>\n      <td>Divock</td>\n      <td>Origi</td>\n      <td>216</td>\n      <td>135</td>\n      <td>206</td>\n      <td>216</td>\n      <td>Divock Origi</td>\n      <td>Divock Origi</td>\n      <td>1995-04-18 00:00:00</td>\n      <td>Centre-Forward</td>\n      <td>...</td>\n      <td>0</td>\n      <td>0.6</td>\n      <td>2020</td>\n      <td>206</td>\n      <td>2020-04-08 00:00:00</td>\n      <td>16000000</td>\n      <td>Liverpool FC</td>\n      <td>/divock-origi/profil/spieler/148368</td>\n      <td>25</td>\n      <td>7.098035e+06</td>\n    </tr>\n    <tr>\n      <th>...</th>\n      <td>...</td>\n      <td>...</td>\n      <td>...</td>\n      <td>...</td>\n      <td>...</td>\n      <td>...</td>\n      <td>...</td>\n      <td>...</td>\n      <td>...</td>\n      <td>...</td>\n      <td>...</td>\n      <td>...</td>\n      <td>...</td>\n      <td>...</td>\n      <td>...</td>\n      <td>...</td>\n      <td>...</td>\n      <td>...</td>\n      <td>...</td>\n      <td>...</td>\n      <td>...</td>\n    </tr>\n    <tr>\n      <th>3617</th>\n      <td>Glenn</td>\n      <td>Murray</td>\n      <td>713</td>\n      <td>359</td>\n      <td>539</td>\n      <td>713</td>\n      <td>Glenn Murray</td>\n      <td>Glenn Murray</td>\n      <td>1983-09-25 00:00:00</td>\n      <td>Centre-Forward</td>\n      <td>...</td>\n      <td>0</td>\n      <td>0.1</td>\n      <td>2020</td>\n      <td>539</td>\n      <td>2020-04-08 00:00:00</td>\n      <td>4800000</td>\n      <td>Sporting CP</td>\n      <td>/yannick-bolasie/profil/spieler/75471</td>\n      <td>37</td>\n      <td>7.718552e+06</td>\n    </tr>\n    <tr>\n      <th>3618</th>\n      <td>Glenn</td>\n      <td>Murray</td>\n      <td>713</td>\n      <td>359</td>\n      <td>539</td>\n      <td>713</td>\n      <td>Glenn Murray</td>\n      <td>Glenn Murray</td>\n      <td>1983-09-25 00:00:00</td>\n      <td>Centre-Forward</td>\n      <td>...</td>\n      <td>0</td>\n      <td>0.1</td>\n      <td>2020</td>\n      <td>539</td>\n      <td>2020-08-17 00:00:00</td>\n      <td>4000000</td>\n      <td>Everton FC</td>\n      <td>/yannick-bolasie/profil/spieler/75471</td>\n      <td>37</td>\n      <td>7.718552e+06</td>\n    </tr>\n    <tr>\n      <th>3619</th>\n      <td>Glenn</td>\n      <td>Murray</td>\n      <td>713</td>\n      <td>359</td>\n      <td>539</td>\n      <td>713</td>\n      <td>Glenn Murray</td>\n      <td>Glenn Murray</td>\n      <td>1983-09-25 00:00:00</td>\n      <td>Centre-Forward</td>\n      <td>...</td>\n      <td>0</td>\n      <td>0.1</td>\n      <td>2020</td>\n      <td>539</td>\n      <td>2020-10-13 00:00:00</td>\n      <td>3500000</td>\n      <td>Everton FC</td>\n      <td>/yannick-bolasie/profil/spieler/75471</td>\n      <td>37</td>\n      <td>7.718552e+06</td>\n    </tr>\n    <tr>\n      <th>3620</th>\n      <td>Yaya</td>\n      <td>Sanogo</td>\n      <td>26</td>\n      <td>76</td>\n      <td>118</td>\n      <td>26</td>\n      <td>Yaya Sanogo</td>\n      <td>Yaya Sanogo</td>\n      <td>1993-01-27 00:00:00</td>\n      <td>Centre-Forward</td>\n      <td>...</td>\n      <td>0</td>\n      <td>0.1</td>\n      <td>2016</td>\n      <td>118</td>\n      <td>2016-04-20 00:00:00</td>\n      <td>1500000</td>\n      <td>Charlton Athletic</td>\n      <td>/yaya-sanogo/profil/spieler/127194</td>\n      <td>23</td>\n      <td>7.718552e+06</td>\n    </tr>\n    <tr>\n      <th>3621</th>\n      <td>Yaya</td>\n      <td>Sanogo</td>\n      <td>26</td>\n      <td>76</td>\n      <td>118</td>\n      <td>26</td>\n      <td>Yaya Sanogo</td>\n      <td>Yaya Sanogo</td>\n      <td>1993-01-27 00:00:00</td>\n      <td>Centre-Forward</td>\n      <td>...</td>\n      <td>0</td>\n      <td>0.1</td>\n      <td>2016</td>\n      <td>118</td>\n      <td>2016-08-01 00:00:00</td>\n      <td>1000000</td>\n      <td>Arsenal FC</td>\n      <td>/yaya-sanogo/profil/spieler/127194</td>\n      <td>23</td>\n      <td>7.718552e+06</td>\n    </tr>\n  </tbody>\n</table>\n<p>537 rows × 34 columns</p>\n</div>"
     },
     "execution_count": 23,
     "metadata": {},
     "output_type": "execute_result"
    }
   ],
   "source": [
    "forwards['predicted_value'] = predicted_value\n",
    "forwards"
   ]
  },
  {
   "cell_type": "code",
   "execution_count": 24,
   "id": "closing-engagement",
   "metadata": {},
   "outputs": [
    {
     "data": {
      "text/plain": "     first_name  second_name  guid   id  player_id_transfermarkt  \\\n3        Divock        Origi   216  135                      206   \n10       Sergio       Aguero   238   45                       75   \n16          Hal  Robson-Kanu   570  653                      999   \n17      Roberto      Firmino   208  131                      202   \n18       Divock        Origi   216  135                      206   \n...         ...          ...   ...  ...                      ...   \n3617      Glenn       Murray   713  359                      539   \n3618      Glenn       Murray   713  359                      539   \n3619      Glenn       Murray   713  359                      539   \n3620       Yaya       Sanogo    26   76                      118   \n3621       Yaya       Sanogo    26   76                      118   \n\n      player_id_fpl player_name_transfermarkt      player_name  \\\n3               216              Divock Origi     Divock Origi   \n10              238             Sergio Agüero    Sergio Agüero   \n16              570           Hal Robson-Kanu  Hal Robson-Kanu   \n17              208           Roberto Firmino  Roberto Firmino   \n18              216              Divock Origi     Divock Origi   \n...             ...                       ...              ...   \n3617            713              Glenn Murray     Glenn Murray   \n3618            713              Glenn Murray     Glenn Murray   \n3619            713              Glenn Murray     Glenn Murray   \n3620             26               Yaya Sanogo      Yaya Sanogo   \n3621             26               Yaya Sanogo      Yaya Sanogo   \n\n            date_of_birth player_position  ... yellow_cards  \\\n3     1995-04-18 00:00:00  Centre-Forward  ...            0   \n10    1988-06-02 00:00:00  Centre-Forward  ...            0   \n16    1989-05-21 00:00:00  Centre-Forward  ...            1   \n17    1991-10-02 00:00:00  Centre-Forward  ...            1   \n18    1995-04-18 00:00:00  Centre-Forward  ...            0   \n...                   ...             ...  ...          ...   \n3617  1983-09-25 00:00:00  Centre-Forward  ...            0   \n3618  1983-09-25 00:00:00  Centre-Forward  ...            0   \n3619  1983-09-25 00:00:00  Centre-Forward  ...            0   \n3620  1993-01-27 00:00:00  Centre-Forward  ...            0   \n3621  1993-01-27 00:00:00  Centre-Forward  ...            0   \n\n      selected_by_percent  year  transfermarkt_player_id           date_stamp  \\\n3                     0.3  2018                      206  2018-04-04 00:00:00   \n10                    1.4  2020                       75  2020-04-08 00:00:00   \n16                    0.1  2020                      999  2020-04-08 00:00:00   \n17                    3.0  2020                      202  2020-04-08 00:00:00   \n18                    0.6  2020                      206  2020-04-08 00:00:00   \n...                   ...   ...                      ...                  ...   \n3617                  0.1  2020                      539  2020-04-08 00:00:00   \n3618                  0.1  2020                      539  2020-08-17 00:00:00   \n3619                  0.1  2020                      539  2020-10-13 00:00:00   \n3620                  0.1  2016                      118  2016-04-20 00:00:00   \n3621                  0.1  2016                      118  2016-08-01 00:00:00   \n\n      player_value        player_club                              player_url  \\\n3         10000000      VfL Wolfsburg     /divock-origi/profil/spieler/148368   \n10        52000000    Manchester City     /sergio-aguero/profil/spieler/26399   \n16         4500000      Oxford United     /ben-woodburn/profil/spieler/344015   \n17        72000000       Liverpool FC  /roberto-firmino/profil/spieler/131789   \n18        16000000       Liverpool FC     /divock-origi/profil/spieler/148368   \n...            ...                ...                                     ...   \n3617       4800000        Sporting CP   /yannick-bolasie/profil/spieler/75471   \n3618       4000000         Everton FC   /yannick-bolasie/profil/spieler/75471   \n3619       3500000         Everton FC   /yannick-bolasie/profil/spieler/75471   \n3620       1500000  Charlton Athletic      /yaya-sanogo/profil/spieler/127194   \n3621       1000000         Arsenal FC      /yaya-sanogo/profil/spieler/127194   \n\n      age  predicted_value  \n3      23     1.466572e+07  \n10     32     9.961746e+06  \n16     31     4.001878e+06  \n17     29     4.370086e+07  \n18     25     7.098035e+06  \n...   ...              ...  \n3617   37     7.718552e+06  \n3618   37     7.718552e+06  \n3619   37     7.718552e+06  \n3620   23     7.718552e+06  \n3621   23     7.718552e+06  \n\n[537 rows x 34 columns]",
      "text/html": "<div>\n<style scoped>\n    .dataframe tbody tr th:only-of-type {\n        vertical-align: middle;\n    }\n\n    .dataframe tbody tr th {\n        vertical-align: top;\n    }\n\n    .dataframe thead th {\n        text-align: right;\n    }\n</style>\n<table border=\"1\" class=\"dataframe\">\n  <thead>\n    <tr style=\"text-align: right;\">\n      <th></th>\n      <th>first_name</th>\n      <th>second_name</th>\n      <th>guid</th>\n      <th>id</th>\n      <th>player_id_transfermarkt</th>\n      <th>player_id_fpl</th>\n      <th>player_name_transfermarkt</th>\n      <th>player_name</th>\n      <th>date_of_birth</th>\n      <th>player_position</th>\n      <th>...</th>\n      <th>yellow_cards</th>\n      <th>selected_by_percent</th>\n      <th>year</th>\n      <th>transfermarkt_player_id</th>\n      <th>date_stamp</th>\n      <th>player_value</th>\n      <th>player_club</th>\n      <th>player_url</th>\n      <th>age</th>\n      <th>predicted_value</th>\n    </tr>\n  </thead>\n  <tbody>\n    <tr>\n      <th>3</th>\n      <td>Divock</td>\n      <td>Origi</td>\n      <td>216</td>\n      <td>135</td>\n      <td>206</td>\n      <td>216</td>\n      <td>Divock Origi</td>\n      <td>Divock Origi</td>\n      <td>1995-04-18 00:00:00</td>\n      <td>Centre-Forward</td>\n      <td>...</td>\n      <td>0</td>\n      <td>0.3</td>\n      <td>2018</td>\n      <td>206</td>\n      <td>2018-04-04 00:00:00</td>\n      <td>10000000</td>\n      <td>VfL Wolfsburg</td>\n      <td>/divock-origi/profil/spieler/148368</td>\n      <td>23</td>\n      <td>1.466572e+07</td>\n    </tr>\n    <tr>\n      <th>10</th>\n      <td>Sergio</td>\n      <td>Aguero</td>\n      <td>238</td>\n      <td>45</td>\n      <td>75</td>\n      <td>238</td>\n      <td>Sergio Agüero</td>\n      <td>Sergio Agüero</td>\n      <td>1988-06-02 00:00:00</td>\n      <td>Centre-Forward</td>\n      <td>...</td>\n      <td>0</td>\n      <td>1.4</td>\n      <td>2020</td>\n      <td>75</td>\n      <td>2020-04-08 00:00:00</td>\n      <td>52000000</td>\n      <td>Manchester City</td>\n      <td>/sergio-aguero/profil/spieler/26399</td>\n      <td>32</td>\n      <td>9.961746e+06</td>\n    </tr>\n    <tr>\n      <th>16</th>\n      <td>Hal</td>\n      <td>Robson-Kanu</td>\n      <td>570</td>\n      <td>653</td>\n      <td>999</td>\n      <td>570</td>\n      <td>Hal Robson-Kanu</td>\n      <td>Hal Robson-Kanu</td>\n      <td>1989-05-21 00:00:00</td>\n      <td>Centre-Forward</td>\n      <td>...</td>\n      <td>1</td>\n      <td>0.1</td>\n      <td>2020</td>\n      <td>999</td>\n      <td>2020-04-08 00:00:00</td>\n      <td>4500000</td>\n      <td>Oxford United</td>\n      <td>/ben-woodburn/profil/spieler/344015</td>\n      <td>31</td>\n      <td>4.001878e+06</td>\n    </tr>\n    <tr>\n      <th>17</th>\n      <td>Roberto</td>\n      <td>Firmino</td>\n      <td>208</td>\n      <td>131</td>\n      <td>202</td>\n      <td>208</td>\n      <td>Roberto Firmino</td>\n      <td>Roberto Firmino</td>\n      <td>1991-10-02 00:00:00</td>\n      <td>Centre-Forward</td>\n      <td>...</td>\n      <td>1</td>\n      <td>3.0</td>\n      <td>2020</td>\n      <td>202</td>\n      <td>2020-04-08 00:00:00</td>\n      <td>72000000</td>\n      <td>Liverpool FC</td>\n      <td>/roberto-firmino/profil/spieler/131789</td>\n      <td>29</td>\n      <td>4.370086e+07</td>\n    </tr>\n    <tr>\n      <th>18</th>\n      <td>Divock</td>\n      <td>Origi</td>\n      <td>216</td>\n      <td>135</td>\n      <td>206</td>\n      <td>216</td>\n      <td>Divock Origi</td>\n      <td>Divock Origi</td>\n      <td>1995-04-18 00:00:00</td>\n      <td>Centre-Forward</td>\n      <td>...</td>\n      <td>0</td>\n      <td>0.6</td>\n      <td>2020</td>\n      <td>206</td>\n      <td>2020-04-08 00:00:00</td>\n      <td>16000000</td>\n      <td>Liverpool FC</td>\n      <td>/divock-origi/profil/spieler/148368</td>\n      <td>25</td>\n      <td>7.098035e+06</td>\n    </tr>\n    <tr>\n      <th>...</th>\n      <td>...</td>\n      <td>...</td>\n      <td>...</td>\n      <td>...</td>\n      <td>...</td>\n      <td>...</td>\n      <td>...</td>\n      <td>...</td>\n      <td>...</td>\n      <td>...</td>\n      <td>...</td>\n      <td>...</td>\n      <td>...</td>\n      <td>...</td>\n      <td>...</td>\n      <td>...</td>\n      <td>...</td>\n      <td>...</td>\n      <td>...</td>\n      <td>...</td>\n      <td>...</td>\n    </tr>\n    <tr>\n      <th>3617</th>\n      <td>Glenn</td>\n      <td>Murray</td>\n      <td>713</td>\n      <td>359</td>\n      <td>539</td>\n      <td>713</td>\n      <td>Glenn Murray</td>\n      <td>Glenn Murray</td>\n      <td>1983-09-25 00:00:00</td>\n      <td>Centre-Forward</td>\n      <td>...</td>\n      <td>0</td>\n      <td>0.1</td>\n      <td>2020</td>\n      <td>539</td>\n      <td>2020-04-08 00:00:00</td>\n      <td>4800000</td>\n      <td>Sporting CP</td>\n      <td>/yannick-bolasie/profil/spieler/75471</td>\n      <td>37</td>\n      <td>7.718552e+06</td>\n    </tr>\n    <tr>\n      <th>3618</th>\n      <td>Glenn</td>\n      <td>Murray</td>\n      <td>713</td>\n      <td>359</td>\n      <td>539</td>\n      <td>713</td>\n      <td>Glenn Murray</td>\n      <td>Glenn Murray</td>\n      <td>1983-09-25 00:00:00</td>\n      <td>Centre-Forward</td>\n      <td>...</td>\n      <td>0</td>\n      <td>0.1</td>\n      <td>2020</td>\n      <td>539</td>\n      <td>2020-08-17 00:00:00</td>\n      <td>4000000</td>\n      <td>Everton FC</td>\n      <td>/yannick-bolasie/profil/spieler/75471</td>\n      <td>37</td>\n      <td>7.718552e+06</td>\n    </tr>\n    <tr>\n      <th>3619</th>\n      <td>Glenn</td>\n      <td>Murray</td>\n      <td>713</td>\n      <td>359</td>\n      <td>539</td>\n      <td>713</td>\n      <td>Glenn Murray</td>\n      <td>Glenn Murray</td>\n      <td>1983-09-25 00:00:00</td>\n      <td>Centre-Forward</td>\n      <td>...</td>\n      <td>0</td>\n      <td>0.1</td>\n      <td>2020</td>\n      <td>539</td>\n      <td>2020-10-13 00:00:00</td>\n      <td>3500000</td>\n      <td>Everton FC</td>\n      <td>/yannick-bolasie/profil/spieler/75471</td>\n      <td>37</td>\n      <td>7.718552e+06</td>\n    </tr>\n    <tr>\n      <th>3620</th>\n      <td>Yaya</td>\n      <td>Sanogo</td>\n      <td>26</td>\n      <td>76</td>\n      <td>118</td>\n      <td>26</td>\n      <td>Yaya Sanogo</td>\n      <td>Yaya Sanogo</td>\n      <td>1993-01-27 00:00:00</td>\n      <td>Centre-Forward</td>\n      <td>...</td>\n      <td>0</td>\n      <td>0.1</td>\n      <td>2016</td>\n      <td>118</td>\n      <td>2016-04-20 00:00:00</td>\n      <td>1500000</td>\n      <td>Charlton Athletic</td>\n      <td>/yaya-sanogo/profil/spieler/127194</td>\n      <td>23</td>\n      <td>7.718552e+06</td>\n    </tr>\n    <tr>\n      <th>3621</th>\n      <td>Yaya</td>\n      <td>Sanogo</td>\n      <td>26</td>\n      <td>76</td>\n      <td>118</td>\n      <td>26</td>\n      <td>Yaya Sanogo</td>\n      <td>Yaya Sanogo</td>\n      <td>1993-01-27 00:00:00</td>\n      <td>Centre-Forward</td>\n      <td>...</td>\n      <td>0</td>\n      <td>0.1</td>\n      <td>2016</td>\n      <td>118</td>\n      <td>2016-08-01 00:00:00</td>\n      <td>1000000</td>\n      <td>Arsenal FC</td>\n      <td>/yaya-sanogo/profil/spieler/127194</td>\n      <td>23</td>\n      <td>7.718552e+06</td>\n    </tr>\n  </tbody>\n</table>\n<p>537 rows × 34 columns</p>\n</div>"
     },
     "execution_count": 24,
     "metadata": {},
     "output_type": "execute_result"
    }
   ],
   "source": [
    "forwards"
   ]
  },
  {
   "cell_type": "code",
   "execution_count": 27,
   "id": "fifty-footwear",
   "metadata": {},
   "outputs": [
    {
     "name": "stderr",
     "output_type": "stream",
     "text": [
      "<ipython-input-27-911ba968776e>:5: SettingWithCopyWarning: \n",
      "A value is trying to be set on a copy of a slice from a DataFrame.\n",
      "Try using .loc[row_indexer,col_indexer] = value instead\n",
      "\n",
      "See the caveats in the documentation: https://pandas.pydata.org/pandas-docs/stable/user_guide/indexing.html#returning-a-view-versus-a-copy\n",
      "  data[\"predicted_value_diff\"] = data.apply(predicted_value_diff, axis=1)\n",
      "<ipython-input-27-911ba968776e>:6: SettingWithCopyWarning: \n",
      "A value is trying to be set on a copy of a slice from a DataFrame.\n",
      "Try using .loc[row_indexer,col_indexer] = value instead\n",
      "\n",
      "See the caveats in the documentation: https://pandas.pydata.org/pandas-docs/stable/user_guide/indexing.html#returning-a-view-versus-a-copy\n",
      "  data[\"predicted_value_diff_percent\"] = data.apply(predicted_value_diff_percent, axis=1)\n"
     ]
    }
   ],
   "source": [
    "predicted_value_diff = lambda x: (x['predicted_value']  - x['player_value'])\n",
    "predicted_value_diff_percent = lambda x: ((x['predicted_value'] - x['player_value']) / (x['player_value'])) * 100\n",
    "\n",
    "def get_predicted_value_diff(data):\n",
    "    data[\"predicted_value_diff\"] = data.apply(predicted_value_diff, axis=1)\n",
    "    data[\"predicted_value_diff_percent\"] = data.apply(predicted_value_diff_percent, axis=1)\n",
    "\n",
    "get_predicted_value_diff(forwards)"
   ]
  },
  {
   "cell_type": "code",
   "execution_count": 28,
   "id": "unusual-lying",
   "metadata": {},
   "outputs": [
    {
     "data": {
      "text/plain": "     first_name second_name  guid    id  player_id_transfermarkt  \\\n620       Harry        Kane   402   163                      238   \n949       Danny        Ings   215   134                      205   \n309       Danny        Ings   215   134                      205   \n153       Harry        Kane   402   163                      238   \n843       Harry        Kane   402   163                      238   \n...         ...         ...   ...   ...                      ...   \n909       Harry        Kane   402   163                      238   \n397       Harry        Kane   402   163                      238   \n1162      Harry        Kane   402   163                      238   \n1509       Andi      Zeqiri  1320  1197                     1805   \n1508       Andi      Zeqiri  1320  1197                     1805   \n\n      player_id_fpl player_name_transfermarkt  player_name  \\\n620             402                Harry Kane   Harry Kane   \n949             215                Danny Ings   Danny Ings   \n309             215                Danny Ings   Danny Ings   \n153             402                Harry Kane   Harry Kane   \n843             402                Harry Kane   Harry Kane   \n...             ...                       ...          ...   \n909             402                Harry Kane   Harry Kane   \n397             402                Harry Kane   Harry Kane   \n1162            402                Harry Kane   Harry Kane   \n1509           1320               Andi Zeqiri  Andi Zeqiri   \n1508           1320               Andi Zeqiri  Andi Zeqiri   \n\n            date_of_birth player_position  ...  year  transfermarkt_player_id  \\\n620   1993-07-28 00:00:00  Centre-Forward  ...  2016                      238   \n949   1992-07-23 00:00:00  Centre-Forward  ...  2019                      205   \n309   1992-07-23 00:00:00  Centre-Forward  ...  2019                      205   \n153   1993-07-28 00:00:00  Centre-Forward  ...  2016                      238   \n843   1993-07-28 00:00:00  Centre-Forward  ...  2016                      238   \n...                   ...             ...  ...   ...                      ...   \n909   1993-07-28 00:00:00  Centre-Forward  ...  2019                      238   \n397   1993-07-28 00:00:00  Centre-Forward  ...  2018                      238   \n1162  1993-07-28 00:00:00  Centre-Forward  ...  2018                      238   \n1509  1999-06-22 00:00:00  Centre-Forward  ...  2020                     1805   \n1508  1999-06-22 00:00:00  Centre-Forward  ...  2020                     1805   \n\n               date_stamp  player_value        player_club  \\\n620   2016-02-09 00:00:00      30000000  Tottenham Hotspur   \n949   2019-06-13 00:00:00      15000000     Southampton FC   \n309   2019-12-10 00:00:00      18000000     Southampton FC   \n153   2016-08-01 00:00:00      40000000  Tottenham Hotspur   \n843   2016-06-01 00:00:00      40000000  Tottenham Hotspur   \n...                   ...           ...                ...   \n909   2019-06-13 00:00:00     150000000  Tottenham Hotspur   \n397   2018-12-19 00:00:00     150000000  Tottenham Hotspur   \n1162  2018-05-28 00:00:00     150000000  Tottenham Hotspur   \n1509  2020-10-13 00:00:00     120000000       Liverpool FC   \n1508  2020-04-08 00:00:00     120000000       Liverpool FC   \n\n                                player_url  age  predicted_value  \\\n620      /harry-kane/profil/spieler/132098   23     7.574299e+07   \n949      /danny-ings/profil/spieler/134294   27     5.419606e+07   \n309      /danny-ings/profil/spieler/134294   27     5.419606e+07   \n153      /harry-kane/profil/spieler/132098   23     7.574299e+07   \n843      /harry-kane/profil/spieler/132098   23     7.574299e+07   \n...                                    ...  ...              ...   \n909      /harry-kane/profil/spieler/132098   26     4.554113e+07   \n397      /harry-kane/profil/spieler/132098   25     4.194154e+07   \n1162     /harry-kane/profil/spieler/132098   25     4.194154e+07   \n1509  /mohamed-salah/profil/spieler/148455   21     7.484492e+06   \n1508  /mohamed-salah/profil/spieler/148455   21     7.484492e+06   \n\n      predicted_value_diff  predicted_value_diff_percent  \n620           4.574299e+07                    152.476631  \n949           3.919606e+07                    261.307063  \n309           3.619606e+07                    201.089219  \n153           3.574299e+07                     89.357473  \n843           3.574299e+07                     89.357473  \n...                    ...                           ...  \n909          -1.044589e+08                    -69.639249  \n397          -1.080585e+08                    -72.038970  \n1162         -1.080585e+08                    -72.038970  \n1509         -1.125155e+08                    -93.762923  \n1508         -1.125155e+08                    -93.762923  \n\n[537 rows x 36 columns]",
      "text/html": "<div>\n<style scoped>\n    .dataframe tbody tr th:only-of-type {\n        vertical-align: middle;\n    }\n\n    .dataframe tbody tr th {\n        vertical-align: top;\n    }\n\n    .dataframe thead th {\n        text-align: right;\n    }\n</style>\n<table border=\"1\" class=\"dataframe\">\n  <thead>\n    <tr style=\"text-align: right;\">\n      <th></th>\n      <th>first_name</th>\n      <th>second_name</th>\n      <th>guid</th>\n      <th>id</th>\n      <th>player_id_transfermarkt</th>\n      <th>player_id_fpl</th>\n      <th>player_name_transfermarkt</th>\n      <th>player_name</th>\n      <th>date_of_birth</th>\n      <th>player_position</th>\n      <th>...</th>\n      <th>year</th>\n      <th>transfermarkt_player_id</th>\n      <th>date_stamp</th>\n      <th>player_value</th>\n      <th>player_club</th>\n      <th>player_url</th>\n      <th>age</th>\n      <th>predicted_value</th>\n      <th>predicted_value_diff</th>\n      <th>predicted_value_diff_percent</th>\n    </tr>\n  </thead>\n  <tbody>\n    <tr>\n      <th>620</th>\n      <td>Harry</td>\n      <td>Kane</td>\n      <td>402</td>\n      <td>163</td>\n      <td>238</td>\n      <td>402</td>\n      <td>Harry Kane</td>\n      <td>Harry Kane</td>\n      <td>1993-07-28 00:00:00</td>\n      <td>Centre-Forward</td>\n      <td>...</td>\n      <td>2016</td>\n      <td>238</td>\n      <td>2016-02-09 00:00:00</td>\n      <td>30000000</td>\n      <td>Tottenham Hotspur</td>\n      <td>/harry-kane/profil/spieler/132098</td>\n      <td>23</td>\n      <td>7.574299e+07</td>\n      <td>4.574299e+07</td>\n      <td>152.476631</td>\n    </tr>\n    <tr>\n      <th>949</th>\n      <td>Danny</td>\n      <td>Ings</td>\n      <td>215</td>\n      <td>134</td>\n      <td>205</td>\n      <td>215</td>\n      <td>Danny Ings</td>\n      <td>Danny Ings</td>\n      <td>1992-07-23 00:00:00</td>\n      <td>Centre-Forward</td>\n      <td>...</td>\n      <td>2019</td>\n      <td>205</td>\n      <td>2019-06-13 00:00:00</td>\n      <td>15000000</td>\n      <td>Southampton FC</td>\n      <td>/danny-ings/profil/spieler/134294</td>\n      <td>27</td>\n      <td>5.419606e+07</td>\n      <td>3.919606e+07</td>\n      <td>261.307063</td>\n    </tr>\n    <tr>\n      <th>309</th>\n      <td>Danny</td>\n      <td>Ings</td>\n      <td>215</td>\n      <td>134</td>\n      <td>205</td>\n      <td>215</td>\n      <td>Danny Ings</td>\n      <td>Danny Ings</td>\n      <td>1992-07-23 00:00:00</td>\n      <td>Centre-Forward</td>\n      <td>...</td>\n      <td>2019</td>\n      <td>205</td>\n      <td>2019-12-10 00:00:00</td>\n      <td>18000000</td>\n      <td>Southampton FC</td>\n      <td>/danny-ings/profil/spieler/134294</td>\n      <td>27</td>\n      <td>5.419606e+07</td>\n      <td>3.619606e+07</td>\n      <td>201.089219</td>\n    </tr>\n    <tr>\n      <th>153</th>\n      <td>Harry</td>\n      <td>Kane</td>\n      <td>402</td>\n      <td>163</td>\n      <td>238</td>\n      <td>402</td>\n      <td>Harry Kane</td>\n      <td>Harry Kane</td>\n      <td>1993-07-28 00:00:00</td>\n      <td>Centre-Forward</td>\n      <td>...</td>\n      <td>2016</td>\n      <td>238</td>\n      <td>2016-08-01 00:00:00</td>\n      <td>40000000</td>\n      <td>Tottenham Hotspur</td>\n      <td>/harry-kane/profil/spieler/132098</td>\n      <td>23</td>\n      <td>7.574299e+07</td>\n      <td>3.574299e+07</td>\n      <td>89.357473</td>\n    </tr>\n    <tr>\n      <th>843</th>\n      <td>Harry</td>\n      <td>Kane</td>\n      <td>402</td>\n      <td>163</td>\n      <td>238</td>\n      <td>402</td>\n      <td>Harry Kane</td>\n      <td>Harry Kane</td>\n      <td>1993-07-28 00:00:00</td>\n      <td>Centre-Forward</td>\n      <td>...</td>\n      <td>2016</td>\n      <td>238</td>\n      <td>2016-06-01 00:00:00</td>\n      <td>40000000</td>\n      <td>Tottenham Hotspur</td>\n      <td>/harry-kane/profil/spieler/132098</td>\n      <td>23</td>\n      <td>7.574299e+07</td>\n      <td>3.574299e+07</td>\n      <td>89.357473</td>\n    </tr>\n    <tr>\n      <th>...</th>\n      <td>...</td>\n      <td>...</td>\n      <td>...</td>\n      <td>...</td>\n      <td>...</td>\n      <td>...</td>\n      <td>...</td>\n      <td>...</td>\n      <td>...</td>\n      <td>...</td>\n      <td>...</td>\n      <td>...</td>\n      <td>...</td>\n      <td>...</td>\n      <td>...</td>\n      <td>...</td>\n      <td>...</td>\n      <td>...</td>\n      <td>...</td>\n      <td>...</td>\n      <td>...</td>\n    </tr>\n    <tr>\n      <th>909</th>\n      <td>Harry</td>\n      <td>Kane</td>\n      <td>402</td>\n      <td>163</td>\n      <td>238</td>\n      <td>402</td>\n      <td>Harry Kane</td>\n      <td>Harry Kane</td>\n      <td>1993-07-28 00:00:00</td>\n      <td>Centre-Forward</td>\n      <td>...</td>\n      <td>2019</td>\n      <td>238</td>\n      <td>2019-06-13 00:00:00</td>\n      <td>150000000</td>\n      <td>Tottenham Hotspur</td>\n      <td>/harry-kane/profil/spieler/132098</td>\n      <td>26</td>\n      <td>4.554113e+07</td>\n      <td>-1.044589e+08</td>\n      <td>-69.639249</td>\n    </tr>\n    <tr>\n      <th>397</th>\n      <td>Harry</td>\n      <td>Kane</td>\n      <td>402</td>\n      <td>163</td>\n      <td>238</td>\n      <td>402</td>\n      <td>Harry Kane</td>\n      <td>Harry Kane</td>\n      <td>1993-07-28 00:00:00</td>\n      <td>Centre-Forward</td>\n      <td>...</td>\n      <td>2018</td>\n      <td>238</td>\n      <td>2018-12-19 00:00:00</td>\n      <td>150000000</td>\n      <td>Tottenham Hotspur</td>\n      <td>/harry-kane/profil/spieler/132098</td>\n      <td>25</td>\n      <td>4.194154e+07</td>\n      <td>-1.080585e+08</td>\n      <td>-72.038970</td>\n    </tr>\n    <tr>\n      <th>1162</th>\n      <td>Harry</td>\n      <td>Kane</td>\n      <td>402</td>\n      <td>163</td>\n      <td>238</td>\n      <td>402</td>\n      <td>Harry Kane</td>\n      <td>Harry Kane</td>\n      <td>1993-07-28 00:00:00</td>\n      <td>Centre-Forward</td>\n      <td>...</td>\n      <td>2018</td>\n      <td>238</td>\n      <td>2018-05-28 00:00:00</td>\n      <td>150000000</td>\n      <td>Tottenham Hotspur</td>\n      <td>/harry-kane/profil/spieler/132098</td>\n      <td>25</td>\n      <td>4.194154e+07</td>\n      <td>-1.080585e+08</td>\n      <td>-72.038970</td>\n    </tr>\n    <tr>\n      <th>1509</th>\n      <td>Andi</td>\n      <td>Zeqiri</td>\n      <td>1320</td>\n      <td>1197</td>\n      <td>1805</td>\n      <td>1320</td>\n      <td>Andi Zeqiri</td>\n      <td>Andi Zeqiri</td>\n      <td>1999-06-22 00:00:00</td>\n      <td>Centre-Forward</td>\n      <td>...</td>\n      <td>2020</td>\n      <td>1805</td>\n      <td>2020-10-13 00:00:00</td>\n      <td>120000000</td>\n      <td>Liverpool FC</td>\n      <td>/mohamed-salah/profil/spieler/148455</td>\n      <td>21</td>\n      <td>7.484492e+06</td>\n      <td>-1.125155e+08</td>\n      <td>-93.762923</td>\n    </tr>\n    <tr>\n      <th>1508</th>\n      <td>Andi</td>\n      <td>Zeqiri</td>\n      <td>1320</td>\n      <td>1197</td>\n      <td>1805</td>\n      <td>1320</td>\n      <td>Andi Zeqiri</td>\n      <td>Andi Zeqiri</td>\n      <td>1999-06-22 00:00:00</td>\n      <td>Centre-Forward</td>\n      <td>...</td>\n      <td>2020</td>\n      <td>1805</td>\n      <td>2020-04-08 00:00:00</td>\n      <td>120000000</td>\n      <td>Liverpool FC</td>\n      <td>/mohamed-salah/profil/spieler/148455</td>\n      <td>21</td>\n      <td>7.484492e+06</td>\n      <td>-1.125155e+08</td>\n      <td>-93.762923</td>\n    </tr>\n  </tbody>\n</table>\n<p>537 rows × 36 columns</p>\n</div>"
     },
     "execution_count": 28,
     "metadata": {},
     "output_type": "execute_result"
    }
   ],
   "source": [
    "forwards.sort_values('predicted_value_diff', ascending=False)"
   ]
  },
  {
   "cell_type": "markdown",
   "id": "bronze-tooth",
   "metadata": {},
   "source": [
    "#### Finding young forwards whose predicted price is higher than current"
   ]
  },
  {
   "cell_type": "code",
   "execution_count": 29,
   "id": "attractive-contract",
   "metadata": {
    "scrolled": true
   },
   "outputs": [],
   "source": [
    "def get_player_for_given_season(players, season, max_age=None, min_age=None, max_value=None, min_value=None):\n",
    "    season = (players['year'] == season)\n",
    "\n",
    "    min_age = (players['age'] >= min_age) if min_age else True\n",
    "    max_age = (players['age'] <= max_age) if max_age else True\n",
    "    min_value = (players['max_value'] >= min_value) if min_value else True\n",
    "    max_value = (players['max_value'] <= max_value) if max_value else True\n",
    "\n",
    "    return players[season & min_age & max_age & min_value & max_value]"
   ]
  },
  {
   "cell_type": "code",
   "execution_count": 31,
   "id": "critical-stand",
   "metadata": {},
   "outputs": [
    {
     "data": {
      "text/plain": "     first_name    second_name  guid    id  player_id_transfermarkt  \\\n2436     Keinan          Davis  1109   403                      619   \n2435     Keinan          Davis  1109   403                      619   \n3291      Tyler        Roberts  1385   385                      572   \n3290      Tyler        Roberts  1385   385                      572   \n2470     Edward        Nketiah   686  1262                     1072   \n2234     Oliver          Burke   882   781                     1175   \n3289      Tyler        Roberts  1385   385                      572   \n2469     Edward        Nketiah   686  1262                     1072   \n2471     Edward        Nketiah   686  1262                     1072   \n807         Lys        Mousset    52   664                     1014   \n1259        Lys        Mousset    52   664                     1014   \n332     Dominic  Calvert-Lewin   594   529                      855   \n61      Kelechi      Iheanacho   240    47                       77   \n1243    Dominic  Calvert-Lewin   594   529                      855   \n802     Dominic  Calvert-Lewin   594   529                      855   \n812     Kelechi      Iheanacho   240    47                       77   \n1282    Kelechi      Iheanacho   240    47                       77   \n1114    Kelechi      Iheanacho   240    47                       77   \n23      Dominic  Calvert-Lewin   594   529                      855   \n1334     Karlan          Grant  1004   980                     1460   \n114      Karlan          Grant  1004   980                     1460   \n583      Karlan          Grant  1004   980                     1460   \n82        Moise           Kean  1163  1033                     1566   \n1303      Moise           Kean  1163  1033                     1566   \n331     Patrick        Cutrone  1292  1056                     1602   \n1245      Tammy        Abraham   859    25                       40   \n25        Tammy        Abraham   859    25                       40   \n1242    Patrick        Cutrone  1292  1056                     1602   \n22      Patrick        Cutrone  1292  1056                     1602   \n1509       Andi         Zeqiri  1320  1197                     1805   \n1508       Andi         Zeqiri  1320  1197                     1805   \n\n      player_id_fpl player_name_transfermarkt            player_name  \\\n2436           1109              Keinan Davis           Keinan Davis   \n2435           1109              Keinan Davis           Keinan Davis   \n3291           1385             Tyler Roberts          Tyler Roberts   \n3290           1385             Tyler Roberts          Tyler Roberts   \n2470            686             Eddie Nketiah          Eddie Nketiah   \n2234            882              Oliver Burke           Oliver Burke   \n3289           1385             Tyler Roberts          Tyler Roberts   \n2469            686             Eddie Nketiah          Eddie Nketiah   \n2471            686             Eddie Nketiah          Eddie Nketiah   \n807              52               Lys Mousset            Lys Mousset   \n1259             52               Lys Mousset            Lys Mousset   \n332             594     Dominic Calvert-Lewin  Dominic Calvert-Lewin   \n61              240         Kelechi Iheanacho      Kelechi Iheanacho   \n1243            594     Dominic Calvert-Lewin  Dominic Calvert-Lewin   \n802             594     Dominic Calvert-Lewin  Dominic Calvert-Lewin   \n812             240         Kelechi Iheanacho      Kelechi Iheanacho   \n1282            240         Kelechi Iheanacho      Kelechi Iheanacho   \n1114            240         Kelechi Iheanacho      Kelechi Iheanacho   \n23              594     Dominic Calvert-Lewin  Dominic Calvert-Lewin   \n1334           1004              Karlan Grant           Karlan Grant   \n114            1004              Karlan Grant           Karlan Grant   \n583            1004              Karlan Grant           Karlan Grant   \n82             1163                Moise Kean             Moise Kean   \n1303           1163                Moise Kean             Moise Kean   \n331            1292           Patrick Cutrone        Patrick Cutrone   \n1245            859             Tammy Abraham          Tammy Abraham   \n25              859             Tammy Abraham          Tammy Abraham   \n1242           1292           Patrick Cutrone        Patrick Cutrone   \n22             1292           Patrick Cutrone        Patrick Cutrone   \n1509           1320               Andi Zeqiri            Andi Zeqiri   \n1508           1320               Andi Zeqiri            Andi Zeqiri   \n\n            date_of_birth player_position  ...  year  transfermarkt_player_id  \\\n2436  1998-02-13 00:00:00  Centre-Forward  ...  2020                      619   \n2435  1998-02-13 00:00:00  Centre-Forward  ...  2020                      619   \n3291  1999-01-12 00:00:00  Second Striker  ...  2020                      572   \n3290  1999-01-12 00:00:00  Second Striker  ...  2020                      572   \n2470  1999-05-30 00:00:00  Centre-Forward  ...  2020                     1072   \n2234  1997-04-07 00:00:00  Centre-Forward  ...  2020                     1175   \n3289  1999-01-12 00:00:00  Second Striker  ...  2020                      572   \n2469  1999-05-30 00:00:00  Centre-Forward  ...  2020                     1072   \n2471  1999-05-30 00:00:00  Centre-Forward  ...  2020                     1072   \n807   1996-02-08 00:00:00  Centre-Forward  ...  2020                     1014   \n1259  1996-02-08 00:00:00  Centre-Forward  ...  2020                     1014   \n332   1997-03-16 00:00:00  Centre-Forward  ...  2020                      855   \n61    1996-10-03 00:00:00  Centre-Forward  ...  2020                       77   \n1243  1997-03-16 00:00:00  Centre-Forward  ...  2020                      855   \n802   1997-03-16 00:00:00  Centre-Forward  ...  2020                      855   \n812   1996-10-03 00:00:00  Centre-Forward  ...  2020                       77   \n1282  1996-10-03 00:00:00  Centre-Forward  ...  2020                       77   \n1114  1996-10-03 00:00:00  Centre-Forward  ...  2020                       77   \n23    1997-03-16 00:00:00  Centre-Forward  ...  2020                      855   \n1334  1997-09-18 00:00:00  Centre-Forward  ...  2020                     1460   \n114   1997-09-18 00:00:00  Centre-Forward  ...  2020                     1460   \n583   1997-09-18 00:00:00  Centre-Forward  ...  2020                     1460   \n82    2000-02-28 00:00:00  Centre-Forward  ...  2020                     1566   \n1303  2000-02-28 00:00:00  Centre-Forward  ...  2020                     1566   \n331   1998-01-03 00:00:00  Centre-Forward  ...  2020                     1602   \n1245  1997-10-02 00:00:00  Centre-Forward  ...  2020                       40   \n25    1997-10-02 00:00:00  Centre-Forward  ...  2020                       40   \n1242  1998-01-03 00:00:00  Centre-Forward  ...  2020                     1602   \n22    1998-01-03 00:00:00  Centre-Forward  ...  2020                     1602   \n1509  1999-06-22 00:00:00  Centre-Forward  ...  2020                     1805   \n1508  1999-06-22 00:00:00  Centre-Forward  ...  2020                     1805   \n\n               date_stamp  player_value           player_club  \\\n2436  2020-12-10 00:00:00        100000        D6stersunds FK   \n2435  2020-08-05 00:00:00        100000        D6stersunds FK   \n3291  2020-10-13 00:00:00       1000000  West Bromwich Albion   \n3290  2020-04-08 00:00:00       1000000     Charlton Athletic   \n2470  2020-04-08 00:00:00        725000        Wigan Athletic   \n2234  2020-10-15 00:00:00        600000      Rotherham United   \n3289  2020-02-27 00:00:00       1200000     Charlton Athletic   \n2469  2020-02-27 00:00:00        900000        Wigan Athletic   \n2471  2020-10-15 00:00:00       1000000          Bristol City   \n807   2020-07-30 00:00:00        750000     Tottenham Hotspur   \n1259  2020-10-13 00:00:00        750000     Tottenham Hotspur   \n332   2020-12-17 00:00:00      13000000            Chelsea FC   \n61    2020-04-08 00:00:00      12000000        Leicester City   \n1243  2020-10-13 00:00:00      18000000            Chelsea FC   \n802   2020-07-30 00:00:00      18000000            Chelsea FC   \n812   2020-07-30 00:00:00      15000000        Leicester City   \n1282  2020-10-13 00:00:00      15000000        Leicester City   \n1114  2020-03-09 00:00:00      15000000        Leicester City   \n23    2020-04-08 00:00:00      20000000            Chelsea FC   \n1334  2020-10-13 00:00:00       5500000  West Bromwich Albion   \n114   2020-04-08 00:00:00       5500000  West Bromwich Albion   \n583   2020-02-27 00:00:00       7000000  West Bromwich Albion   \n82    2020-04-08 00:00:00       9000000            Burnley FC   \n1303  2020-10-13 00:00:00       9000000      Newcastle United   \n331   2020-12-17 00:00:00      15000000            Chelsea FC   \n1245  2020-10-13 00:00:00      40000000            Chelsea FC   \n25    2020-04-08 00:00:00      40000000            Chelsea FC   \n1242  2020-10-13 00:00:00      18000000            Chelsea FC   \n22    2020-04-08 00:00:00      24000000            Chelsea FC   \n1509  2020-10-13 00:00:00     120000000          Liverpool FC   \n1508  2020-04-08 00:00:00     120000000          Liverpool FC   \n\n                                    player_url  age  predicted_value  \\\n2436     /jerell-sellars/profil/spieler/243690   22     9.748429e+06   \n2435     /jerell-sellars/profil/spieler/243690   22     9.748429e+06   \n3291          /sam-field/profil/spieler/387331   21     1.290824e+07   \n3290          /sam-field/profil/spieler/387331   21     1.290824e+07   \n2470       /joe-williams/profil/spieler/268185   21     9.250476e+06   \n2234     /freddie-ladapo/profil/spieler/233998   23     7.002334e+06   \n3289          /sam-field/profil/spieler/387331   21     1.290824e+07   \n2469       /joe-williams/profil/spieler/268185   21     9.250476e+06   \n2471       /joe-williams/profil/spieler/268185   21     9.250476e+06   \n807      /alfie-whiteman/profil/spieler/282823   24     4.702322e+06   \n1259     /alfie-whiteman/profil/spieler/282823   24     4.702322e+06   \n332       /marcos-alonso/profil/spieler/112515   23     2.797602e+07   \n61    /kelechi-iheanacho/profil/spieler/295330   24     2.296605e+07   \n1243      /marcos-alonso/profil/spieler/112515   23     2.797602e+07   \n802       /marcos-alonso/profil/spieler/112515   23     2.797602e+07   \n812   /kelechi-iheanacho/profil/spieler/295330   24     2.296605e+07   \n1282  /kelechi-iheanacho/profil/spieler/295330   24     2.296605e+07   \n1114  /kelechi-iheanacho/profil/spieler/295330   24     2.296605e+07   \n23        /marcos-alonso/profil/spieler/112515   23     2.797602e+07   \n1334       /matt-phillips/profil/spieler/77274   23     7.399851e+06   \n114        /matt-phillips/profil/spieler/77274   23     7.399851e+06   \n583        /matt-phillips/profil/spieler/77274   23     7.399851e+06   \n82        /jeff-hendrick/profil/spieler/148262   20     6.894551e+06   \n1303      /jeff-hendrick/profil/spieler/148262   20     6.894551e+06   \n331             /emerson/profil/spieler/181778   22     7.425256e+06   \n1245      /tammy-abraham/profil/spieler/331726   23     1.690999e+07   \n25        /tammy-abraham/profil/spieler/331726   23     1.690999e+07   \n1242            /emerson/profil/spieler/181778   22     7.425256e+06   \n22              /emerson/profil/spieler/181778   22     7.425256e+06   \n1509      /mohamed-salah/profil/spieler/148455   21     7.484492e+06   \n1508      /mohamed-salah/profil/spieler/148455   21     7.484492e+06   \n\n      predicted_value_diff  predicted_value_diff_percent  \n2436          9.648429e+06                   9648.428648  \n2435          9.648429e+06                   9648.428648  \n3291          1.190824e+07                   1190.824241  \n3290          1.190824e+07                   1190.824241  \n2470          8.525476e+06                   1175.927709  \n2234          6.402334e+06                   1067.055642  \n3289          1.170824e+07                    975.686867  \n2469          8.350476e+06                    927.830655  \n2471          8.250476e+06                    825.047589  \n807           3.952322e+06                    526.976284  \n1259          3.952322e+06                    526.976284  \n332           1.497602e+07                    115.200164  \n61            1.096605e+07                     91.383719  \n1243          9.976021e+06                     55.422340  \n802           9.976021e+06                     55.422340  \n812           7.966046e+06                     53.106975  \n1282          7.966046e+06                     53.106975  \n1114          7.966046e+06                     53.106975  \n23            7.976021e+06                     39.880106  \n1334          1.899851e+06                     34.542747  \n114           1.899851e+06                     34.542747  \n583           3.998511e+05                      5.712159  \n82           -2.105449e+06                    -23.393880  \n1303         -2.105449e+06                    -23.393880  \n331          -7.574744e+06                    -50.498295  \n1245         -2.309001e+07                    -57.725018  \n25           -2.309001e+07                    -57.725018  \n1242         -1.057474e+07                    -58.748579  \n22           -1.657474e+07                    -69.061435  \n1509         -1.125155e+08                    -93.762923  \n1508         -1.125155e+08                    -93.762923  \n\n[31 rows x 36 columns]",
      "text/html": "<div>\n<style scoped>\n    .dataframe tbody tr th:only-of-type {\n        vertical-align: middle;\n    }\n\n    .dataframe tbody tr th {\n        vertical-align: top;\n    }\n\n    .dataframe thead th {\n        text-align: right;\n    }\n</style>\n<table border=\"1\" class=\"dataframe\">\n  <thead>\n    <tr style=\"text-align: right;\">\n      <th></th>\n      <th>first_name</th>\n      <th>second_name</th>\n      <th>guid</th>\n      <th>id</th>\n      <th>player_id_transfermarkt</th>\n      <th>player_id_fpl</th>\n      <th>player_name_transfermarkt</th>\n      <th>player_name</th>\n      <th>date_of_birth</th>\n      <th>player_position</th>\n      <th>...</th>\n      <th>year</th>\n      <th>transfermarkt_player_id</th>\n      <th>date_stamp</th>\n      <th>player_value</th>\n      <th>player_club</th>\n      <th>player_url</th>\n      <th>age</th>\n      <th>predicted_value</th>\n      <th>predicted_value_diff</th>\n      <th>predicted_value_diff_percent</th>\n    </tr>\n  </thead>\n  <tbody>\n    <tr>\n      <th>2436</th>\n      <td>Keinan</td>\n      <td>Davis</td>\n      <td>1109</td>\n      <td>403</td>\n      <td>619</td>\n      <td>1109</td>\n      <td>Keinan Davis</td>\n      <td>Keinan Davis</td>\n      <td>1998-02-13 00:00:00</td>\n      <td>Centre-Forward</td>\n      <td>...</td>\n      <td>2020</td>\n      <td>619</td>\n      <td>2020-12-10 00:00:00</td>\n      <td>100000</td>\n      <td>D6stersunds FK</td>\n      <td>/jerell-sellars/profil/spieler/243690</td>\n      <td>22</td>\n      <td>9.748429e+06</td>\n      <td>9.648429e+06</td>\n      <td>9648.428648</td>\n    </tr>\n    <tr>\n      <th>2435</th>\n      <td>Keinan</td>\n      <td>Davis</td>\n      <td>1109</td>\n      <td>403</td>\n      <td>619</td>\n      <td>1109</td>\n      <td>Keinan Davis</td>\n      <td>Keinan Davis</td>\n      <td>1998-02-13 00:00:00</td>\n      <td>Centre-Forward</td>\n      <td>...</td>\n      <td>2020</td>\n      <td>619</td>\n      <td>2020-08-05 00:00:00</td>\n      <td>100000</td>\n      <td>D6stersunds FK</td>\n      <td>/jerell-sellars/profil/spieler/243690</td>\n      <td>22</td>\n      <td>9.748429e+06</td>\n      <td>9.648429e+06</td>\n      <td>9648.428648</td>\n    </tr>\n    <tr>\n      <th>3291</th>\n      <td>Tyler</td>\n      <td>Roberts</td>\n      <td>1385</td>\n      <td>385</td>\n      <td>572</td>\n      <td>1385</td>\n      <td>Tyler Roberts</td>\n      <td>Tyler Roberts</td>\n      <td>1999-01-12 00:00:00</td>\n      <td>Second Striker</td>\n      <td>...</td>\n      <td>2020</td>\n      <td>572</td>\n      <td>2020-10-13 00:00:00</td>\n      <td>1000000</td>\n      <td>West Bromwich Albion</td>\n      <td>/sam-field/profil/spieler/387331</td>\n      <td>21</td>\n      <td>1.290824e+07</td>\n      <td>1.190824e+07</td>\n      <td>1190.824241</td>\n    </tr>\n    <tr>\n      <th>3290</th>\n      <td>Tyler</td>\n      <td>Roberts</td>\n      <td>1385</td>\n      <td>385</td>\n      <td>572</td>\n      <td>1385</td>\n      <td>Tyler Roberts</td>\n      <td>Tyler Roberts</td>\n      <td>1999-01-12 00:00:00</td>\n      <td>Second Striker</td>\n      <td>...</td>\n      <td>2020</td>\n      <td>572</td>\n      <td>2020-04-08 00:00:00</td>\n      <td>1000000</td>\n      <td>Charlton Athletic</td>\n      <td>/sam-field/profil/spieler/387331</td>\n      <td>21</td>\n      <td>1.290824e+07</td>\n      <td>1.190824e+07</td>\n      <td>1190.824241</td>\n    </tr>\n    <tr>\n      <th>2470</th>\n      <td>Edward</td>\n      <td>Nketiah</td>\n      <td>686</td>\n      <td>1262</td>\n      <td>1072</td>\n      <td>686</td>\n      <td>Eddie Nketiah</td>\n      <td>Eddie Nketiah</td>\n      <td>1999-05-30 00:00:00</td>\n      <td>Centre-Forward</td>\n      <td>...</td>\n      <td>2020</td>\n      <td>1072</td>\n      <td>2020-04-08 00:00:00</td>\n      <td>725000</td>\n      <td>Wigan Athletic</td>\n      <td>/joe-williams/profil/spieler/268185</td>\n      <td>21</td>\n      <td>9.250476e+06</td>\n      <td>8.525476e+06</td>\n      <td>1175.927709</td>\n    </tr>\n    <tr>\n      <th>2234</th>\n      <td>Oliver</td>\n      <td>Burke</td>\n      <td>882</td>\n      <td>781</td>\n      <td>1175</td>\n      <td>882</td>\n      <td>Oliver Burke</td>\n      <td>Oliver Burke</td>\n      <td>1997-04-07 00:00:00</td>\n      <td>Centre-Forward</td>\n      <td>...</td>\n      <td>2020</td>\n      <td>1175</td>\n      <td>2020-10-15 00:00:00</td>\n      <td>600000</td>\n      <td>Rotherham United</td>\n      <td>/freddie-ladapo/profil/spieler/233998</td>\n      <td>23</td>\n      <td>7.002334e+06</td>\n      <td>6.402334e+06</td>\n      <td>1067.055642</td>\n    </tr>\n    <tr>\n      <th>3289</th>\n      <td>Tyler</td>\n      <td>Roberts</td>\n      <td>1385</td>\n      <td>385</td>\n      <td>572</td>\n      <td>1385</td>\n      <td>Tyler Roberts</td>\n      <td>Tyler Roberts</td>\n      <td>1999-01-12 00:00:00</td>\n      <td>Second Striker</td>\n      <td>...</td>\n      <td>2020</td>\n      <td>572</td>\n      <td>2020-02-27 00:00:00</td>\n      <td>1200000</td>\n      <td>Charlton Athletic</td>\n      <td>/sam-field/profil/spieler/387331</td>\n      <td>21</td>\n      <td>1.290824e+07</td>\n      <td>1.170824e+07</td>\n      <td>975.686867</td>\n    </tr>\n    <tr>\n      <th>2469</th>\n      <td>Edward</td>\n      <td>Nketiah</td>\n      <td>686</td>\n      <td>1262</td>\n      <td>1072</td>\n      <td>686</td>\n      <td>Eddie Nketiah</td>\n      <td>Eddie Nketiah</td>\n      <td>1999-05-30 00:00:00</td>\n      <td>Centre-Forward</td>\n      <td>...</td>\n      <td>2020</td>\n      <td>1072</td>\n      <td>2020-02-27 00:00:00</td>\n      <td>900000</td>\n      <td>Wigan Athletic</td>\n      <td>/joe-williams/profil/spieler/268185</td>\n      <td>21</td>\n      <td>9.250476e+06</td>\n      <td>8.350476e+06</td>\n      <td>927.830655</td>\n    </tr>\n    <tr>\n      <th>2471</th>\n      <td>Edward</td>\n      <td>Nketiah</td>\n      <td>686</td>\n      <td>1262</td>\n      <td>1072</td>\n      <td>686</td>\n      <td>Eddie Nketiah</td>\n      <td>Eddie Nketiah</td>\n      <td>1999-05-30 00:00:00</td>\n      <td>Centre-Forward</td>\n      <td>...</td>\n      <td>2020</td>\n      <td>1072</td>\n      <td>2020-10-15 00:00:00</td>\n      <td>1000000</td>\n      <td>Bristol City</td>\n      <td>/joe-williams/profil/spieler/268185</td>\n      <td>21</td>\n      <td>9.250476e+06</td>\n      <td>8.250476e+06</td>\n      <td>825.047589</td>\n    </tr>\n    <tr>\n      <th>807</th>\n      <td>Lys</td>\n      <td>Mousset</td>\n      <td>52</td>\n      <td>664</td>\n      <td>1014</td>\n      <td>52</td>\n      <td>Lys Mousset</td>\n      <td>Lys Mousset</td>\n      <td>1996-02-08 00:00:00</td>\n      <td>Centre-Forward</td>\n      <td>...</td>\n      <td>2020</td>\n      <td>1014</td>\n      <td>2020-07-30 00:00:00</td>\n      <td>750000</td>\n      <td>Tottenham Hotspur</td>\n      <td>/alfie-whiteman/profil/spieler/282823</td>\n      <td>24</td>\n      <td>4.702322e+06</td>\n      <td>3.952322e+06</td>\n      <td>526.976284</td>\n    </tr>\n    <tr>\n      <th>1259</th>\n      <td>Lys</td>\n      <td>Mousset</td>\n      <td>52</td>\n      <td>664</td>\n      <td>1014</td>\n      <td>52</td>\n      <td>Lys Mousset</td>\n      <td>Lys Mousset</td>\n      <td>1996-02-08 00:00:00</td>\n      <td>Centre-Forward</td>\n      <td>...</td>\n      <td>2020</td>\n      <td>1014</td>\n      <td>2020-10-13 00:00:00</td>\n      <td>750000</td>\n      <td>Tottenham Hotspur</td>\n      <td>/alfie-whiteman/profil/spieler/282823</td>\n      <td>24</td>\n      <td>4.702322e+06</td>\n      <td>3.952322e+06</td>\n      <td>526.976284</td>\n    </tr>\n    <tr>\n      <th>332</th>\n      <td>Dominic</td>\n      <td>Calvert-Lewin</td>\n      <td>594</td>\n      <td>529</td>\n      <td>855</td>\n      <td>594</td>\n      <td>Dominic Calvert-Lewin</td>\n      <td>Dominic Calvert-Lewin</td>\n      <td>1997-03-16 00:00:00</td>\n      <td>Centre-Forward</td>\n      <td>...</td>\n      <td>2020</td>\n      <td>855</td>\n      <td>2020-12-17 00:00:00</td>\n      <td>13000000</td>\n      <td>Chelsea FC</td>\n      <td>/marcos-alonso/profil/spieler/112515</td>\n      <td>23</td>\n      <td>2.797602e+07</td>\n      <td>1.497602e+07</td>\n      <td>115.200164</td>\n    </tr>\n    <tr>\n      <th>61</th>\n      <td>Kelechi</td>\n      <td>Iheanacho</td>\n      <td>240</td>\n      <td>47</td>\n      <td>77</td>\n      <td>240</td>\n      <td>Kelechi Iheanacho</td>\n      <td>Kelechi Iheanacho</td>\n      <td>1996-10-03 00:00:00</td>\n      <td>Centre-Forward</td>\n      <td>...</td>\n      <td>2020</td>\n      <td>77</td>\n      <td>2020-04-08 00:00:00</td>\n      <td>12000000</td>\n      <td>Leicester City</td>\n      <td>/kelechi-iheanacho/profil/spieler/295330</td>\n      <td>24</td>\n      <td>2.296605e+07</td>\n      <td>1.096605e+07</td>\n      <td>91.383719</td>\n    </tr>\n    <tr>\n      <th>1243</th>\n      <td>Dominic</td>\n      <td>Calvert-Lewin</td>\n      <td>594</td>\n      <td>529</td>\n      <td>855</td>\n      <td>594</td>\n      <td>Dominic Calvert-Lewin</td>\n      <td>Dominic Calvert-Lewin</td>\n      <td>1997-03-16 00:00:00</td>\n      <td>Centre-Forward</td>\n      <td>...</td>\n      <td>2020</td>\n      <td>855</td>\n      <td>2020-10-13 00:00:00</td>\n      <td>18000000</td>\n      <td>Chelsea FC</td>\n      <td>/marcos-alonso/profil/spieler/112515</td>\n      <td>23</td>\n      <td>2.797602e+07</td>\n      <td>9.976021e+06</td>\n      <td>55.422340</td>\n    </tr>\n    <tr>\n      <th>802</th>\n      <td>Dominic</td>\n      <td>Calvert-Lewin</td>\n      <td>594</td>\n      <td>529</td>\n      <td>855</td>\n      <td>594</td>\n      <td>Dominic Calvert-Lewin</td>\n      <td>Dominic Calvert-Lewin</td>\n      <td>1997-03-16 00:00:00</td>\n      <td>Centre-Forward</td>\n      <td>...</td>\n      <td>2020</td>\n      <td>855</td>\n      <td>2020-07-30 00:00:00</td>\n      <td>18000000</td>\n      <td>Chelsea FC</td>\n      <td>/marcos-alonso/profil/spieler/112515</td>\n      <td>23</td>\n      <td>2.797602e+07</td>\n      <td>9.976021e+06</td>\n      <td>55.422340</td>\n    </tr>\n    <tr>\n      <th>812</th>\n      <td>Kelechi</td>\n      <td>Iheanacho</td>\n      <td>240</td>\n      <td>47</td>\n      <td>77</td>\n      <td>240</td>\n      <td>Kelechi Iheanacho</td>\n      <td>Kelechi Iheanacho</td>\n      <td>1996-10-03 00:00:00</td>\n      <td>Centre-Forward</td>\n      <td>...</td>\n      <td>2020</td>\n      <td>77</td>\n      <td>2020-07-30 00:00:00</td>\n      <td>15000000</td>\n      <td>Leicester City</td>\n      <td>/kelechi-iheanacho/profil/spieler/295330</td>\n      <td>24</td>\n      <td>2.296605e+07</td>\n      <td>7.966046e+06</td>\n      <td>53.106975</td>\n    </tr>\n    <tr>\n      <th>1282</th>\n      <td>Kelechi</td>\n      <td>Iheanacho</td>\n      <td>240</td>\n      <td>47</td>\n      <td>77</td>\n      <td>240</td>\n      <td>Kelechi Iheanacho</td>\n      <td>Kelechi Iheanacho</td>\n      <td>1996-10-03 00:00:00</td>\n      <td>Centre-Forward</td>\n      <td>...</td>\n      <td>2020</td>\n      <td>77</td>\n      <td>2020-10-13 00:00:00</td>\n      <td>15000000</td>\n      <td>Leicester City</td>\n      <td>/kelechi-iheanacho/profil/spieler/295330</td>\n      <td>24</td>\n      <td>2.296605e+07</td>\n      <td>7.966046e+06</td>\n      <td>53.106975</td>\n    </tr>\n    <tr>\n      <th>1114</th>\n      <td>Kelechi</td>\n      <td>Iheanacho</td>\n      <td>240</td>\n      <td>47</td>\n      <td>77</td>\n      <td>240</td>\n      <td>Kelechi Iheanacho</td>\n      <td>Kelechi Iheanacho</td>\n      <td>1996-10-03 00:00:00</td>\n      <td>Centre-Forward</td>\n      <td>...</td>\n      <td>2020</td>\n      <td>77</td>\n      <td>2020-03-09 00:00:00</td>\n      <td>15000000</td>\n      <td>Leicester City</td>\n      <td>/kelechi-iheanacho/profil/spieler/295330</td>\n      <td>24</td>\n      <td>2.296605e+07</td>\n      <td>7.966046e+06</td>\n      <td>53.106975</td>\n    </tr>\n    <tr>\n      <th>23</th>\n      <td>Dominic</td>\n      <td>Calvert-Lewin</td>\n      <td>594</td>\n      <td>529</td>\n      <td>855</td>\n      <td>594</td>\n      <td>Dominic Calvert-Lewin</td>\n      <td>Dominic Calvert-Lewin</td>\n      <td>1997-03-16 00:00:00</td>\n      <td>Centre-Forward</td>\n      <td>...</td>\n      <td>2020</td>\n      <td>855</td>\n      <td>2020-04-08 00:00:00</td>\n      <td>20000000</td>\n      <td>Chelsea FC</td>\n      <td>/marcos-alonso/profil/spieler/112515</td>\n      <td>23</td>\n      <td>2.797602e+07</td>\n      <td>7.976021e+06</td>\n      <td>39.880106</td>\n    </tr>\n    <tr>\n      <th>1334</th>\n      <td>Karlan</td>\n      <td>Grant</td>\n      <td>1004</td>\n      <td>980</td>\n      <td>1460</td>\n      <td>1004</td>\n      <td>Karlan Grant</td>\n      <td>Karlan Grant</td>\n      <td>1997-09-18 00:00:00</td>\n      <td>Centre-Forward</td>\n      <td>...</td>\n      <td>2020</td>\n      <td>1460</td>\n      <td>2020-10-13 00:00:00</td>\n      <td>5500000</td>\n      <td>West Bromwich Albion</td>\n      <td>/matt-phillips/profil/spieler/77274</td>\n      <td>23</td>\n      <td>7.399851e+06</td>\n      <td>1.899851e+06</td>\n      <td>34.542747</td>\n    </tr>\n    <tr>\n      <th>114</th>\n      <td>Karlan</td>\n      <td>Grant</td>\n      <td>1004</td>\n      <td>980</td>\n      <td>1460</td>\n      <td>1004</td>\n      <td>Karlan Grant</td>\n      <td>Karlan Grant</td>\n      <td>1997-09-18 00:00:00</td>\n      <td>Centre-Forward</td>\n      <td>...</td>\n      <td>2020</td>\n      <td>1460</td>\n      <td>2020-04-08 00:00:00</td>\n      <td>5500000</td>\n      <td>West Bromwich Albion</td>\n      <td>/matt-phillips/profil/spieler/77274</td>\n      <td>23</td>\n      <td>7.399851e+06</td>\n      <td>1.899851e+06</td>\n      <td>34.542747</td>\n    </tr>\n    <tr>\n      <th>583</th>\n      <td>Karlan</td>\n      <td>Grant</td>\n      <td>1004</td>\n      <td>980</td>\n      <td>1460</td>\n      <td>1004</td>\n      <td>Karlan Grant</td>\n      <td>Karlan Grant</td>\n      <td>1997-09-18 00:00:00</td>\n      <td>Centre-Forward</td>\n      <td>...</td>\n      <td>2020</td>\n      <td>1460</td>\n      <td>2020-02-27 00:00:00</td>\n      <td>7000000</td>\n      <td>West Bromwich Albion</td>\n      <td>/matt-phillips/profil/spieler/77274</td>\n      <td>23</td>\n      <td>7.399851e+06</td>\n      <td>3.998511e+05</td>\n      <td>5.712159</td>\n    </tr>\n    <tr>\n      <th>82</th>\n      <td>Moise</td>\n      <td>Kean</td>\n      <td>1163</td>\n      <td>1033</td>\n      <td>1566</td>\n      <td>1163</td>\n      <td>Moise Kean</td>\n      <td>Moise Kean</td>\n      <td>2000-02-28 00:00:00</td>\n      <td>Centre-Forward</td>\n      <td>...</td>\n      <td>2020</td>\n      <td>1566</td>\n      <td>2020-04-08 00:00:00</td>\n      <td>9000000</td>\n      <td>Burnley FC</td>\n      <td>/jeff-hendrick/profil/spieler/148262</td>\n      <td>20</td>\n      <td>6.894551e+06</td>\n      <td>-2.105449e+06</td>\n      <td>-23.393880</td>\n    </tr>\n    <tr>\n      <th>1303</th>\n      <td>Moise</td>\n      <td>Kean</td>\n      <td>1163</td>\n      <td>1033</td>\n      <td>1566</td>\n      <td>1163</td>\n      <td>Moise Kean</td>\n      <td>Moise Kean</td>\n      <td>2000-02-28 00:00:00</td>\n      <td>Centre-Forward</td>\n      <td>...</td>\n      <td>2020</td>\n      <td>1566</td>\n      <td>2020-10-13 00:00:00</td>\n      <td>9000000</td>\n      <td>Newcastle United</td>\n      <td>/jeff-hendrick/profil/spieler/148262</td>\n      <td>20</td>\n      <td>6.894551e+06</td>\n      <td>-2.105449e+06</td>\n      <td>-23.393880</td>\n    </tr>\n    <tr>\n      <th>331</th>\n      <td>Patrick</td>\n      <td>Cutrone</td>\n      <td>1292</td>\n      <td>1056</td>\n      <td>1602</td>\n      <td>1292</td>\n      <td>Patrick Cutrone</td>\n      <td>Patrick Cutrone</td>\n      <td>1998-01-03 00:00:00</td>\n      <td>Centre-Forward</td>\n      <td>...</td>\n      <td>2020</td>\n      <td>1602</td>\n      <td>2020-12-17 00:00:00</td>\n      <td>15000000</td>\n      <td>Chelsea FC</td>\n      <td>/emerson/profil/spieler/181778</td>\n      <td>22</td>\n      <td>7.425256e+06</td>\n      <td>-7.574744e+06</td>\n      <td>-50.498295</td>\n    </tr>\n    <tr>\n      <th>1245</th>\n      <td>Tammy</td>\n      <td>Abraham</td>\n      <td>859</td>\n      <td>25</td>\n      <td>40</td>\n      <td>859</td>\n      <td>Tammy Abraham</td>\n      <td>Tammy Abraham</td>\n      <td>1997-10-02 00:00:00</td>\n      <td>Centre-Forward</td>\n      <td>...</td>\n      <td>2020</td>\n      <td>40</td>\n      <td>2020-10-13 00:00:00</td>\n      <td>40000000</td>\n      <td>Chelsea FC</td>\n      <td>/tammy-abraham/profil/spieler/331726</td>\n      <td>23</td>\n      <td>1.690999e+07</td>\n      <td>-2.309001e+07</td>\n      <td>-57.725018</td>\n    </tr>\n    <tr>\n      <th>25</th>\n      <td>Tammy</td>\n      <td>Abraham</td>\n      <td>859</td>\n      <td>25</td>\n      <td>40</td>\n      <td>859</td>\n      <td>Tammy Abraham</td>\n      <td>Tammy Abraham</td>\n      <td>1997-10-02 00:00:00</td>\n      <td>Centre-Forward</td>\n      <td>...</td>\n      <td>2020</td>\n      <td>40</td>\n      <td>2020-04-08 00:00:00</td>\n      <td>40000000</td>\n      <td>Chelsea FC</td>\n      <td>/tammy-abraham/profil/spieler/331726</td>\n      <td>23</td>\n      <td>1.690999e+07</td>\n      <td>-2.309001e+07</td>\n      <td>-57.725018</td>\n    </tr>\n    <tr>\n      <th>1242</th>\n      <td>Patrick</td>\n      <td>Cutrone</td>\n      <td>1292</td>\n      <td>1056</td>\n      <td>1602</td>\n      <td>1292</td>\n      <td>Patrick Cutrone</td>\n      <td>Patrick Cutrone</td>\n      <td>1998-01-03 00:00:00</td>\n      <td>Centre-Forward</td>\n      <td>...</td>\n      <td>2020</td>\n      <td>1602</td>\n      <td>2020-10-13 00:00:00</td>\n      <td>18000000</td>\n      <td>Chelsea FC</td>\n      <td>/emerson/profil/spieler/181778</td>\n      <td>22</td>\n      <td>7.425256e+06</td>\n      <td>-1.057474e+07</td>\n      <td>-58.748579</td>\n    </tr>\n    <tr>\n      <th>22</th>\n      <td>Patrick</td>\n      <td>Cutrone</td>\n      <td>1292</td>\n      <td>1056</td>\n      <td>1602</td>\n      <td>1292</td>\n      <td>Patrick Cutrone</td>\n      <td>Patrick Cutrone</td>\n      <td>1998-01-03 00:00:00</td>\n      <td>Centre-Forward</td>\n      <td>...</td>\n      <td>2020</td>\n      <td>1602</td>\n      <td>2020-04-08 00:00:00</td>\n      <td>24000000</td>\n      <td>Chelsea FC</td>\n      <td>/emerson/profil/spieler/181778</td>\n      <td>22</td>\n      <td>7.425256e+06</td>\n      <td>-1.657474e+07</td>\n      <td>-69.061435</td>\n    </tr>\n    <tr>\n      <th>1509</th>\n      <td>Andi</td>\n      <td>Zeqiri</td>\n      <td>1320</td>\n      <td>1197</td>\n      <td>1805</td>\n      <td>1320</td>\n      <td>Andi Zeqiri</td>\n      <td>Andi Zeqiri</td>\n      <td>1999-06-22 00:00:00</td>\n      <td>Centre-Forward</td>\n      <td>...</td>\n      <td>2020</td>\n      <td>1805</td>\n      <td>2020-10-13 00:00:00</td>\n      <td>120000000</td>\n      <td>Liverpool FC</td>\n      <td>/mohamed-salah/profil/spieler/148455</td>\n      <td>21</td>\n      <td>7.484492e+06</td>\n      <td>-1.125155e+08</td>\n      <td>-93.762923</td>\n    </tr>\n    <tr>\n      <th>1508</th>\n      <td>Andi</td>\n      <td>Zeqiri</td>\n      <td>1320</td>\n      <td>1197</td>\n      <td>1805</td>\n      <td>1320</td>\n      <td>Andi Zeqiri</td>\n      <td>Andi Zeqiri</td>\n      <td>1999-06-22 00:00:00</td>\n      <td>Centre-Forward</td>\n      <td>...</td>\n      <td>2020</td>\n      <td>1805</td>\n      <td>2020-04-08 00:00:00</td>\n      <td>120000000</td>\n      <td>Liverpool FC</td>\n      <td>/mohamed-salah/profil/spieler/148455</td>\n      <td>21</td>\n      <td>7.484492e+06</td>\n      <td>-1.125155e+08</td>\n      <td>-93.762923</td>\n    </tr>\n  </tbody>\n</table>\n<p>31 rows × 36 columns</p>\n</div>"
     },
     "execution_count": 31,
     "metadata": {},
     "output_type": "execute_result"
    }
   ],
   "source": [
    "forwards_2020_young = get_player_for_given_season(forwards, season=2020, max_age=24)\n",
    "forwards_2020_young_sorted = forwards_2020_young.sort_values('predicted_value_diff_percent', ascending=False)\n",
    "forwards_2020_young_sorted\n",
    "#forwards_2020_young_sorted.drop(index=3899, inplace=True)\n",
    "forwards_2020_young_sorted.iloc[0:60, :]"
   ]
  },
  {
   "cell_type": "code",
   "execution_count": 32,
   "id": "partial-tract",
   "metadata": {},
   "outputs": [
    {
     "data": {
      "text/plain": "Text(0, 0.5, 'Predicted value /player value (%)')"
     },
     "execution_count": 32,
     "metadata": {},
     "output_type": "execute_result"
    },
    {
     "data": {
      "text/plain": "<Figure size 432x288 with 1 Axes>",
      "image/png": "[encoded data removed]"
     },
     "metadata": {
      "needs_background": "light"
     },
     "output_type": "display_data"
    }
   ],
   "source": [
    "plt.scatter(forwards_2020_young_sorted['player_value'], forwards_2020_young_sorted['predicted_value_diff_percent'])\n",
    "plt.title('Difference between predicted and real value')\n",
    "plt.xlabel('Player value')\n",
    "plt.ylabel('Predicted value /player value (%)')"
   ]
  },
  {
   "cell_type": "code",
   "execution_count": 33,
   "id": "helpful-delta",
   "metadata": {},
   "outputs": [
    {
     "data": {
      "text/plain": "array([ 216,  238,  570,  208, 1292,  594,  859,   24,  266,  402,  832,\n        240, 1245, 1163,  215,   25,  552,  212, 1004,  271,  120,  993,\n       1101,  714,   52,  948, 1320,   47,  424,   11,  628,  984, 1054,\n        830,  425,  568,  312, 1282,  492,  482,   49,  213, 1222,  185,\n        463,  678,  351,  882,   66, 1042,  619,  447,  269,  373, 1109,\n        354,  686,   22,  335,  121,  641, 1253,  313,  549,  310,   97,\n        162,  468,   48,  635,  551,  257,  291,  336,  467,  377,  144,\n        183,  184,  961, 1385,  588,   69,  833,  426,  848,  446,   50,\n        534,  268,  376,  239,  556,  713,   26], dtype=int64)"
     },
     "execution_count": 33,
     "metadata": {},
     "output_type": "execute_result"
    }
   ],
   "source": [
    "forwards.guid.unique()"
   ]
  },
  {
   "cell_type": "code",
   "execution_count": 34,
   "id": "enabling-worthy",
   "metadata": {},
   "outputs": [
    {
     "data": {
      "text/plain": "array([1109, 1385,  686,  882,   52,  594,  240, 1004, 1163, 1292,  859,\n       1320], dtype=int64)"
     },
     "execution_count": 34,
     "metadata": {},
     "output_type": "execute_result"
    }
   ],
   "source": [
    "forwards_2020_young_sorted.guid.unique()"
   ]
  },
  {
   "cell_type": "code",
   "execution_count": 35,
   "id": "charitable-globe",
   "metadata": {},
   "outputs": [],
   "source": [
    "def get_players_with_higher_predicted_value(data, min_precent, max_percent):\n",
    "    players_with_higher_than_actual_value = dict()\n",
    "    for index, row in data.iterrows():\n",
    "        if row['predicted_value_diff_percent'] > min_precent and row['predicted_value_diff_percent'] < 400:\n",
    "            i = row['guid']\n",
    "            if i in players_with_higher_than_actual_value.keys():\n",
    "                pass\n",
    "            players_with_higher_than_actual_value[i] = row\n",
    "            print(row['first_name'], row['second_name'], row['guid'])\n",
    "    return players_with_higher_than_actual_value\n",
    "                                                    "
   ]
  },
  {
   "cell_type": "code",
   "execution_count": 36,
   "id": "coordinate-xerox",
   "metadata": {},
   "outputs": [
    {
     "name": "stdout",
     "output_type": "stream",
     "text": [
      "Dominic Calvert-Lewin 594\n",
      "Kelechi Iheanacho 240\n",
      "Dominic Calvert-Lewin 594\n",
      "Dominic Calvert-Lewin 594\n",
      "Kelechi Iheanacho 240\n",
      "Kelechi Iheanacho 240\n",
      "Kelechi Iheanacho 240\n",
      "Dominic Calvert-Lewin 594\n",
      "Karlan Grant 1004\n",
      "Karlan Grant 1004\n",
      "Karlan Grant 1004\n",
      "{594: first_name                                                   Dominic\n",
      "second_name                                            Calvert-Lewin\n",
      "guid                                                             594\n",
      "id                                                               529\n",
      "player_id_transfermarkt                                          855\n",
      "player_id_fpl                                                    594\n",
      "player_name_transfermarkt                      Dominic Calvert-Lewin\n",
      "player_name                                    Dominic Calvert-Lewin\n",
      "date_of_birth                                    1997-03-16 00:00:00\n",
      "player_position                                       Centre-Forward\n",
      "nationality                                                  England\n",
      "goals_scored                                                      14\n",
      "assists                                                            6\n",
      "total_points                                                     138\n",
      "minutes                                                         2241\n",
      "goals_conceded                                                    31\n",
      "creativity                                                     232.4\n",
      "influence                                                      628.0\n",
      "threat                                                        1128.0\n",
      "bonus                                                             16\n",
      "bps                                                              447\n",
      "ict_index                                                      198.5\n",
      "clean_sheets                                                       7\n",
      "red_cards                                                          0\n",
      "yellow_cards                                                       3\n",
      "selected_by_percent                                             33.6\n",
      "year                                                            2020\n",
      "transfermarkt_player_id                                          855\n",
      "date_stamp                                       2020-04-08 00:00:00\n",
      "player_value                                                20000000\n",
      "player_club                                               Chelsea FC\n",
      "player_url                      /marcos-alonso/profil/spieler/112515\n",
      "age                                                               23\n",
      "predicted_value                                      27976021.283701\n",
      "predicted_value_diff                                  7976021.283701\n",
      "predicted_value_diff_percent                               39.880106\n",
      "Name: 23, dtype: object, 240: first_name                                                       Kelechi\n",
      "second_name                                                    Iheanacho\n",
      "guid                                                                 240\n",
      "id                                                                    47\n",
      "player_id_transfermarkt                                               77\n",
      "player_id_fpl                                                        240\n",
      "player_name_transfermarkt                              Kelechi Iheanacho\n",
      "player_name                                            Kelechi Iheanacho\n",
      "date_of_birth                                        1996-10-03 00:00:00\n",
      "player_position                                           Centre-Forward\n",
      "nationality                                                      Nigeria\n",
      "goals_scored                                                           8\n",
      "assists                                                                0\n",
      "total_points                                                          70\n",
      "minutes                                                              882\n",
      "goals_conceded                                                        11\n",
      "creativity                                                         215.8\n",
      "influence                                                          313.8\n",
      "threat                                                             486.0\n",
      "bonus                                                                 12\n",
      "bps                                                                  266\n",
      "ict_index                                                          101.2\n",
      "clean_sheets                                                           4\n",
      "red_cards                                                              0\n",
      "yellow_cards                                                           0\n",
      "selected_by_percent                                                 11.3\n",
      "year                                                                2020\n",
      "transfermarkt_player_id                                               77\n",
      "date_stamp                                           2020-03-09 00:00:00\n",
      "player_value                                                    15000000\n",
      "player_club                                               Leicester City\n",
      "player_url                      /kelechi-iheanacho/profil/spieler/295330\n",
      "age                                                                   24\n",
      "predicted_value                                          22966046.300516\n",
      "predicted_value_diff                                      7966046.300516\n",
      "predicted_value_diff_percent                                   53.106975\n",
      "Name: 1114, dtype: object, 1004: first_name                                                   Karlan\n",
      "second_name                                                   Grant\n",
      "guid                                                           1004\n",
      "id                                                              980\n",
      "player_id_transfermarkt                                        1460\n",
      "player_id_fpl                                                  1004\n",
      "player_name_transfermarkt                              Karlan Grant\n",
      "player_name                                            Karlan Grant\n",
      "date_of_birth                                   1997-09-18 00:00:00\n",
      "player_position                                      Centre-Forward\n",
      "nationality                                                 England\n",
      "goals_scored                                                      1\n",
      "assists                                                           0\n",
      "total_points                                                     37\n",
      "minutes                                                        1083\n",
      "goals_conceded                                                   24\n",
      "creativity                                                     62.7\n",
      "influence                                                      92.4\n",
      "threat                                                        259.0\n",
      "bonus                                                             3\n",
      "bps                                                              95\n",
      "ict_index                                                      41.1\n",
      "clean_sheets                                                      3\n",
      "red_cards                                                         0\n",
      "yellow_cards                                                      1\n",
      "selected_by_percent                                             0.0\n",
      "year                                                           2020\n",
      "transfermarkt_player_id                                        1460\n",
      "date_stamp                                      2020-02-27 00:00:00\n",
      "player_value                                                7000000\n",
      "player_club                                    West Bromwich Albion\n",
      "player_url                      /matt-phillips/profil/spieler/77274\n",
      "age                                                              23\n",
      "predicted_value                                      7399851.111224\n",
      "predicted_value_diff                                  399851.111224\n",
      "predicted_value_diff_percent                               5.712159\n",
      "Name: 583, dtype: object}\n"
     ]
    }
   ],
   "source": [
    "columns = forwards_2020_young_sorted.columns\n",
    "perspective_players = get_players_with_higher_predicted_value(forwards_2020_young_sorted, 5, 400)\n",
    "print(perspective_players)\n",
    "perspective_players_df = pd.DataFrame(columns=columns)\n",
    "\n",
    "for k in perspective_players.keys():\n",
    "    perspective_players_df = perspective_players_df.append(perspective_players[k])"
   ]
  },
  {
   "cell_type": "code",
   "execution_count": 37,
   "id": "short-yorkshire",
   "metadata": {},
   "outputs": [
    {
     "data": {
      "text/plain": "     first_name    second_name  guid   id player_id_transfermarkt  \\\n23      Dominic  Calvert-Lewin   594  529                     855   \n1114    Kelechi      Iheanacho   240   47                      77   \n583      Karlan          Grant  1004  980                    1460   \n\n     player_id_fpl player_name_transfermarkt            player_name  \\\n23             594     Dominic Calvert-Lewin  Dominic Calvert-Lewin   \n1114           240         Kelechi Iheanacho      Kelechi Iheanacho   \n583           1004              Karlan Grant           Karlan Grant   \n\n            date_of_birth player_position  ...  year transfermarkt_player_id  \\\n23    1997-03-16 00:00:00  Centre-Forward  ...  2020                     855   \n1114  1996-10-03 00:00:00  Centre-Forward  ...  2020                      77   \n583   1997-09-18 00:00:00  Centre-Forward  ...  2020                    1460   \n\n               date_stamp player_value           player_club  \\\n23    2020-04-08 00:00:00     20000000            Chelsea FC   \n1114  2020-03-09 00:00:00     15000000        Leicester City   \n583   2020-02-27 00:00:00      7000000  West Bromwich Albion   \n\n                                    player_url  age  predicted_value  \\\n23        /marcos-alonso/profil/spieler/112515   23     2.797602e+07   \n1114  /kelechi-iheanacho/profil/spieler/295330   24     2.296605e+07   \n583        /matt-phillips/profil/spieler/77274   23     7.399851e+06   \n\n      predicted_value_diff predicted_value_diff_percent  \n23            7.976021e+06                    39.880106  \n1114          7.966046e+06                    53.106975  \n583           3.998511e+05                     5.712159  \n\n[3 rows x 36 columns]",
      "text/html": "<div>\n<style scoped>\n    .dataframe tbody tr th:only-of-type {\n        vertical-align: middle;\n    }\n\n    .dataframe tbody tr th {\n        vertical-align: top;\n    }\n\n    .dataframe thead th {\n        text-align: right;\n    }\n</style>\n<table border=\"1\" class=\"dataframe\">\n  <thead>\n    <tr style=\"text-align: right;\">\n      <th></th>\n      <th>first_name</th>\n      <th>second_name</th>\n      <th>guid</th>\n      <th>id</th>\n      <th>player_id_transfermarkt</th>\n      <th>player_id_fpl</th>\n      <th>player_name_transfermarkt</th>\n      <th>player_name</th>\n      <th>date_of_birth</th>\n      <th>player_position</th>\n      <th>...</th>\n      <th>year</th>\n      <th>transfermarkt_player_id</th>\n      <th>date_stamp</th>\n      <th>player_value</th>\n      <th>player_club</th>\n      <th>player_url</th>\n      <th>age</th>\n      <th>predicted_value</th>\n      <th>predicted_value_diff</th>\n      <th>predicted_value_diff_percent</th>\n    </tr>\n  </thead>\n  <tbody>\n    <tr>\n      <th>23</th>\n      <td>Dominic</td>\n      <td>Calvert-Lewin</td>\n      <td>594</td>\n      <td>529</td>\n      <td>855</td>\n      <td>594</td>\n      <td>Dominic Calvert-Lewin</td>\n      <td>Dominic Calvert-Lewin</td>\n      <td>1997-03-16 00:00:00</td>\n      <td>Centre-Forward</td>\n      <td>...</td>\n      <td>2020</td>\n      <td>855</td>\n      <td>2020-04-08 00:00:00</td>\n      <td>20000000</td>\n      <td>Chelsea FC</td>\n      <td>/marcos-alonso/profil/spieler/112515</td>\n      <td>23</td>\n      <td>2.797602e+07</td>\n      <td>7.976021e+06</td>\n      <td>39.880106</td>\n    </tr>\n    <tr>\n      <th>1114</th>\n      <td>Kelechi</td>\n      <td>Iheanacho</td>\n      <td>240</td>\n      <td>47</td>\n      <td>77</td>\n      <td>240</td>\n      <td>Kelechi Iheanacho</td>\n      <td>Kelechi Iheanacho</td>\n      <td>1996-10-03 00:00:00</td>\n      <td>Centre-Forward</td>\n      <td>...</td>\n      <td>2020</td>\n      <td>77</td>\n      <td>2020-03-09 00:00:00</td>\n      <td>15000000</td>\n      <td>Leicester City</td>\n      <td>/kelechi-iheanacho/profil/spieler/295330</td>\n      <td>24</td>\n      <td>2.296605e+07</td>\n      <td>7.966046e+06</td>\n      <td>53.106975</td>\n    </tr>\n    <tr>\n      <th>583</th>\n      <td>Karlan</td>\n      <td>Grant</td>\n      <td>1004</td>\n      <td>980</td>\n      <td>1460</td>\n      <td>1004</td>\n      <td>Karlan Grant</td>\n      <td>Karlan Grant</td>\n      <td>1997-09-18 00:00:00</td>\n      <td>Centre-Forward</td>\n      <td>...</td>\n      <td>2020</td>\n      <td>1460</td>\n      <td>2020-02-27 00:00:00</td>\n      <td>7000000</td>\n      <td>West Bromwich Albion</td>\n      <td>/matt-phillips/profil/spieler/77274</td>\n      <td>23</td>\n      <td>7.399851e+06</td>\n      <td>3.998511e+05</td>\n      <td>5.712159</td>\n    </tr>\n  </tbody>\n</table>\n<p>3 rows × 36 columns</p>\n</div>"
     },
     "execution_count": 37,
     "metadata": {},
     "output_type": "execute_result"
    }
   ],
   "source": [
    "perspective_players_df"
   ]
  },
  {
   "cell_type": "markdown",
   "id": "plastic-explosion",
   "metadata": {},
   "source": [
    "#### Finding similar players to found perspective players"
   ]
  },
  {
   "cell_type": "code",
   "execution_count": null,
   "id": "medieval-violin",
   "metadata": {},
   "outputs": [],
   "source": [
    "players_stats_2020 = pd.read_sql_query(\"SELECT * from player_statistics as p \" + \\\n",
    "                                        \"WHERE p.year = {}\".format(2020), cnx)\n",
    "players_stats_2020.columns\n",
    "player_names = players_stats_2020.iloc[:, [0, 1, 2, -2, -1]]\n",
    "player_data = players_stats_2020.iloc[:, 3:-2]\n",
    "print(player_names)\n",
    "print(player_data)\n",
    "print(player_data.columns)"
   ]
  },
  {
   "cell_type": "code",
   "execution_count": null,
   "id": "latest-pepper",
   "metadata": {},
   "outputs": [],
   "source": [
    "from sklearn import preprocessing\n",
    "\n",
    "x = player_data.values #returns a numpy array\n",
    "standard_scaler = preprocessing.StandardScaler()\n",
    "x_scaled = standard_scaler.fit_transform(x)\n",
    "df = pd.DataFrame(x_scaled)\n",
    "df"
   ]
  },
  {
   "cell_type": "code",
   "execution_count": null,
   "id": "difficult-bernard",
   "metadata": {},
   "outputs": [],
   "source": [
    "def get_index_for_player_guid(players, guid):\n",
    "    player_id = players[(players['guid'] == guid)].index\n",
    "    print(player_id)\n",
    "    return player_id\n",
    "\n",
    "\n",
    "from scipy.spatial import distance\n",
    "def get_player_row(player_data, index):\n",
    "    return player_data.iloc[index, :]\n",
    "\n",
    "def get_distances_for_player(player_data, player):\n",
    "    distances = dict()\n",
    "    for index, row in player_data.iterrows():\n",
    "        dist = distance.euclidean(player, row)\n",
    "        distances[index] = dist\n",
    "    return distances\n",
    "\n",
    "\n",
    "def sort_dict_by_value(distances):\n",
    "    return sorted(distances.items(), key=lambda x: x[1])"
   ]
  },
  {
   "cell_type": "code",
   "execution_count": null,
   "id": "hundred-maintenance",
   "metadata": {},
   "outputs": [],
   "source": [
    "def divide_dataframe(players):\n",
    "    names = players.iloc[:, [0, 1, 2, -2, -1]]\n",
    "    stats = players.iloc[:, 3:-2]\n",
    "    return names, stats\n",
    "\n",
    "def find_closest_players_for_player_in_season(neighbours_season, players_df, guid, n=5):\n",
    "    cnx = sqlite3.connect('Database/fpa-database-fix.db')\n",
    "    counter = 0\n",
    "    index  = get_index_for_player_guid(players_df, guid)\n",
    "        \n",
    "    possible_neighbours = pd.read_sql_query(\"SELECT * from player_statistics as p \" + \\\n",
    "                                        \"WHERE p.year = {}\".format(neighbours_season), cnx)\n",
    "    \n",
    "    possible_neighbours_names, possible_neighbours_stats = divide_dataframe(possible_neighbours)\n",
    "    names, stats = divide_dataframe(players_df)\n",
    "    \n",
    "    \n",
    "    try:\n",
    "        index = index.tolist()[0]\n",
    "    except:\n",
    "        return dict()\n",
    "    \n",
    "    player_data = names.iloc[index, :]\n",
    "    print(player_data)\n",
    "    \n",
    "    player_row = get_player_row(stats, index)\n",
    "    distances = get_distances_for_player(possible_neighbours_stats, player_row)\n",
    "    distances = sort_dict_by_value(distances)\n",
    "    neighbours = dict()\n",
    "    \n",
    "    for i in range(1, len(distances)):\n",
    "        ind = distances[i][0]\n",
    "        player_data = (possible_neighbours_names.iloc[ind, :])\n",
    "        neighbours[ind] = player_data\n",
    "        counter = counter + 1 \n",
    "        if counter == n:\n",
    "            return neighbours"
   ]
  },
  {
   "cell_type": "code",
   "execution_count": null,
   "id": "governmental-herald",
   "metadata": {},
   "outputs": [],
   "source": [
    "def get_guid_for_player(dataframe, first_name, second_name ):\n",
    "    try:\n",
    "        player = players_with_values[(dataframe['first_name'] == first_name) & (dataframe['second_name'] == second_name)]\n",
    "        player_guid = player['guid'].values[0]\n",
    "        return player_guid\n",
    "    except:\n",
    "        raise PlayerNotFound()\n",
    "    \n",
    "class PlayerNotFound(Exception):\n",
    "    pass"
   ]
  },
  {
   "cell_type": "code",
   "execution_count": null,
   "id": "stainless-layout",
   "metadata": {},
   "outputs": [],
   "source": [
    "try:\n",
    "    guid = get_guid_for_player(players_with_values, 'Josh', 'Maja')\n",
    "    print(guid)\n",
    "    closest_players = find_closest_players_for_player_in_season(2020, players_stats_2020, guid=guid)\n",
    "    print(closest_players)\n",
    "except PlayerNotFound:\n",
    "    print('Player not found')"
   ]
  },
  {
   "cell_type": "markdown",
   "id": "human-protection",
   "metadata": {},
   "source": [
    "#### Wingers"
   ]
  },
  {
   "cell_type": "code",
   "execution_count": null,
   "id": "immediate-tracy",
   "metadata": {},
   "outputs": [],
   "source": [
    "import numpy as np\n",
    "import seaborn as sn\n",
    "import matplotlib.pyplot as plt\n",
    "corr = wingers.corr()\n",
    "wingers_corr = corr['player_value']\n",
    "wingers_corr = wingers_corr.sort_values(ascending=False)\n",
    "print(wingers_corr)\n",
    "wingers_corr.keys()"
   ]
  },
  {
   "cell_type": "code",
   "execution_count": null,
   "id": "blessed-graphics",
   "metadata": {},
   "outputs": [],
   "source": [
    "wingers_training_parametes = ['threat', 'goals_scored', 'ict_index',\n",
    "       'total_points', 'influence', 'bonus']\n",
    "target = 'player_value'\n",
    "wingers_fit = fit_linear_regression(wingers, wingers_training_parametes , target)\n",
    "\n",
    "predicted_value = wingers_fit.predict(wingers[wingers_training_parametes])\n",
    "predicted_value"
   ]
  },
  {
   "cell_type": "code",
   "execution_count": null,
   "id": "piano-education",
   "metadata": {},
   "outputs": [],
   "source": [
    "wingers['predicted_value'] = predicted_value\n",
    "get_predicted_value_diff(wingers)\n",
    "wingers.sort_values('predicted_value_diff', ascending=False)"
   ]
  },
  {
   "cell_type": "markdown",
   "id": "multiple-notification",
   "metadata": {},
   "source": [
    "#### Finding perspective young wingers in current season"
   ]
  },
  {
   "cell_type": "code",
   "execution_count": null,
   "id": "alone-scene",
   "metadata": {},
   "outputs": [],
   "source": [
    "wingers_2020_young = get_player_for_given_season(wingers, season=2020, max_age=26)\n",
    "wingers_2020_young_sorted = wingers_2020_young.sort_values('predicted_value_diff_percent', ascending=False)\n",
    "wingers_2020_young_sorted.iloc[0:60, :]"
   ]
  },
  {
   "cell_type": "code",
   "execution_count": null,
   "id": "environmental-earthquake",
   "metadata": {},
   "outputs": [],
   "source": [
    "plt.scatter(wingers_2020_young_sorted['player_value'], wingers_2020_young_sorted['predicted_value_diff_percent'])\n",
    "plt.title('Difference between predicted and real value')\n",
    "plt.xlabel('Player value')\n",
    "plt.ylabel('Predicted value /player value (%)')"
   ]
  },
  {
   "cell_type": "code",
   "execution_count": null,
   "id": "continental-delta",
   "metadata": {},
   "outputs": [],
   "source": [
    "columns = wingers_2020_young_sorted.columns\n",
    "perspective_wingers = get_players_with_higher_predicted_value(wingers_2020_young_sorted, 5, 800)\n",
    "print(perspective_wingers)\n",
    "perspective_wingers_df = pd.DataFrame(columns=columns)\n",
    "\n",
    "for k in perspective_wingers.keys():\n",
    "    perspective_wingers_df = perspective_wingers_df.append(perspective_wingers[k])"
   ]
  },
  {
   "cell_type": "code",
   "execution_count": null,
   "id": "injured-february",
   "metadata": {},
   "outputs": [],
   "source": [
    "perspective_wingers_df"
   ]
  },
  {
   "cell_type": "markdown",
   "id": "robust-samoa",
   "metadata": {},
   "source": [
    "#### Finding similar players"
   ]
  },
  {
   "cell_type": "code",
   "execution_count": null,
   "id": "confirmed-valley",
   "metadata": {},
   "outputs": [],
   "source": [
    "try:\n",
    "    guid = get_guid_for_player(players_with_values, 'Bukayo' , 'Saka')\n",
    "    print(guid)\n",
    "    closest_players = find_closest_players_for_player_in_season(2020, players_stats_2020, guid=guid)\n",
    "    print(closest_players)\n",
    "except PlayerNotFound:\n",
    "    print('Player not found')"
   ]
  },
  {
   "cell_type": "code",
   "execution_count": null,
   "id": "floppy-tooth",
   "metadata": {},
   "outputs": [],
   "source": [
    "for p in closest_players.values():\n",
    "    print(players_with_values[(players_with_values['guid'] == p['guid']) & (players_with_values['year'] == 2020)])"
   ]
  },
  {
   "cell_type": "markdown",
   "id": "seventh-avenue",
   "metadata": {},
   "source": [
    "#### Midfielders"
   ]
  },
  {
   "cell_type": "code",
   "execution_count": null,
   "id": "classical-rainbow",
   "metadata": {},
   "outputs": [],
   "source": [
    "import numpy as np\n",
    "import seaborn as sn\n",
    "import matplotlib.pyplot as plt\n",
    "corr = midfielders.corr()\n",
    "midfielders_corr = corr['player_value']\n",
    "\n",
    "midfielders_corr = midfielders_corr.sort_values(ascending=False)\n",
    "print(midfielders_corr)\n",
    "print(midfielders_corr.keys())"
   ]
  },
  {
   "cell_type": "code",
   "execution_count": null,
   "id": "verified-bankruptcy",
   "metadata": {},
   "outputs": [],
   "source": [
    "midfielders_training_parametes = ['ict_index', 'assists', 'creativity',\n",
    "       'selected_by_percent', 'influence', 'total_points',]\n",
    "target = 'player_value'\n",
    "midfielders_fit = fit_linear_regression(midfielders, midfielders_training_parametes , target)\n",
    "\n",
    "predicted_value = midfielders_fit.predict(midfielders[midfielders_training_parametes])\n",
    "predicted_value"
   ]
  },
  {
   "cell_type": "code",
   "execution_count": null,
   "id": "relevant-proposition",
   "metadata": {},
   "outputs": [],
   "source": [
    "midfielders['predicted_value'] = predicted_value\n",
    "get_predicted_value_diff(midfielders)\n",
    "midfielders.sort_values('predicted_value_diff', ascending=False)"
   ]
  },
  {
   "cell_type": "code",
   "execution_count": null,
   "id": "ecological-wallace",
   "metadata": {
    "scrolled": false
   },
   "outputs": [],
   "source": [
    "midfielders_2020_young = get_player_for_given_season(midfielders, season=2020, max_age=26)\n",
    "midfielders_2020_young = midfielders_2020_young[(midfielders_2020_young['predicted_value_diff_percent'] < 1000)]\n",
    "midfielders_2020_young_sorted = midfielders_2020_young.sort_values('predicted_value_diff_percent', ascending=False)\n",
    "midfielders_2020_young_sorted.iloc[0:60, :]"
   ]
  },
  {
   "cell_type": "code",
   "execution_count": null,
   "id": "overall-inside",
   "metadata": {},
   "outputs": [],
   "source": [
    "plt.scatter(midfielders_2020_young_sorted['player_value'], midfielders_2020_young_sorted['predicted_value_diff_percent'])\n",
    "plt.title('Difference between predicted and real value')\n",
    "plt.xlabel('Player value')\n",
    "plt.ylabel('Predicted value /player value (%)')"
   ]
  },
  {
   "cell_type": "markdown",
   "id": "confident-enemy",
   "metadata": {},
   "source": [
    "#### Finding perspective midfielders in current season"
   ]
  },
  {
   "cell_type": "code",
   "execution_count": null,
   "id": "natural-wright",
   "metadata": {},
   "outputs": [],
   "source": [
    "columns = midfielders_2020_young_sorted.columns\n",
    "perspective_midfielders = get_players_with_higher_predicted_value(midfielders_2020_young_sorted, 5, 500)\n",
    "perspective_midfielders_df = pd.DataFrame(columns=columns)\n",
    "\n",
    "for k in perspective_midfielders.keys():\n",
    "    perspective_midfielders_df = perspective_midfielders_df.append(perspective_midfielders[k])"
   ]
  },
  {
   "cell_type": "code",
   "execution_count": null,
   "id": "complicated-pressure",
   "metadata": {},
   "outputs": [],
   "source": [
    "perspective_midfielders_df"
   ]
  },
  {
   "cell_type": "markdown",
   "id": "charitable-zimbabwe",
   "metadata": {},
   "source": [
    "#### Find similar players"
   ]
  },
  {
   "cell_type": "code",
   "execution_count": null,
   "id": "amino-generic",
   "metadata": {},
   "outputs": [],
   "source": [
    "try:\n",
    "    guid = get_guid_for_player(players_with_values, 'Phil' , 'Foden')\n",
    "    print(guid)\n",
    "    closest_players = find_closest_players_for_player_in_season(2016, players_stats_2020, guid=guid)\n",
    "    print(closest_players)\n",
    "except PlayerNotFound:\n",
    "    print('Player not found')"
   ]
  },
  {
   "cell_type": "code",
   "execution_count": null,
   "id": "civil-bookmark",
   "metadata": {},
   "outputs": [],
   "source": []
  }
 ],
 "metadata": {
  "kernelspec": {
   "display_name": "Python 3",
   "language": "python",
   "name": "python3"
  },
  "language_info": {
   "codemirror_mode": {
    "name": "ipython",
    "version": 3
   },
   "file_extension": ".py",
   "mimetype": "text/x-python",
   "name": "python",
   "nbconvert_exporter": "python",
   "pygments_lexer": "ipython3",
   "version": "3.7.2"
  }
 },
 "nbformat": 4,
 "nbformat_minor": 5
}